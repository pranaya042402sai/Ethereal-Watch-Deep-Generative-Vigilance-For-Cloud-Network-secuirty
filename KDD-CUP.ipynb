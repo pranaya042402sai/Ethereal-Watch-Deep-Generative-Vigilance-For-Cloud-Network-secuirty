{
 "cells": [
  {
   "cell_type": "code",
   "execution_count": 1,
   "metadata": {},
   "outputs": [],
   "source": [
    "import warnings\n",
    "warnings.filterwarnings('ignore')"
   ]
  },
  {
   "cell_type": "code",
   "execution_count": 2,
   "metadata": {},
   "outputs": [
    {
     "name": "stdout",
     "output_type": "stream",
     "text": [
      "1 Physical GPU, 2 Logical GPUs\n"
     ]
    }
   ],
   "source": [
    "import tensorflow as tf\n",
    "gpus = tf.config.list_physical_devices('GPU')\n",
    "if gpus:\n",
    "  # Create 2 virtual GPUs with 1GB memory each\n",
    "  try:\n",
    "    tf.config.set_logical_device_configuration(\n",
    "        gpus[0],\n",
    "        [tf.config.LogicalDeviceConfiguration(memory_limit=1024),\n",
    "         tf.config.LogicalDeviceConfiguration(memory_limit=1024)])\n",
    "    logical_gpus = tf.config.list_logical_devices('GPU')\n",
    "    print(len(gpus), \"Physical GPU,\", len(logical_gpus), \"Logical GPUs\")\n",
    "  except RuntimeError as e:\n",
    "    # Virtual devices must be set before GPUs have been initialized\n",
    "    print(e)"
   ]
  },
  {
   "cell_type": "code",
   "execution_count": 3,
   "metadata": {},
   "outputs": [],
   "source": [
    "import numpy as np\n",
    "import pandas as pd\n",
    "import pickle # saving and loading trained model\n",
    "from os import path\n",
    "\n",
    "# importing required libraries for normalizing data\n",
    "from sklearn import preprocessing\n",
    "from sklearn.preprocessing import (StandardScaler, OrdinalEncoder,LabelEncoder, MinMaxScaler, OneHotEncoder)\n",
    "from sklearn.preprocessing import Normalizer, MaxAbsScaler , RobustScaler, PowerTransformer\n",
    "\n",
    "# importing library for plotting\n",
    "import matplotlib.pyplot as plt\n",
    "import seaborn as sns\n",
    "\n",
    "from sklearn import metrics\n",
    "from sklearn.metrics import accuracy_score # for calculating accuracy of model\n",
    "from sklearn.model_selection import train_test_split # for splitting the dataset for training and testing\n",
    "from sklearn.metrics import classification_report # for generating a classification report of model\n",
    "\n",
    "from sklearn.metrics import precision_score\n",
    "from sklearn.metrics import recall_score\n",
    "from sklearn.metrics import f1_score"
   ]
  },
  {
   "cell_type": "code",
   "execution_count": 4,
   "metadata": {},
   "outputs": [],
   "source": [
    "train='Data/kdd_train.csv'\n",
    "\n",
    "train_data=pd.read_csv(train)"
   ]
  },
  {
   "cell_type": "code",
   "execution_count": 5,
   "metadata": {},
   "outputs": [
    {
     "data": {
      "text/html": [
       "<div>\n",
       "<style scoped>\n",
       "    .dataframe tbody tr th:only-of-type {\n",
       "        vertical-align: middle;\n",
       "    }\n",
       "\n",
       "    .dataframe tbody tr th {\n",
       "        vertical-align: top;\n",
       "    }\n",
       "\n",
       "    .dataframe thead th {\n",
       "        text-align: right;\n",
       "    }\n",
       "</style>\n",
       "<table border=\"1\" class=\"dataframe\">\n",
       "  <thead>\n",
       "    <tr style=\"text-align: right;\">\n",
       "      <th></th>\n",
       "      <th>duration</th>\n",
       "      <th>protocol_type</th>\n",
       "      <th>service</th>\n",
       "      <th>flag</th>\n",
       "      <th>src_bytes</th>\n",
       "      <th>dst_bytes</th>\n",
       "      <th>land</th>\n",
       "      <th>wrong_fragment</th>\n",
       "      <th>urgent</th>\n",
       "      <th>hot</th>\n",
       "      <th>...</th>\n",
       "      <th>dst_host_srv_count</th>\n",
       "      <th>dst_host_same_srv_rate</th>\n",
       "      <th>dst_host_diff_srv_rate</th>\n",
       "      <th>dst_host_same_src_port_rate</th>\n",
       "      <th>dst_host_srv_diff_host_rate</th>\n",
       "      <th>dst_host_serror_rate</th>\n",
       "      <th>dst_host_srv_serror_rate</th>\n",
       "      <th>dst_host_rerror_rate</th>\n",
       "      <th>dst_host_srv_rerror_rate</th>\n",
       "      <th>labels</th>\n",
       "    </tr>\n",
       "  </thead>\n",
       "  <tbody>\n",
       "    <tr>\n",
       "      <th>0</th>\n",
       "      <td>0</td>\n",
       "      <td>tcp</td>\n",
       "      <td>ftp_data</td>\n",
       "      <td>SF</td>\n",
       "      <td>491</td>\n",
       "      <td>0</td>\n",
       "      <td>0</td>\n",
       "      <td>0</td>\n",
       "      <td>0</td>\n",
       "      <td>0</td>\n",
       "      <td>...</td>\n",
       "      <td>25</td>\n",
       "      <td>0.17</td>\n",
       "      <td>0.03</td>\n",
       "      <td>0.17</td>\n",
       "      <td>0.00</td>\n",
       "      <td>0.00</td>\n",
       "      <td>0.00</td>\n",
       "      <td>0.05</td>\n",
       "      <td>0.00</td>\n",
       "      <td>normal</td>\n",
       "    </tr>\n",
       "    <tr>\n",
       "      <th>1</th>\n",
       "      <td>0</td>\n",
       "      <td>udp</td>\n",
       "      <td>other</td>\n",
       "      <td>SF</td>\n",
       "      <td>146</td>\n",
       "      <td>0</td>\n",
       "      <td>0</td>\n",
       "      <td>0</td>\n",
       "      <td>0</td>\n",
       "      <td>0</td>\n",
       "      <td>...</td>\n",
       "      <td>1</td>\n",
       "      <td>0.00</td>\n",
       "      <td>0.60</td>\n",
       "      <td>0.88</td>\n",
       "      <td>0.00</td>\n",
       "      <td>0.00</td>\n",
       "      <td>0.00</td>\n",
       "      <td>0.00</td>\n",
       "      <td>0.00</td>\n",
       "      <td>normal</td>\n",
       "    </tr>\n",
       "    <tr>\n",
       "      <th>2</th>\n",
       "      <td>0</td>\n",
       "      <td>tcp</td>\n",
       "      <td>private</td>\n",
       "      <td>S0</td>\n",
       "      <td>0</td>\n",
       "      <td>0</td>\n",
       "      <td>0</td>\n",
       "      <td>0</td>\n",
       "      <td>0</td>\n",
       "      <td>0</td>\n",
       "      <td>...</td>\n",
       "      <td>26</td>\n",
       "      <td>0.10</td>\n",
       "      <td>0.05</td>\n",
       "      <td>0.00</td>\n",
       "      <td>0.00</td>\n",
       "      <td>1.00</td>\n",
       "      <td>1.00</td>\n",
       "      <td>0.00</td>\n",
       "      <td>0.00</td>\n",
       "      <td>neptune</td>\n",
       "    </tr>\n",
       "    <tr>\n",
       "      <th>3</th>\n",
       "      <td>0</td>\n",
       "      <td>tcp</td>\n",
       "      <td>http</td>\n",
       "      <td>SF</td>\n",
       "      <td>232</td>\n",
       "      <td>8153</td>\n",
       "      <td>0</td>\n",
       "      <td>0</td>\n",
       "      <td>0</td>\n",
       "      <td>0</td>\n",
       "      <td>...</td>\n",
       "      <td>255</td>\n",
       "      <td>1.00</td>\n",
       "      <td>0.00</td>\n",
       "      <td>0.03</td>\n",
       "      <td>0.04</td>\n",
       "      <td>0.03</td>\n",
       "      <td>0.01</td>\n",
       "      <td>0.00</td>\n",
       "      <td>0.01</td>\n",
       "      <td>normal</td>\n",
       "    </tr>\n",
       "    <tr>\n",
       "      <th>4</th>\n",
       "      <td>0</td>\n",
       "      <td>tcp</td>\n",
       "      <td>http</td>\n",
       "      <td>SF</td>\n",
       "      <td>199</td>\n",
       "      <td>420</td>\n",
       "      <td>0</td>\n",
       "      <td>0</td>\n",
       "      <td>0</td>\n",
       "      <td>0</td>\n",
       "      <td>...</td>\n",
       "      <td>255</td>\n",
       "      <td>1.00</td>\n",
       "      <td>0.00</td>\n",
       "      <td>0.00</td>\n",
       "      <td>0.00</td>\n",
       "      <td>0.00</td>\n",
       "      <td>0.00</td>\n",
       "      <td>0.00</td>\n",
       "      <td>0.00</td>\n",
       "      <td>normal</td>\n",
       "    </tr>\n",
       "  </tbody>\n",
       "</table>\n",
       "<p>5 rows × 42 columns</p>\n",
       "</div>"
      ],
      "text/plain": [
       "   duration protocol_type   service flag  src_bytes  dst_bytes  land  \\\n",
       "0         0           tcp  ftp_data   SF        491          0     0   \n",
       "1         0           udp     other   SF        146          0     0   \n",
       "2         0           tcp   private   S0          0          0     0   \n",
       "3         0           tcp      http   SF        232       8153     0   \n",
       "4         0           tcp      http   SF        199        420     0   \n",
       "\n",
       "   wrong_fragment  urgent  hot  ...  dst_host_srv_count  \\\n",
       "0               0       0    0  ...                  25   \n",
       "1               0       0    0  ...                   1   \n",
       "2               0       0    0  ...                  26   \n",
       "3               0       0    0  ...                 255   \n",
       "4               0       0    0  ...                 255   \n",
       "\n",
       "   dst_host_same_srv_rate  dst_host_diff_srv_rate  \\\n",
       "0                    0.17                    0.03   \n",
       "1                    0.00                    0.60   \n",
       "2                    0.10                    0.05   \n",
       "3                    1.00                    0.00   \n",
       "4                    1.00                    0.00   \n",
       "\n",
       "   dst_host_same_src_port_rate  dst_host_srv_diff_host_rate  \\\n",
       "0                         0.17                         0.00   \n",
       "1                         0.88                         0.00   \n",
       "2                         0.00                         0.00   \n",
       "3                         0.03                         0.04   \n",
       "4                         0.00                         0.00   \n",
       "\n",
       "   dst_host_serror_rate  dst_host_srv_serror_rate  dst_host_rerror_rate  \\\n",
       "0                  0.00                      0.00                  0.05   \n",
       "1                  0.00                      0.00                  0.00   \n",
       "2                  1.00                      1.00                  0.00   \n",
       "3                  0.03                      0.01                  0.00   \n",
       "4                  0.00                      0.00                  0.00   \n",
       "\n",
       "   dst_host_srv_rerror_rate   labels  \n",
       "0                      0.00   normal  \n",
       "1                      0.00   normal  \n",
       "2                      0.00  neptune  \n",
       "3                      0.01   normal  \n",
       "4                      0.00   normal  \n",
       "\n",
       "[5 rows x 42 columns]"
      ]
     },
     "execution_count": 5,
     "metadata": {},
     "output_type": "execute_result"
    }
   ],
   "source": [
    "train_data.head()"
   ]
  },
  {
   "cell_type": "code",
   "execution_count": 6,
   "metadata": {},
   "outputs": [
    {
     "data": {
      "text/plain": [
       "(125973, 42)"
      ]
     },
     "execution_count": 6,
     "metadata": {},
     "output_type": "execute_result"
    }
   ],
   "source": [
    "train_data.shape"
   ]
  },
  {
   "cell_type": "code",
   "execution_count": 7,
   "metadata": {},
   "outputs": [
    {
     "data": {
      "text/plain": [
       "normal             67343\n",
       "neptune            41214\n",
       "satan               3633\n",
       "ipsweep             3599\n",
       "portsweep           2931\n",
       "smurf               2646\n",
       "nmap                1493\n",
       "back                 956\n",
       "teardrop             892\n",
       "warezclient          890\n",
       "pod                  201\n",
       "guess_passwd          53\n",
       "buffer_overflow       30\n",
       "warezmaster           20\n",
       "land                  18\n",
       "imap                  11\n",
       "rootkit               10\n",
       "loadmodule             9\n",
       "ftp_write              8\n",
       "multihop               7\n",
       "phf                    4\n",
       "perl                   3\n",
       "spy                    2\n",
       "Name: labels, dtype: int64"
      ]
     },
     "execution_count": 7,
     "metadata": {},
     "output_type": "execute_result"
    }
   ],
   "source": [
    "# number of attack labels \n",
    "train_data['labels'].value_counts()"
   ]
  },
  {
   "cell_type": "code",
   "execution_count": 8,
   "metadata": {},
   "outputs": [],
   "source": [
    "def change_label(df):\n",
    "  df.labels.replace(['apache2','back','land','neptune','mailbomb','pod','processtable','smurf','teardrop','udpstorm','worm'],'Dos',inplace=True)\n",
    "  df.labels.replace(['ftp_write','guess_passwd','httptunnel','imap','multihop','named','phf','sendmail','snmpgetattack','snmpguess','spy','warezclient','warezmaster','xlock','xsnoop'],'R2L',inplace=True)      \n",
    "  df.labels.replace(['ipsweep','mscan','nmap','portsweep','saint','satan'],'Probe',inplace=True)\n",
    "  df.labels.replace(['buffer_overflow','loadmodule','perl','ps','rootkit','sqlattack','xterm'],'U2R',inplace=True)"
   ]
  },
  {
   "cell_type": "code",
   "execution_count": 9,
   "metadata": {},
   "outputs": [],
   "source": [
    "change_label(train_data)"
   ]
  },
  {
   "cell_type": "code",
   "execution_count": 10,
   "metadata": {},
   "outputs": [],
   "source": [
    "train_data = train_data[0:10000]"
   ]
  },
  {
   "cell_type": "code",
   "execution_count": 11,
   "metadata": {},
   "outputs": [
    {
     "data": {
      "text/plain": [
       "normal    5292\n",
       "Dos       3716\n",
       "Probe      907\n",
       "R2L         81\n",
       "U2R          4\n",
       "Name: labels, dtype: int64"
      ]
     },
     "execution_count": 11,
     "metadata": {},
     "output_type": "execute_result"
    }
   ],
   "source": [
    "# distribution of attack classes\n",
    "train_data.labels.value_counts()"
   ]
  },
  {
   "cell_type": "code",
   "execution_count": 12,
   "metadata": {},
   "outputs": [],
   "source": [
    "# creating a dataframe with multi-class labels (Dos,Probe,R2L,U2R,normal)\n",
    "multi_data = train_data.copy()\n",
    "multi_label = pd.DataFrame(multi_data.labels)"
   ]
  },
  {
   "cell_type": "code",
   "execution_count": 13,
   "metadata": {},
   "outputs": [],
   "source": [
    "# using standard scaler for normalizing\n",
    "std_scaler = StandardScaler()\n",
    "def standardization(df,col):\n",
    "  for i in col:\n",
    "    arr = df[i]\n",
    "    arr = np.array(arr)\n",
    "    df[i] = std_scaler.fit_transform(arr.reshape(len(arr),1))\n",
    "  return df\n",
    "\n",
    "numeric_col = multi_data.select_dtypes(include='number').columns\n",
    "data = standardization(multi_data,numeric_col)"
   ]
  },
  {
   "cell_type": "code",
   "execution_count": 14,
   "metadata": {},
   "outputs": [
    {
     "data": {
      "text/html": [
       "<div>\n",
       "<style scoped>\n",
       "    .dataframe tbody tr th:only-of-type {\n",
       "        vertical-align: middle;\n",
       "    }\n",
       "\n",
       "    .dataframe tbody tr th {\n",
       "        vertical-align: top;\n",
       "    }\n",
       "\n",
       "    .dataframe thead th {\n",
       "        text-align: right;\n",
       "    }\n",
       "</style>\n",
       "<table border=\"1\" class=\"dataframe\">\n",
       "  <thead>\n",
       "    <tr style=\"text-align: right;\">\n",
       "      <th></th>\n",
       "      <th>duration</th>\n",
       "      <th>protocol_type</th>\n",
       "      <th>service</th>\n",
       "      <th>flag</th>\n",
       "      <th>src_bytes</th>\n",
       "      <th>dst_bytes</th>\n",
       "      <th>land</th>\n",
       "      <th>wrong_fragment</th>\n",
       "      <th>urgent</th>\n",
       "      <th>hot</th>\n",
       "      <th>...</th>\n",
       "      <th>dst_host_same_srv_rate</th>\n",
       "      <th>dst_host_diff_srv_rate</th>\n",
       "      <th>dst_host_same_src_port_rate</th>\n",
       "      <th>dst_host_srv_diff_host_rate</th>\n",
       "      <th>dst_host_serror_rate</th>\n",
       "      <th>dst_host_srv_serror_rate</th>\n",
       "      <th>dst_host_rerror_rate</th>\n",
       "      <th>dst_host_srv_rerror_rate</th>\n",
       "      <th>labels</th>\n",
       "      <th>intrusion</th>\n",
       "    </tr>\n",
       "  </thead>\n",
       "  <tbody>\n",
       "    <tr>\n",
       "      <th>0</th>\n",
       "      <td>-0.114</td>\n",
       "      <td>tcp</td>\n",
       "      <td>ftp_data</td>\n",
       "      <td>SF</td>\n",
       "      <td>-0.012415</td>\n",
       "      <td>-0.038881</td>\n",
       "      <td>0.0</td>\n",
       "      <td>-0.096529</td>\n",
       "      <td>-0.010001</td>\n",
       "      <td>-0.090616</td>\n",
       "      <td>...</td>\n",
       "      <td>-0.762204</td>\n",
       "      <td>-0.286252</td>\n",
       "      <td>0.068685</td>\n",
       "      <td>-0.285355</td>\n",
       "      <td>-0.649655</td>\n",
       "      <td>-0.635631</td>\n",
       "      <td>-0.220111</td>\n",
       "      <td>-0.373724</td>\n",
       "      <td>normal</td>\n",
       "      <td>4</td>\n",
       "    </tr>\n",
       "    <tr>\n",
       "      <th>1</th>\n",
       "      <td>-0.114</td>\n",
       "      <td>udp</td>\n",
       "      <td>other</td>\n",
       "      <td>SF</td>\n",
       "      <td>-0.012505</td>\n",
       "      <td>-0.038881</td>\n",
       "      <td>0.0</td>\n",
       "      <td>-0.096529</td>\n",
       "      <td>-0.010001</td>\n",
       "      <td>-0.090616</td>\n",
       "      <td>...</td>\n",
       "      <td>-1.140767</td>\n",
       "      <td>2.806543</td>\n",
       "      <td>2.364982</td>\n",
       "      <td>-0.285355</td>\n",
       "      <td>-0.649655</td>\n",
       "      <td>-0.635631</td>\n",
       "      <td>-0.384329</td>\n",
       "      <td>-0.373724</td>\n",
       "      <td>normal</td>\n",
       "      <td>4</td>\n",
       "    </tr>\n",
       "    <tr>\n",
       "      <th>2</th>\n",
       "      <td>-0.114</td>\n",
       "      <td>tcp</td>\n",
       "      <td>private</td>\n",
       "      <td>S0</td>\n",
       "      <td>-0.012544</td>\n",
       "      <td>-0.038881</td>\n",
       "      <td>0.0</td>\n",
       "      <td>-0.096529</td>\n",
       "      <td>-0.010001</td>\n",
       "      <td>-0.090616</td>\n",
       "      <td>...</td>\n",
       "      <td>-0.918083</td>\n",
       "      <td>-0.177733</td>\n",
       "      <td>-0.481132</td>\n",
       "      <td>-0.285355</td>\n",
       "      <td>1.582292</td>\n",
       "      <td>1.592840</td>\n",
       "      <td>-0.384329</td>\n",
       "      <td>-0.373724</td>\n",
       "      <td>Dos</td>\n",
       "      <td>0</td>\n",
       "    </tr>\n",
       "    <tr>\n",
       "      <th>3</th>\n",
       "      <td>-0.114</td>\n",
       "      <td>tcp</td>\n",
       "      <td>http</td>\n",
       "      <td>SF</td>\n",
       "      <td>-0.012483</td>\n",
       "      <td>0.037581</td>\n",
       "      <td>0.0</td>\n",
       "      <td>-0.096529</td>\n",
       "      <td>-0.010001</td>\n",
       "      <td>-0.090616</td>\n",
       "      <td>...</td>\n",
       "      <td>1.086076</td>\n",
       "      <td>-0.449030</td>\n",
       "      <td>-0.384106</td>\n",
       "      <td>0.079479</td>\n",
       "      <td>-0.582697</td>\n",
       "      <td>-0.613347</td>\n",
       "      <td>-0.384329</td>\n",
       "      <td>-0.342206</td>\n",
       "      <td>normal</td>\n",
       "      <td>4</td>\n",
       "    </tr>\n",
       "    <tr>\n",
       "      <th>4</th>\n",
       "      <td>-0.114</td>\n",
       "      <td>tcp</td>\n",
       "      <td>http</td>\n",
       "      <td>SF</td>\n",
       "      <td>-0.012491</td>\n",
       "      <td>-0.034942</td>\n",
       "      <td>0.0</td>\n",
       "      <td>-0.096529</td>\n",
       "      <td>-0.010001</td>\n",
       "      <td>-0.090616</td>\n",
       "      <td>...</td>\n",
       "      <td>1.086076</td>\n",
       "      <td>-0.449030</td>\n",
       "      <td>-0.481132</td>\n",
       "      <td>-0.285355</td>\n",
       "      <td>-0.649655</td>\n",
       "      <td>-0.635631</td>\n",
       "      <td>-0.384329</td>\n",
       "      <td>-0.373724</td>\n",
       "      <td>normal</td>\n",
       "      <td>4</td>\n",
       "    </tr>\n",
       "    <tr>\n",
       "      <th>...</th>\n",
       "      <td>...</td>\n",
       "      <td>...</td>\n",
       "      <td>...</td>\n",
       "      <td>...</td>\n",
       "      <td>...</td>\n",
       "      <td>...</td>\n",
       "      <td>...</td>\n",
       "      <td>...</td>\n",
       "      <td>...</td>\n",
       "      <td>...</td>\n",
       "      <td>...</td>\n",
       "      <td>...</td>\n",
       "      <td>...</td>\n",
       "      <td>...</td>\n",
       "      <td>...</td>\n",
       "      <td>...</td>\n",
       "      <td>...</td>\n",
       "      <td>...</td>\n",
       "      <td>...</td>\n",
       "      <td>...</td>\n",
       "      <td>...</td>\n",
       "    </tr>\n",
       "    <tr>\n",
       "      <th>9995</th>\n",
       "      <td>-0.114</td>\n",
       "      <td>tcp</td>\n",
       "      <td>uucp_path</td>\n",
       "      <td>S0</td>\n",
       "      <td>-0.012544</td>\n",
       "      <td>-0.038881</td>\n",
       "      <td>0.0</td>\n",
       "      <td>-0.096529</td>\n",
       "      <td>-0.010001</td>\n",
       "      <td>-0.090616</td>\n",
       "      <td>...</td>\n",
       "      <td>-1.096230</td>\n",
       "      <td>-0.123473</td>\n",
       "      <td>-0.481132</td>\n",
       "      <td>-0.285355</td>\n",
       "      <td>1.582292</td>\n",
       "      <td>1.592840</td>\n",
       "      <td>-0.384329</td>\n",
       "      <td>-0.373724</td>\n",
       "      <td>Dos</td>\n",
       "      <td>0</td>\n",
       "    </tr>\n",
       "    <tr>\n",
       "      <th>9996</th>\n",
       "      <td>-0.114</td>\n",
       "      <td>tcp</td>\n",
       "      <td>http</td>\n",
       "      <td>SF</td>\n",
       "      <td>-0.012484</td>\n",
       "      <td>-0.035898</td>\n",
       "      <td>0.0</td>\n",
       "      <td>-0.096529</td>\n",
       "      <td>-0.010001</td>\n",
       "      <td>-0.090616</td>\n",
       "      <td>...</td>\n",
       "      <td>1.086076</td>\n",
       "      <td>-0.449030</td>\n",
       "      <td>-0.481132</td>\n",
       "      <td>-0.285355</td>\n",
       "      <td>-0.649655</td>\n",
       "      <td>-0.635631</td>\n",
       "      <td>-0.384329</td>\n",
       "      <td>-0.373724</td>\n",
       "      <td>normal</td>\n",
       "      <td>4</td>\n",
       "    </tr>\n",
       "    <tr>\n",
       "      <th>9997</th>\n",
       "      <td>-0.114</td>\n",
       "      <td>udp</td>\n",
       "      <td>domain_u</td>\n",
       "      <td>SF</td>\n",
       "      <td>-0.012532</td>\n",
       "      <td>-0.037699</td>\n",
       "      <td>0.0</td>\n",
       "      <td>-0.096529</td>\n",
       "      <td>-0.010001</td>\n",
       "      <td>-0.090616</td>\n",
       "      <td>...</td>\n",
       "      <td>1.063807</td>\n",
       "      <td>-0.394771</td>\n",
       "      <td>-0.481132</td>\n",
       "      <td>-0.285355</td>\n",
       "      <td>-0.649655</td>\n",
       "      <td>-0.635631</td>\n",
       "      <td>-0.384329</td>\n",
       "      <td>-0.373724</td>\n",
       "      <td>normal</td>\n",
       "      <td>4</td>\n",
       "    </tr>\n",
       "    <tr>\n",
       "      <th>9998</th>\n",
       "      <td>-0.114</td>\n",
       "      <td>tcp</td>\n",
       "      <td>private</td>\n",
       "      <td>REJ</td>\n",
       "      <td>-0.012544</td>\n",
       "      <td>-0.038881</td>\n",
       "      <td>0.0</td>\n",
       "      <td>-0.096529</td>\n",
       "      <td>-0.010001</td>\n",
       "      <td>-0.090616</td>\n",
       "      <td>...</td>\n",
       "      <td>-1.073962</td>\n",
       "      <td>-0.069213</td>\n",
       "      <td>-0.481132</td>\n",
       "      <td>-0.285355</td>\n",
       "      <td>-0.649655</td>\n",
       "      <td>-0.635631</td>\n",
       "      <td>2.900026</td>\n",
       "      <td>2.778016</td>\n",
       "      <td>Dos</td>\n",
       "      <td>0</td>\n",
       "    </tr>\n",
       "    <tr>\n",
       "      <th>9999</th>\n",
       "      <td>-0.114</td>\n",
       "      <td>icmp</td>\n",
       "      <td>eco_i</td>\n",
       "      <td>SF</td>\n",
       "      <td>-0.012541</td>\n",
       "      <td>-0.038881</td>\n",
       "      <td>0.0</td>\n",
       "      <td>-0.096529</td>\n",
       "      <td>-0.010001</td>\n",
       "      <td>-0.090616</td>\n",
       "      <td>...</td>\n",
       "      <td>1.086076</td>\n",
       "      <td>-0.449030</td>\n",
       "      <td>2.753089</td>\n",
       "      <td>4.457495</td>\n",
       "      <td>-0.649655</td>\n",
       "      <td>-0.635631</td>\n",
       "      <td>-0.384329</td>\n",
       "      <td>-0.373724</td>\n",
       "      <td>Probe</td>\n",
       "      <td>1</td>\n",
       "    </tr>\n",
       "  </tbody>\n",
       "</table>\n",
       "<p>10000 rows × 43 columns</p>\n",
       "</div>"
      ],
      "text/plain": [
       "      duration protocol_type    service flag  src_bytes  dst_bytes  land  \\\n",
       "0       -0.114           tcp   ftp_data   SF  -0.012415  -0.038881   0.0   \n",
       "1       -0.114           udp      other   SF  -0.012505  -0.038881   0.0   \n",
       "2       -0.114           tcp    private   S0  -0.012544  -0.038881   0.0   \n",
       "3       -0.114           tcp       http   SF  -0.012483   0.037581   0.0   \n",
       "4       -0.114           tcp       http   SF  -0.012491  -0.034942   0.0   \n",
       "...        ...           ...        ...  ...        ...        ...   ...   \n",
       "9995    -0.114           tcp  uucp_path   S0  -0.012544  -0.038881   0.0   \n",
       "9996    -0.114           tcp       http   SF  -0.012484  -0.035898   0.0   \n",
       "9997    -0.114           udp   domain_u   SF  -0.012532  -0.037699   0.0   \n",
       "9998    -0.114           tcp    private  REJ  -0.012544  -0.038881   0.0   \n",
       "9999    -0.114          icmp      eco_i   SF  -0.012541  -0.038881   0.0   \n",
       "\n",
       "      wrong_fragment    urgent       hot  ...  dst_host_same_srv_rate  \\\n",
       "0          -0.096529 -0.010001 -0.090616  ...               -0.762204   \n",
       "1          -0.096529 -0.010001 -0.090616  ...               -1.140767   \n",
       "2          -0.096529 -0.010001 -0.090616  ...               -0.918083   \n",
       "3          -0.096529 -0.010001 -0.090616  ...                1.086076   \n",
       "4          -0.096529 -0.010001 -0.090616  ...                1.086076   \n",
       "...              ...       ...       ...  ...                     ...   \n",
       "9995       -0.096529 -0.010001 -0.090616  ...               -1.096230   \n",
       "9996       -0.096529 -0.010001 -0.090616  ...                1.086076   \n",
       "9997       -0.096529 -0.010001 -0.090616  ...                1.063807   \n",
       "9998       -0.096529 -0.010001 -0.090616  ...               -1.073962   \n",
       "9999       -0.096529 -0.010001 -0.090616  ...                1.086076   \n",
       "\n",
       "      dst_host_diff_srv_rate  dst_host_same_src_port_rate  \\\n",
       "0                  -0.286252                     0.068685   \n",
       "1                   2.806543                     2.364982   \n",
       "2                  -0.177733                    -0.481132   \n",
       "3                  -0.449030                    -0.384106   \n",
       "4                  -0.449030                    -0.481132   \n",
       "...                      ...                          ...   \n",
       "9995               -0.123473                    -0.481132   \n",
       "9996               -0.449030                    -0.481132   \n",
       "9997               -0.394771                    -0.481132   \n",
       "9998               -0.069213                    -0.481132   \n",
       "9999               -0.449030                     2.753089   \n",
       "\n",
       "      dst_host_srv_diff_host_rate  dst_host_serror_rate  \\\n",
       "0                       -0.285355             -0.649655   \n",
       "1                       -0.285355             -0.649655   \n",
       "2                       -0.285355              1.582292   \n",
       "3                        0.079479             -0.582697   \n",
       "4                       -0.285355             -0.649655   \n",
       "...                           ...                   ...   \n",
       "9995                    -0.285355              1.582292   \n",
       "9996                    -0.285355             -0.649655   \n",
       "9997                    -0.285355             -0.649655   \n",
       "9998                    -0.285355             -0.649655   \n",
       "9999                     4.457495             -0.649655   \n",
       "\n",
       "      dst_host_srv_serror_rate  dst_host_rerror_rate  \\\n",
       "0                    -0.635631             -0.220111   \n",
       "1                    -0.635631             -0.384329   \n",
       "2                     1.592840             -0.384329   \n",
       "3                    -0.613347             -0.384329   \n",
       "4                    -0.635631             -0.384329   \n",
       "...                        ...                   ...   \n",
       "9995                  1.592840             -0.384329   \n",
       "9996                 -0.635631             -0.384329   \n",
       "9997                 -0.635631             -0.384329   \n",
       "9998                 -0.635631              2.900026   \n",
       "9999                 -0.635631             -0.384329   \n",
       "\n",
       "      dst_host_srv_rerror_rate  labels  intrusion  \n",
       "0                    -0.373724  normal          4  \n",
       "1                    -0.373724  normal          4  \n",
       "2                    -0.373724     Dos          0  \n",
       "3                    -0.342206  normal          4  \n",
       "4                    -0.373724  normal          4  \n",
       "...                        ...     ...        ...  \n",
       "9995                 -0.373724     Dos          0  \n",
       "9996                 -0.373724  normal          4  \n",
       "9997                 -0.373724  normal          4  \n",
       "9998                  2.778016     Dos          0  \n",
       "9999                 -0.373724   Probe          1  \n",
       "\n",
       "[10000 rows x 43 columns]"
      ]
     },
     "execution_count": 14,
     "metadata": {},
     "output_type": "execute_result"
    }
   ],
   "source": [
    "# label encoding (0,1,2,3,4) multi-class labels (Dos,normal,Probe,R2L,U2R)\n",
    "le2 = preprocessing.LabelEncoder()\n",
    "enc_label = multi_label.apply(le2.fit_transform)\n",
    "multi_data['intrusion'] = enc_label\n",
    "#y_mul = multi_data['intrusion']\n",
    "multi_data"
   ]
  },
  {
   "cell_type": "code",
   "execution_count": 15,
   "metadata": {},
   "outputs": [
    {
     "data": {
      "text/html": [
       "<div>\n",
       "<style scoped>\n",
       "    .dataframe tbody tr th:only-of-type {\n",
       "        vertical-align: middle;\n",
       "    }\n",
       "\n",
       "    .dataframe tbody tr th {\n",
       "        vertical-align: top;\n",
       "    }\n",
       "\n",
       "    .dataframe thead th {\n",
       "        text-align: right;\n",
       "    }\n",
       "</style>\n",
       "<table border=\"1\" class=\"dataframe\">\n",
       "  <thead>\n",
       "    <tr style=\"text-align: right;\">\n",
       "      <th></th>\n",
       "      <th>duration</th>\n",
       "      <th>protocol_type</th>\n",
       "      <th>service</th>\n",
       "      <th>flag</th>\n",
       "      <th>src_bytes</th>\n",
       "      <th>dst_bytes</th>\n",
       "      <th>land</th>\n",
       "      <th>wrong_fragment</th>\n",
       "      <th>urgent</th>\n",
       "      <th>hot</th>\n",
       "      <th>...</th>\n",
       "      <th>dst_host_srv_count</th>\n",
       "      <th>dst_host_same_srv_rate</th>\n",
       "      <th>dst_host_diff_srv_rate</th>\n",
       "      <th>dst_host_same_src_port_rate</th>\n",
       "      <th>dst_host_srv_diff_host_rate</th>\n",
       "      <th>dst_host_serror_rate</th>\n",
       "      <th>dst_host_srv_serror_rate</th>\n",
       "      <th>dst_host_rerror_rate</th>\n",
       "      <th>dst_host_srv_rerror_rate</th>\n",
       "      <th>intrusion</th>\n",
       "    </tr>\n",
       "  </thead>\n",
       "  <tbody>\n",
       "    <tr>\n",
       "      <th>0</th>\n",
       "      <td>-0.114</td>\n",
       "      <td>tcp</td>\n",
       "      <td>ftp_data</td>\n",
       "      <td>SF</td>\n",
       "      <td>-0.012415</td>\n",
       "      <td>-0.038881</td>\n",
       "      <td>0.0</td>\n",
       "      <td>-0.096529</td>\n",
       "      <td>-0.010001</td>\n",
       "      <td>-0.090616</td>\n",
       "      <td>...</td>\n",
       "      <td>-0.797453</td>\n",
       "      <td>-0.762204</td>\n",
       "      <td>-0.286252</td>\n",
       "      <td>0.068685</td>\n",
       "      <td>-0.285355</td>\n",
       "      <td>-0.649655</td>\n",
       "      <td>-0.635631</td>\n",
       "      <td>-0.220111</td>\n",
       "      <td>-0.373724</td>\n",
       "      <td>4</td>\n",
       "    </tr>\n",
       "    <tr>\n",
       "      <th>1</th>\n",
       "      <td>-0.114</td>\n",
       "      <td>udp</td>\n",
       "      <td>other</td>\n",
       "      <td>SF</td>\n",
       "      <td>-0.012505</td>\n",
       "      <td>-0.038881</td>\n",
       "      <td>0.0</td>\n",
       "      <td>-0.096529</td>\n",
       "      <td>-0.010001</td>\n",
       "      <td>-0.090616</td>\n",
       "      <td>...</td>\n",
       "      <td>-1.014314</td>\n",
       "      <td>-1.140767</td>\n",
       "      <td>2.806543</td>\n",
       "      <td>2.364982</td>\n",
       "      <td>-0.285355</td>\n",
       "      <td>-0.649655</td>\n",
       "      <td>-0.635631</td>\n",
       "      <td>-0.384329</td>\n",
       "      <td>-0.373724</td>\n",
       "      <td>4</td>\n",
       "    </tr>\n",
       "    <tr>\n",
       "      <th>2</th>\n",
       "      <td>-0.114</td>\n",
       "      <td>tcp</td>\n",
       "      <td>private</td>\n",
       "      <td>S0</td>\n",
       "      <td>-0.012544</td>\n",
       "      <td>-0.038881</td>\n",
       "      <td>0.0</td>\n",
       "      <td>-0.096529</td>\n",
       "      <td>-0.010001</td>\n",
       "      <td>-0.090616</td>\n",
       "      <td>...</td>\n",
       "      <td>-0.788417</td>\n",
       "      <td>-0.918083</td>\n",
       "      <td>-0.177733</td>\n",
       "      <td>-0.481132</td>\n",
       "      <td>-0.285355</td>\n",
       "      <td>1.582292</td>\n",
       "      <td>1.592840</td>\n",
       "      <td>-0.384329</td>\n",
       "      <td>-0.373724</td>\n",
       "      <td>0</td>\n",
       "    </tr>\n",
       "    <tr>\n",
       "      <th>3</th>\n",
       "      <td>-0.114</td>\n",
       "      <td>tcp</td>\n",
       "      <td>http</td>\n",
       "      <td>SF</td>\n",
       "      <td>-0.012483</td>\n",
       "      <td>0.037581</td>\n",
       "      <td>0.0</td>\n",
       "      <td>-0.096529</td>\n",
       "      <td>-0.010001</td>\n",
       "      <td>-0.090616</td>\n",
       "      <td>...</td>\n",
       "      <td>1.280799</td>\n",
       "      <td>1.086076</td>\n",
       "      <td>-0.449030</td>\n",
       "      <td>-0.384106</td>\n",
       "      <td>0.079479</td>\n",
       "      <td>-0.582697</td>\n",
       "      <td>-0.613347</td>\n",
       "      <td>-0.384329</td>\n",
       "      <td>-0.342206</td>\n",
       "      <td>4</td>\n",
       "    </tr>\n",
       "    <tr>\n",
       "      <th>4</th>\n",
       "      <td>-0.114</td>\n",
       "      <td>tcp</td>\n",
       "      <td>http</td>\n",
       "      <td>SF</td>\n",
       "      <td>-0.012491</td>\n",
       "      <td>-0.034942</td>\n",
       "      <td>0.0</td>\n",
       "      <td>-0.096529</td>\n",
       "      <td>-0.010001</td>\n",
       "      <td>-0.090616</td>\n",
       "      <td>...</td>\n",
       "      <td>1.280799</td>\n",
       "      <td>1.086076</td>\n",
       "      <td>-0.449030</td>\n",
       "      <td>-0.481132</td>\n",
       "      <td>-0.285355</td>\n",
       "      <td>-0.649655</td>\n",
       "      <td>-0.635631</td>\n",
       "      <td>-0.384329</td>\n",
       "      <td>-0.373724</td>\n",
       "      <td>4</td>\n",
       "    </tr>\n",
       "    <tr>\n",
       "      <th>...</th>\n",
       "      <td>...</td>\n",
       "      <td>...</td>\n",
       "      <td>...</td>\n",
       "      <td>...</td>\n",
       "      <td>...</td>\n",
       "      <td>...</td>\n",
       "      <td>...</td>\n",
       "      <td>...</td>\n",
       "      <td>...</td>\n",
       "      <td>...</td>\n",
       "      <td>...</td>\n",
       "      <td>...</td>\n",
       "      <td>...</td>\n",
       "      <td>...</td>\n",
       "      <td>...</td>\n",
       "      <td>...</td>\n",
       "      <td>...</td>\n",
       "      <td>...</td>\n",
       "      <td>...</td>\n",
       "      <td>...</td>\n",
       "      <td>...</td>\n",
       "    </tr>\n",
       "    <tr>\n",
       "      <th>9995</th>\n",
       "      <td>-0.114</td>\n",
       "      <td>tcp</td>\n",
       "      <td>uucp_path</td>\n",
       "      <td>S0</td>\n",
       "      <td>-0.012544</td>\n",
       "      <td>-0.038881</td>\n",
       "      <td>0.0</td>\n",
       "      <td>-0.096529</td>\n",
       "      <td>-0.010001</td>\n",
       "      <td>-0.090616</td>\n",
       "      <td>...</td>\n",
       "      <td>-0.969135</td>\n",
       "      <td>-1.096230</td>\n",
       "      <td>-0.123473</td>\n",
       "      <td>-0.481132</td>\n",
       "      <td>-0.285355</td>\n",
       "      <td>1.582292</td>\n",
       "      <td>1.592840</td>\n",
       "      <td>-0.384329</td>\n",
       "      <td>-0.373724</td>\n",
       "      <td>0</td>\n",
       "    </tr>\n",
       "    <tr>\n",
       "      <th>9996</th>\n",
       "      <td>-0.114</td>\n",
       "      <td>tcp</td>\n",
       "      <td>http</td>\n",
       "      <td>SF</td>\n",
       "      <td>-0.012484</td>\n",
       "      <td>-0.035898</td>\n",
       "      <td>0.0</td>\n",
       "      <td>-0.096529</td>\n",
       "      <td>-0.010001</td>\n",
       "      <td>-0.090616</td>\n",
       "      <td>...</td>\n",
       "      <td>1.280799</td>\n",
       "      <td>1.086076</td>\n",
       "      <td>-0.449030</td>\n",
       "      <td>-0.481132</td>\n",
       "      <td>-0.285355</td>\n",
       "      <td>-0.649655</td>\n",
       "      <td>-0.635631</td>\n",
       "      <td>-0.384329</td>\n",
       "      <td>-0.373724</td>\n",
       "      <td>4</td>\n",
       "    </tr>\n",
       "    <tr>\n",
       "      <th>9997</th>\n",
       "      <td>-0.114</td>\n",
       "      <td>udp</td>\n",
       "      <td>domain_u</td>\n",
       "      <td>SF</td>\n",
       "      <td>-0.012532</td>\n",
       "      <td>-0.037699</td>\n",
       "      <td>0.0</td>\n",
       "      <td>-0.096529</td>\n",
       "      <td>-0.010001</td>\n",
       "      <td>-0.090616</td>\n",
       "      <td>...</td>\n",
       "      <td>1.253691</td>\n",
       "      <td>1.063807</td>\n",
       "      <td>-0.394771</td>\n",
       "      <td>-0.481132</td>\n",
       "      <td>-0.285355</td>\n",
       "      <td>-0.649655</td>\n",
       "      <td>-0.635631</td>\n",
       "      <td>-0.384329</td>\n",
       "      <td>-0.373724</td>\n",
       "      <td>4</td>\n",
       "    </tr>\n",
       "    <tr>\n",
       "      <th>9998</th>\n",
       "      <td>-0.114</td>\n",
       "      <td>tcp</td>\n",
       "      <td>private</td>\n",
       "      <td>REJ</td>\n",
       "      <td>-0.012544</td>\n",
       "      <td>-0.038881</td>\n",
       "      <td>0.0</td>\n",
       "      <td>-0.096529</td>\n",
       "      <td>-0.010001</td>\n",
       "      <td>-0.090616</td>\n",
       "      <td>...</td>\n",
       "      <td>-0.951063</td>\n",
       "      <td>-1.073962</td>\n",
       "      <td>-0.069213</td>\n",
       "      <td>-0.481132</td>\n",
       "      <td>-0.285355</td>\n",
       "      <td>-0.649655</td>\n",
       "      <td>-0.635631</td>\n",
       "      <td>2.900026</td>\n",
       "      <td>2.778016</td>\n",
       "      <td>0</td>\n",
       "    </tr>\n",
       "    <tr>\n",
       "      <th>9999</th>\n",
       "      <td>-0.114</td>\n",
       "      <td>icmp</td>\n",
       "      <td>eco_i</td>\n",
       "      <td>SF</td>\n",
       "      <td>-0.012541</td>\n",
       "      <td>-0.038881</td>\n",
       "      <td>0.0</td>\n",
       "      <td>-0.096529</td>\n",
       "      <td>-0.010001</td>\n",
       "      <td>-0.090616</td>\n",
       "      <td>...</td>\n",
       "      <td>-0.797453</td>\n",
       "      <td>1.086076</td>\n",
       "      <td>-0.449030</td>\n",
       "      <td>2.753089</td>\n",
       "      <td>4.457495</td>\n",
       "      <td>-0.649655</td>\n",
       "      <td>-0.635631</td>\n",
       "      <td>-0.384329</td>\n",
       "      <td>-0.373724</td>\n",
       "      <td>1</td>\n",
       "    </tr>\n",
       "  </tbody>\n",
       "</table>\n",
       "<p>10000 rows × 42 columns</p>\n",
       "</div>"
      ],
      "text/plain": [
       "      duration protocol_type    service flag  src_bytes  dst_bytes  land  \\\n",
       "0       -0.114           tcp   ftp_data   SF  -0.012415  -0.038881   0.0   \n",
       "1       -0.114           udp      other   SF  -0.012505  -0.038881   0.0   \n",
       "2       -0.114           tcp    private   S0  -0.012544  -0.038881   0.0   \n",
       "3       -0.114           tcp       http   SF  -0.012483   0.037581   0.0   \n",
       "4       -0.114           tcp       http   SF  -0.012491  -0.034942   0.0   \n",
       "...        ...           ...        ...  ...        ...        ...   ...   \n",
       "9995    -0.114           tcp  uucp_path   S0  -0.012544  -0.038881   0.0   \n",
       "9996    -0.114           tcp       http   SF  -0.012484  -0.035898   0.0   \n",
       "9997    -0.114           udp   domain_u   SF  -0.012532  -0.037699   0.0   \n",
       "9998    -0.114           tcp    private  REJ  -0.012544  -0.038881   0.0   \n",
       "9999    -0.114          icmp      eco_i   SF  -0.012541  -0.038881   0.0   \n",
       "\n",
       "      wrong_fragment    urgent       hot  ...  dst_host_srv_count  \\\n",
       "0          -0.096529 -0.010001 -0.090616  ...           -0.797453   \n",
       "1          -0.096529 -0.010001 -0.090616  ...           -1.014314   \n",
       "2          -0.096529 -0.010001 -0.090616  ...           -0.788417   \n",
       "3          -0.096529 -0.010001 -0.090616  ...            1.280799   \n",
       "4          -0.096529 -0.010001 -0.090616  ...            1.280799   \n",
       "...              ...       ...       ...  ...                 ...   \n",
       "9995       -0.096529 -0.010001 -0.090616  ...           -0.969135   \n",
       "9996       -0.096529 -0.010001 -0.090616  ...            1.280799   \n",
       "9997       -0.096529 -0.010001 -0.090616  ...            1.253691   \n",
       "9998       -0.096529 -0.010001 -0.090616  ...           -0.951063   \n",
       "9999       -0.096529 -0.010001 -0.090616  ...           -0.797453   \n",
       "\n",
       "      dst_host_same_srv_rate  dst_host_diff_srv_rate  \\\n",
       "0                  -0.762204               -0.286252   \n",
       "1                  -1.140767                2.806543   \n",
       "2                  -0.918083               -0.177733   \n",
       "3                   1.086076               -0.449030   \n",
       "4                   1.086076               -0.449030   \n",
       "...                      ...                     ...   \n",
       "9995               -1.096230               -0.123473   \n",
       "9996                1.086076               -0.449030   \n",
       "9997                1.063807               -0.394771   \n",
       "9998               -1.073962               -0.069213   \n",
       "9999                1.086076               -0.449030   \n",
       "\n",
       "      dst_host_same_src_port_rate  dst_host_srv_diff_host_rate  \\\n",
       "0                        0.068685                    -0.285355   \n",
       "1                        2.364982                    -0.285355   \n",
       "2                       -0.481132                    -0.285355   \n",
       "3                       -0.384106                     0.079479   \n",
       "4                       -0.481132                    -0.285355   \n",
       "...                           ...                          ...   \n",
       "9995                    -0.481132                    -0.285355   \n",
       "9996                    -0.481132                    -0.285355   \n",
       "9997                    -0.481132                    -0.285355   \n",
       "9998                    -0.481132                    -0.285355   \n",
       "9999                     2.753089                     4.457495   \n",
       "\n",
       "      dst_host_serror_rate  dst_host_srv_serror_rate  dst_host_rerror_rate  \\\n",
       "0                -0.649655                 -0.635631             -0.220111   \n",
       "1                -0.649655                 -0.635631             -0.384329   \n",
       "2                 1.582292                  1.592840             -0.384329   \n",
       "3                -0.582697                 -0.613347             -0.384329   \n",
       "4                -0.649655                 -0.635631             -0.384329   \n",
       "...                    ...                       ...                   ...   \n",
       "9995              1.582292                  1.592840             -0.384329   \n",
       "9996             -0.649655                 -0.635631             -0.384329   \n",
       "9997             -0.649655                 -0.635631             -0.384329   \n",
       "9998             -0.649655                 -0.635631              2.900026   \n",
       "9999             -0.649655                 -0.635631             -0.384329   \n",
       "\n",
       "      dst_host_srv_rerror_rate  intrusion  \n",
       "0                    -0.373724          4  \n",
       "1                    -0.373724          4  \n",
       "2                    -0.373724          0  \n",
       "3                    -0.342206          4  \n",
       "4                    -0.373724          4  \n",
       "...                        ...        ...  \n",
       "9995                 -0.373724          0  \n",
       "9996                 -0.373724          4  \n",
       "9997                 -0.373724          4  \n",
       "9998                  2.778016          0  \n",
       "9999                 -0.373724          1  \n",
       "\n",
       "[10000 rows x 42 columns]"
      ]
     },
     "execution_count": 15,
     "metadata": {},
     "output_type": "execute_result"
    }
   ],
   "source": [
    "multi_data.drop(labels= [ 'labels'], axis=1, inplace=True)\n",
    "multi_data"
   ]
  },
  {
   "cell_type": "code",
   "execution_count": 16,
   "metadata": {},
   "outputs": [
    {
     "data": {
      "text/plain": [
       "array([ 9,  5,  1,  4, 10,  2,  6,  3,  8,  7,  0], dtype=int64)"
      ]
     },
     "execution_count": 16,
     "metadata": {},
     "output_type": "execute_result"
    }
   ],
   "source": [
    "# Import label encoder\n",
    "from sklearn import preprocessing\n",
    "\n",
    "# label_encoder object knows\n",
    "# how to understand word labels.\n",
    "label_encoder = preprocessing.LabelEncoder()\n",
    "\n",
    "# Encode labels in column 'species'.\n",
    "multi_data['protocol_type']= label_encoder.fit_transform(multi_data['protocol_type'])\n",
    "multi_data['service']= label_encoder.fit_transform(multi_data['service'])\n",
    "multi_data['flag']= label_encoder.fit_transform(multi_data['flag'])\n",
    "\n",
    "multi_data['protocol_type'].unique()\n",
    "multi_data['service'].unique()\n",
    "multi_data['flag'].unique()"
   ]
  },
  {
   "cell_type": "code",
   "execution_count": 17,
   "metadata": {},
   "outputs": [],
   "source": [
    "X = data.drop([\"intrusion\"],axis =1)\n",
    "y = data[\"intrusion\"]"
   ]
  },
  {
   "cell_type": "markdown",
   "metadata": {},
   "source": [
    "# Feature Selection"
   ]
  },
  {
   "cell_type": "code",
   "execution_count": 18,
   "metadata": {},
   "outputs": [
    {
     "data": {
      "text/plain": [
       "RFECV(cv=3, estimator=LogisticRegression(), scoring='accuracy')"
      ]
     },
     "execution_count": 18,
     "metadata": {},
     "output_type": "execute_result"
    }
   ],
   "source": [
    "from sklearn.feature_selection import RFECV\n",
    "from sklearn.linear_model import LogisticRegression\n",
    "rfecv = RFECV(cv=3, estimator=LogisticRegression(),\n",
    "      scoring='accuracy')\n",
    "\n",
    "rfecv.fit(X,y)"
   ]
  },
  {
   "cell_type": "code",
   "execution_count": 19,
   "metadata": {},
   "outputs": [
    {
     "data": {
      "text/plain": [
       "'Number of features:'"
      ]
     },
     "metadata": {},
     "output_type": "display_data"
    },
    {
     "data": {
      "text/plain": [
       "25"
      ]
     },
     "metadata": {},
     "output_type": "display_data"
    },
    {
     "data": {
      "text/plain": [
       "['duration',\n",
       " 'protocol_type',\n",
       " 'flag',\n",
       " 'src_bytes',\n",
       " 'wrong_fragment',\n",
       " 'hot',\n",
       " 'logged_in',\n",
       " 'num_compromised',\n",
       " 'su_attempted',\n",
       " 'num_root',\n",
       " 'num_file_creations',\n",
       " 'is_guest_login',\n",
       " 'count',\n",
       " 'srv_serror_rate',\n",
       " 'rerror_rate',\n",
       " 'same_srv_rate',\n",
       " 'dst_host_count',\n",
       " 'dst_host_srv_count',\n",
       " 'dst_host_same_srv_rate',\n",
       " 'dst_host_diff_srv_rate',\n",
       " 'dst_host_same_src_port_rate',\n",
       " 'dst_host_srv_diff_host_rate',\n",
       " 'dst_host_serror_rate',\n",
       " 'dst_host_rerror_rate',\n",
       " 'dst_host_srv_rerror_rate']"
      ]
     },
     "execution_count": 19,
     "metadata": {},
     "output_type": "execute_result"
    }
   ],
   "source": [
    "#to get number of the features\n",
    "display('Number of features:', rfecv.n_features_)\n",
    "\n",
    "#to get feature names\n",
    "list(X.columns[rfecv.support_]) "
   ]
  },
  {
   "cell_type": "code",
   "execution_count": 20,
   "metadata": {},
   "outputs": [],
   "source": [
    "df = data[['duration',\n",
    " 'protocol_type',\n",
    " 'flag',\n",
    " 'src_bytes',\n",
    " 'wrong_fragment',\n",
    " 'hot',\n",
    " 'logged_in',\n",
    " 'num_compromised',\n",
    " 'su_attempted',\n",
    " 'num_root',\n",
    " 'num_file_creations',\n",
    " 'is_guest_login',\n",
    " 'count',\n",
    " 'srv_serror_rate',\n",
    " 'rerror_rate',\n",
    " 'same_srv_rate',\n",
    " 'dst_host_count',\n",
    " 'dst_host_srv_count',\n",
    " 'dst_host_same_srv_rate',\n",
    " 'dst_host_diff_srv_rate',\n",
    " 'dst_host_same_src_port_rate',\n",
    " 'dst_host_srv_diff_host_rate',\n",
    " 'dst_host_serror_rate',\n",
    " 'dst_host_rerror_rate',\n",
    " 'dst_host_srv_rerror_rate',\n",
    "             'intrusion']]\n",
    "df.to_csv('kdd_processed.csv')"
   ]
  },
  {
   "cell_type": "code",
   "execution_count": 21,
   "metadata": {},
   "outputs": [],
   "source": [
    "X_2 = data[['duration',\n",
    " 'protocol_type',\n",
    " 'flag',\n",
    " 'src_bytes',\n",
    " 'wrong_fragment',\n",
    " 'hot',\n",
    " 'logged_in',\n",
    " 'num_compromised',\n",
    " 'su_attempted',\n",
    " 'num_root',\n",
    " 'num_file_creations',\n",
    " 'is_guest_login',\n",
    " 'count',\n",
    " 'srv_serror_rate',\n",
    " 'rerror_rate',\n",
    " 'same_srv_rate',\n",
    " 'dst_host_count',\n",
    " 'dst_host_srv_count',\n",
    " 'dst_host_same_srv_rate',\n",
    " 'dst_host_diff_srv_rate',\n",
    " 'dst_host_same_src_port_rate',\n",
    " 'dst_host_srv_diff_host_rate',\n",
    " 'dst_host_serror_rate',\n",
    " 'dst_host_rerror_rate',\n",
    " 'dst_host_srv_rerror_rate']]"
   ]
  },
  {
   "cell_type": "code",
   "execution_count": 76,
   "metadata": {},
   "outputs": [
    {
     "data": {
      "text/plain": [
       "((8000, 25), (8000,), (2000, 25), (2000,))"
      ]
     },
     "execution_count": 76,
     "metadata": {},
     "output_type": "execute_result"
    }
   ],
   "source": [
    "from sklearn.model_selection import train_test_split\n",
    "\n",
    "X_train, X_test, y_train, y_test = train_test_split(X_2, y, test_size = 0.20, random_state = 42)\n",
    "X_train.shape, y_train.shape, X_test.shape, y_test.shape"
   ]
  },
  {
   "cell_type": "code",
   "execution_count": 23,
   "metadata": {},
   "outputs": [],
   "source": [
    "ML_Model = []\n",
    "accuracy = []\n",
    "precision = []\n",
    "recall = []\n",
    "f1score = []\n",
    "auc = []\n",
    "geo = []\n",
    "spec = []\n",
    "sens = []\n",
    "\n",
    "\n",
    "#function to call for storing the results\n",
    "def storeResults(model, a,b,c,d,e,f,g,h):\n",
    "    ML_Model.append(model)\n",
    "    accuracy.append(round(a, 3))\n",
    "    precision.append(round(b, 3))\n",
    "    recall.append(round(c, 3))\n",
    "    f1score.append(round(d, 3))\n",
    "    auc.append(round(e,3))\n",
    "    geo.append(round(f,3))\n",
    "    spec.append(round(g,3))\n",
    "    sens.append(round(h,3))\n",
    "    "
   ]
  },
  {
   "cell_type": "code",
   "execution_count": 24,
   "metadata": {},
   "outputs": [],
   "source": [
    "from sklearn.metrics import accuracy_score, precision_score, recall_score, f1_score, roc_auc_score, det_curve\n",
    "from imblearn.metrics import geometric_mean_score,specificity_score,sensitivity_score"
   ]
  },
  {
   "cell_type": "markdown",
   "metadata": {},
   "source": [
    "# Original"
   ]
  },
  {
   "cell_type": "markdown",
   "metadata": {},
   "source": [
    "# SVM"
   ]
  },
  {
   "cell_type": "code",
   "execution_count": 25,
   "metadata": {},
   "outputs": [
    {
     "name": "stdout",
     "output_type": "stream",
     "text": [
      "Fitting 5 folds for each of 4 candidates, totalling 20 fits\n",
      "[CV 1/5] END ...............gamma=1, kernel=rbf;, score=0.984 total time=   3.0s\n",
      "[CV 2/5] END ...............gamma=1, kernel=rbf;, score=0.985 total time=   3.1s\n",
      "[CV 3/5] END ...............gamma=1, kernel=rbf;, score=0.983 total time=   3.0s\n",
      "[CV 4/5] END ...............gamma=1, kernel=rbf;, score=0.988 total time=   2.9s\n",
      "[CV 5/5] END ...............gamma=1, kernel=rbf;, score=0.988 total time=   3.0s\n",
      "[CV 1/5] END .............gamma=0.1, kernel=rbf;, score=0.984 total time=   0.9s\n",
      "[CV 2/5] END .............gamma=0.1, kernel=rbf;, score=0.985 total time=   0.9s\n",
      "[CV 3/5] END .............gamma=0.1, kernel=rbf;, score=0.986 total time=   1.0s\n",
      "[CV 4/5] END .............gamma=0.1, kernel=rbf;, score=0.989 total time=   1.0s\n",
      "[CV 5/5] END .............gamma=0.1, kernel=rbf;, score=0.983 total time=   0.9s\n",
      "[CV 1/5] END ............gamma=0.01, kernel=rbf;, score=0.971 total time=   1.1s\n",
      "[CV 2/5] END ............gamma=0.01, kernel=rbf;, score=0.968 total time=   1.0s\n",
      "[CV 3/5] END ............gamma=0.01, kernel=rbf;, score=0.974 total time=   1.0s\n",
      "[CV 4/5] END ............gamma=0.01, kernel=rbf;, score=0.971 total time=   1.0s\n",
      "[CV 5/5] END ............gamma=0.01, kernel=rbf;, score=0.966 total time=   1.0s\n",
      "[CV 1/5] END ...........gamma=0.001, kernel=rbf;, score=0.958 total time=   2.0s\n",
      "[CV 2/5] END ...........gamma=0.001, kernel=rbf;, score=0.953 total time=   2.0s\n",
      "[CV 3/5] END ...........gamma=0.001, kernel=rbf;, score=0.949 total time=   1.9s\n",
      "[CV 4/5] END ...........gamma=0.001, kernel=rbf;, score=0.948 total time=   1.9s\n",
      "[CV 5/5] END ...........gamma=0.001, kernel=rbf;, score=0.954 total time=   1.9s\n"
     ]
    }
   ],
   "source": [
    "from sklearn.svm import SVC\n",
    "from sklearn.model_selection import GridSearchCV\n",
    "\n",
    "param_grid = {'gamma': [1, 0.1, 0.01, 0.001],\n",
    "              'kernel': ['rbf']} \n",
    "\n",
    "# instantiate the model \n",
    "svm = GridSearchCV(SVC(probability=True), param_grid, refit = True, verbose = 3)\n",
    "\n",
    "# fit the model \n",
    "svm.fit(X_train, y_train)\n",
    "\n",
    "#predicting the target value from the model for the samples\n",
    "\n",
    "y_pred = svm.predict(X_test)"
   ]
  },
  {
   "cell_type": "code",
   "execution_count": 26,
   "metadata": {},
   "outputs": [],
   "source": [
    "svm_acc = accuracy_score(y_pred, y_test)\n",
    "svm_prec = precision_score(y_pred, y_test,average='weighted')\n",
    "svm_rec = recall_score(y_pred, y_test,average='weighted')\n",
    "svm_f1 = f1_score(y_pred, y_test,average='weighted')\n",
    "svm_auroc = roc_auc_score(y_train, svm.predict_proba(X_train), multi_class='ovr')\n",
    "svm_geo = geometric_mean_score(y_test, y_pred, average='weighted')\n",
    "svm_spec = specificity_score(y_test, y_pred, average='weighted')\n",
    "svm_sens = sensitivity_score(y_test, y_pred, average='weighted')\n",
    "\n",
    "storeResults('Original - SVM',svm_acc,svm_prec,svm_rec,svm_f1,svm_auroc,svm_geo,svm_spec,svm_sens)"
   ]
  },
  {
   "cell_type": "markdown",
   "metadata": {},
   "source": [
    "# Random Forest"
   ]
  },
  {
   "cell_type": "code",
   "execution_count": 27,
   "metadata": {},
   "outputs": [],
   "source": [
    "from sklearn.ensemble import RandomForestClassifier\n",
    "from sklearn.model_selection import GridSearchCV,RandomizedSearchCV\n",
    "\n",
    "param_grid = {\n",
    "    'n_estimators': [5,10,20,40,80,150]\n",
    "}\n",
    "\n",
    "forest = GridSearchCV(RandomForestClassifier(),param_grid=param_grid)\n",
    "# fit the model \n",
    "forest.fit(X_train, y_train)\n",
    "\n",
    "#predicting the target value from the model for the samples\n",
    "\n",
    "y_pred = forest.predict(X_test)"
   ]
  },
  {
   "cell_type": "code",
   "execution_count": 28,
   "metadata": {},
   "outputs": [],
   "source": [
    "rf_acc = accuracy_score(y_pred, y_test)\n",
    "rf_prec = precision_score(y_pred, y_test,average='weighted')\n",
    "rf_rec = recall_score(y_pred, y_test,average='weighted')\n",
    "rf_f1 = f1_score(y_pred, y_test,average='weighted')\n",
    "rf_auroc = roc_auc_score(y_train, forest.predict_proba(X_train), multi_class='ovr')\n",
    "rf_geo = geometric_mean_score(y_test, y_pred, average='weighted')\n",
    "rf_spec = specificity_score(y_test, y_pred, average='weighted')\n",
    "rf_sens = sensitivity_score(y_test, y_pred, average='weighted')\n",
    "\n",
    "storeResults('Original - RF',rf_acc,rf_prec,rf_rec,rf_f1,rf_auroc,rf_geo,rf_spec,rf_sens)"
   ]
  },
  {
   "cell_type": "markdown",
   "metadata": {},
   "source": [
    "# Decision Tree"
   ]
  },
  {
   "cell_type": "code",
   "execution_count": 29,
   "metadata": {},
   "outputs": [
    {
     "name": "stdout",
     "output_type": "stream",
     "text": [
      "Fitting 4 folds for each of 8 candidates, totalling 32 fits\n"
     ]
    }
   ],
   "source": [
    "from sklearn.tree import DecisionTreeClassifier\n",
    "\n",
    "params = {\n",
    "    'max_depth': [5,6,7,8,9,10,50,100]\n",
    "}\n",
    "\n",
    "tree = GridSearchCV(estimator=DecisionTreeClassifier(random_state=42), param_grid=params, cv=4, n_jobs=-1, verbose=1)\n",
    "\n",
    "tree.fit(X_train, y_train)\n",
    "\n",
    "#predicting the target value from the model for the samples\n",
    "\n",
    "y_pred = tree.predict(X_test)"
   ]
  },
  {
   "cell_type": "code",
   "execution_count": 30,
   "metadata": {},
   "outputs": [],
   "source": [
    "dt_acc = accuracy_score(y_pred, y_test)\n",
    "dt_prec = precision_score(y_pred, y_test,average='weighted')\n",
    "dt_rec = recall_score(y_pred, y_test,average='weighted')\n",
    "dt_f1 = f1_score(y_pred, y_test,average='weighted')\n",
    "dt_auroc = roc_auc_score(y_train, tree.predict_proba(X_train), multi_class='ovr')\n",
    "dt_geo = geometric_mean_score(y_test, y_pred, average='weighted')\n",
    "dt_spec = specificity_score(y_test, y_pred, average='weighted')\n",
    "dt_sens = sensitivity_score(y_test, y_pred, average='weighted')\n",
    "\n",
    "storeResults('Original - DT',dt_acc,dt_prec,dt_rec,dt_f1,dt_auroc,dt_geo,dt_spec,dt_sens)"
   ]
  },
  {
   "cell_type": "markdown",
   "metadata": {},
   "source": [
    "# Stacking Classifier"
   ]
  },
  {
   "cell_type": "code",
   "execution_count": 77,
   "metadata": {},
   "outputs": [],
   "source": [
    "from sklearn.ensemble import StackingClassifier\n",
    "from sklearn.preprocessing import StandardScaler\n",
    "from sklearn.pipeline import make_pipeline\n",
    "from sklearn.ensemble import ExtraTreesClassifier\n",
    "from sklearn.svm import LinearSVC\n",
    "from sklearn.linear_model import LogisticRegression\n",
    "\n",
    "estimators = [('et', ExtraTreesClassifier(n_estimators=100, random_state=0)),('svr', make_pipeline(StandardScaler(),LinearSVC(random_state=42)))]\n",
    "\n",
    "clf = StackingClassifier(estimators=estimators, final_estimator=LogisticRegression())\n",
    "clf.fit(X_train, y_train)\n",
    "\n",
    "#predicting the target value from the model for the samples\n",
    "\n",
    "y_pred = clf.predict(X_test)"
   ]
  },
  {
   "cell_type": "code",
   "execution_count": 35,
   "metadata": {},
   "outputs": [],
   "source": [
    "stac_acc = accuracy_score(y_pred, y_test)\n",
    "stac_prec = precision_score(y_pred, y_test,average='weighted')\n",
    "stac_rec = recall_score(y_pred, y_test,average='weighted')\n",
    "stac_f1 = f1_score(y_pred, y_test,average='weighted')\n",
    "stac_auroc = roc_auc_score(y_train, clf.predict_proba(X_train), multi_class='ovr')\n",
    "stac_geo = geometric_mean_score(y_test, y_pred, average='weighted')\n",
    "stac_spec = specificity_score(y_test, y_pred, average='weighted')\n",
    "stac_sens = sensitivity_score(y_test, y_pred, average='weighted')\n",
    "\n",
    "#stac_acc\n",
    "storeResults('Original - Stacking',stac_acc,stac_prec,stac_rec,stac_f1,stac_auroc,stac_geo,stac_spec,stac_sens)"
   ]
  },
  {
   "cell_type": "markdown",
   "metadata": {},
   "source": [
    "# SVM - SMOTE"
   ]
  },
  {
   "cell_type": "code",
   "execution_count": 36,
   "metadata": {},
   "outputs": [],
   "source": [
    "from imblearn.over_sampling import SMOTE\n",
    "sm = SMOTE(k_neighbors=2)\n",
    "X_res, y_res = sm.fit_resample(X_2, y)"
   ]
  },
  {
   "cell_type": "code",
   "execution_count": 37,
   "metadata": {},
   "outputs": [],
   "source": [
    "X_train, X_test, y_train, y_test = train_test_split(X_res, y_res, test_size = 0.20, random_state = 42)"
   ]
  },
  {
   "cell_type": "code",
   "execution_count": 38,
   "metadata": {},
   "outputs": [
    {
     "name": "stdout",
     "output_type": "stream",
     "text": [
      "Fitting 5 folds for each of 4 candidates, totalling 20 fits\n",
      "[CV 1/5] END ...............gamma=1, kernel=rbf;, score=0.994 total time=   9.8s\n",
      "[CV 2/5] END ...............gamma=1, kernel=rbf;, score=0.996 total time=   9.7s\n",
      "[CV 3/5] END ...............gamma=1, kernel=rbf;, score=0.996 total time=   9.8s\n",
      "[CV 4/5] END ...............gamma=1, kernel=rbf;, score=0.997 total time=   9.8s\n",
      "[CV 5/5] END ...............gamma=1, kernel=rbf;, score=0.997 total time=   9.8s\n",
      "[CV 1/5] END .............gamma=0.1, kernel=rbf;, score=0.992 total time=   3.4s\n",
      "[CV 2/5] END .............gamma=0.1, kernel=rbf;, score=0.993 total time=   3.4s\n",
      "[CV 3/5] END .............gamma=0.1, kernel=rbf;, score=0.996 total time=   3.5s\n",
      "[CV 4/5] END .............gamma=0.1, kernel=rbf;, score=0.994 total time=   3.5s\n",
      "[CV 5/5] END .............gamma=0.1, kernel=rbf;, score=0.991 total time=   3.4s\n",
      "[CV 1/5] END ............gamma=0.01, kernel=rbf;, score=0.977 total time=   6.1s\n",
      "[CV 2/5] END ............gamma=0.01, kernel=rbf;, score=0.974 total time=   6.1s\n",
      "[CV 3/5] END ............gamma=0.01, kernel=rbf;, score=0.980 total time=   6.3s\n",
      "[CV 4/5] END ............gamma=0.01, kernel=rbf;, score=0.976 total time=   6.1s\n",
      "[CV 5/5] END ............gamma=0.01, kernel=rbf;, score=0.980 total time=   6.2s\n",
      "[CV 1/5] END ...........gamma=0.001, kernel=rbf;, score=0.950 total time=  15.7s\n",
      "[CV 2/5] END ...........gamma=0.001, kernel=rbf;, score=0.949 total time=  15.7s\n",
      "[CV 3/5] END ...........gamma=0.001, kernel=rbf;, score=0.955 total time=  15.9s\n",
      "[CV 4/5] END ...........gamma=0.001, kernel=rbf;, score=0.944 total time=  15.7s\n",
      "[CV 5/5] END ...........gamma=0.001, kernel=rbf;, score=0.955 total time=  15.8s\n"
     ]
    }
   ],
   "source": [
    "from sklearn.svm import SVC\n",
    "from sklearn.model_selection import GridSearchCV\n",
    "\n",
    "param_grid = {'gamma': [1, 0.1, 0.01, 0.001],\n",
    "              'kernel': ['rbf']} \n",
    "\n",
    "# instantiate the model \n",
    "svm1 = GridSearchCV(SVC(probability=True), param_grid, refit = True, verbose = 3)\n",
    "\n",
    "# fit the model \n",
    "svm1.fit(X_train, y_train)\n",
    "\n",
    "#predicting the target value from the model for the samples\n",
    "\n",
    "y_pred = svm1.predict(X_test)\n",
    "\n",
    "svm_acc1 = accuracy_score(y_pred, y_test)\n",
    "svm_prec1 = precision_score(y_pred, y_test,average='weighted')\n",
    "svm_rec1 = recall_score(y_pred, y_test,average='weighted')\n",
    "svm_f1_1 = f1_score(y_pred, y_test,average='weighted')\n",
    "svm_auroc1 = roc_auc_score(y_train, svm1.predict_proba(X_train), multi_class='ovr')\n",
    "svm_geo1 = geometric_mean_score(y_test, y_pred, average='weighted')\n",
    "svm_spec1 = specificity_score(y_test, y_pred, average='weighted')\n",
    "svm_sens1 = sensitivity_score(y_test, y_pred, average='weighted')\n",
    "\n",
    "storeResults('SMOTE - SVM',svm_acc1,svm_prec1,svm_rec1,svm_f1_1,svm_auroc1,svm_geo1,svm_spec1,svm_sens1)"
   ]
  },
  {
   "cell_type": "markdown",
   "metadata": {},
   "source": [
    "# Random Forest"
   ]
  },
  {
   "cell_type": "code",
   "execution_count": 39,
   "metadata": {},
   "outputs": [],
   "source": [
    "from sklearn.ensemble import RandomForestClassifier\n",
    "from sklearn.model_selection import GridSearchCV,RandomizedSearchCV\n",
    "\n",
    "param_grid = {\n",
    "    'n_estimators': [5,10,20,40,80,150]\n",
    "}\n",
    "\n",
    "forest1 = GridSearchCV(RandomForestClassifier(),param_grid=param_grid)\n",
    "# fit the model \n",
    "forest1.fit(X_train, y_train)\n",
    "\n",
    "#predicting the target value from the model for the samples\n",
    "\n",
    "y_pred = forest1.predict(X_test)\n",
    "\n",
    "rf1_acc = accuracy_score(y_pred, y_test)\n",
    "rf1_prec = precision_score(y_pred, y_test,average='weighted')\n",
    "rf1_rec = recall_score(y_pred, y_test,average='weighted')\n",
    "rf1_f1 = f1_score(y_pred, y_test,average='weighted')\n",
    "rf1_auroc = roc_auc_score(y_train, forest1.predict_proba(X_train), multi_class='ovr')\n",
    "rf1_geo = geometric_mean_score(y_test, y_pred, average='weighted')\n",
    "rf1_spec = specificity_score(y_test, y_pred, average='weighted')\n",
    "rf1_sens = sensitivity_score(y_test, y_pred, average='weighted')\n",
    "\n",
    "storeResults('SMOTE - RF',rf1_acc,rf1_prec,rf1_rec,rf1_f1,rf1_auroc,rf1_geo,rf1_spec,rf1_sens)"
   ]
  },
  {
   "cell_type": "markdown",
   "metadata": {},
   "source": [
    "# Decision Tree"
   ]
  },
  {
   "cell_type": "code",
   "execution_count": 40,
   "metadata": {},
   "outputs": [
    {
     "name": "stdout",
     "output_type": "stream",
     "text": [
      "Fitting 4 folds for each of 8 candidates, totalling 32 fits\n"
     ]
    }
   ],
   "source": [
    "from sklearn.tree import DecisionTreeClassifier\n",
    "\n",
    "params = {\n",
    "    'max_depth': [5,6,7,8,9,10,50,100]\n",
    "}\n",
    "\n",
    "tree1 = GridSearchCV(estimator=DecisionTreeClassifier(random_state=42), param_grid=params, cv=4, n_jobs=-1, verbose=1)\n",
    "\n",
    "tree1.fit(X_train, y_train)\n",
    "\n",
    "#predicting the target value from the model for the samples\n",
    "\n",
    "y_pred = tree1.predict(X_test)\n",
    "\n",
    "dt1_acc = accuracy_score(y_pred, y_test)\n",
    "dt1_prec = precision_score(y_pred, y_test,average='weighted')\n",
    "dt1_rec = recall_score(y_pred, y_test,average='weighted')\n",
    "dt1_f1 = f1_score(y_pred, y_test,average='weighted')\n",
    "dt1_auroc = roc_auc_score(y_train, tree1.predict_proba(X_train), multi_class='ovr')\n",
    "dt1_geo = geometric_mean_score(y_test, y_pred, average='weighted')\n",
    "dt1_spec = specificity_score(y_test, y_pred, average='weighted')\n",
    "dt1_sens = sensitivity_score(y_test, y_pred, average='weighted')\n",
    "\n",
    "storeResults('SMOTE - DT',dt1_acc,dt1_prec,dt1_rec,dt1_f1,dt1_auroc,dt1_geo,dt1_spec,dt1_sens)"
   ]
  },
  {
   "cell_type": "markdown",
   "metadata": {},
   "source": [
    "# Stacking Classifier"
   ]
  },
  {
   "cell_type": "code",
   "execution_count": 41,
   "metadata": {},
   "outputs": [],
   "source": [
    "from sklearn.ensemble import StackingClassifier\n",
    "from sklearn.preprocessing import StandardScaler\n",
    "from sklearn.pipeline import make_pipeline\n",
    "from sklearn.ensemble import ExtraTreesClassifier\n",
    "from sklearn.svm import LinearSVC\n",
    "from sklearn.linear_model import LogisticRegression\n",
    "\n",
    "estimators = [('et', ExtraTreesClassifier(n_estimators=100, random_state=0)),('svr', make_pipeline(StandardScaler(),LinearSVC(random_state=42)))]\n",
    "\n",
    "clf = StackingClassifier(estimators=estimators, final_estimator=LogisticRegression())\n",
    "clf.fit(X_train, y_train)\n",
    "\n",
    "#predicting the target value from the model for the samples\n",
    "\n",
    "y_pred = clf.predict(X_test)"
   ]
  },
  {
   "cell_type": "code",
   "execution_count": 42,
   "metadata": {},
   "outputs": [],
   "source": [
    "stac1_acc = accuracy_score(y_pred, y_test)\n",
    "stac1_prec = precision_score(y_pred, y_test,average='weighted')\n",
    "stac1_rec = recall_score(y_pred, y_test,average='weighted')\n",
    "stac1_f1 = f1_score(y_pred, y_test,average='weighted')\n",
    "stac1_auroc = roc_auc_score(y_train, clf.predict_proba(X_train), multi_class='ovr')\n",
    "stac1_geo = geometric_mean_score(y_test, y_pred, average='weighted')\n",
    "stac1_spec = specificity_score(y_test, y_pred, average='weighted')\n",
    "stac1_sens = sensitivity_score(y_test, y_pred, average='weighted')\n",
    "\n",
    "#stac1_acc\n",
    "storeResults('SMOTE-STACKING',stac1_acc,stac1_prec,stac1_rec,stac1_f1,stac1_auroc,stac1_geo,stac1_spec,stac1_sens)"
   ]
  },
  {
   "cell_type": "markdown",
   "metadata": {},
   "source": [
    "# CDAAE"
   ]
  },
  {
   "cell_type": "code",
   "execution_count": 43,
   "metadata": {},
   "outputs": [
    {
     "name": "stdout",
     "output_type": "stream",
     "text": [
      "0    4\n",
      "1    4\n",
      "2    0\n",
      "3    4\n",
      "4    4\n",
      "Name: intrusion, dtype: int32\n"
     ]
    }
   ],
   "source": [
    "n_inputs = X_2.shape[1]\n",
    "\n",
    "print(y[:5])"
   ]
  },
  {
   "cell_type": "code",
   "execution_count": 44,
   "metadata": {},
   "outputs": [],
   "source": [
    "from sklearn.preprocessing import MinMaxScaler\n",
    "from sklearn.model_selection import train_test_split\n",
    "\n",
    "# split into train test sets\n",
    "X_train, X_test, y_train, y_test = train_test_split(X_2, y, test_size=0.33, random_state=1)\n",
    "\n",
    "# scale data\n",
    "t = MinMaxScaler()\n",
    "t.fit(X_train)\n",
    "X_train = t.transform(X_train)\n",
    "X_test = t.transform(X_test)"
   ]
  },
  {
   "cell_type": "code",
   "execution_count": 45,
   "metadata": {},
   "outputs": [],
   "source": [
    "from tensorflow.keras.models import Model\n",
    "from tensorflow.keras.layers import Input\n",
    "from tensorflow.keras.layers import Dense\n",
    "from tensorflow.keras.layers import LeakyReLU\n",
    "from tensorflow.keras.layers import BatchNormalization\n",
    "\n",
    "# define encoder\n",
    "visible = Input(shape=(n_inputs,))\n",
    "\n",
    "# encoder level 1\n",
    "e = Dense(n_inputs * 2)(visible)\n",
    "e = BatchNormalization()(e)\n",
    "e = LeakyReLU()(e)\n",
    "\n",
    "# encoder level 2\n",
    "e = Dense(n_inputs)(e)\n",
    "e = BatchNormalization()(e)\n",
    "e = LeakyReLU()(e)\n",
    "\n",
    "# bottleneck\n",
    "n_bottleneck = n_inputs\n",
    "bottleneck = Dense(n_bottleneck)(e)"
   ]
  },
  {
   "cell_type": "code",
   "execution_count": 46,
   "metadata": {},
   "outputs": [],
   "source": [
    "# define decoder, level 1\n",
    "d = Dense(n_inputs)(bottleneck)\n",
    "d = BatchNormalization()(d)\n",
    "d = LeakyReLU()(d)\n",
    "\n",
    "# decoder level 2\n",
    "d = Dense(n_inputs*2)(d)\n",
    "d = BatchNormalization()(d)\n",
    "d = LeakyReLU()(d)\n",
    "\n",
    "# output layer\n",
    "output = Dense(n_inputs, activation='linear')(d)\n",
    "\n",
    "# define autoencoder model\n",
    "model = Model(inputs=visible, outputs=output)"
   ]
  },
  {
   "cell_type": "code",
   "execution_count": 47,
   "metadata": {},
   "outputs": [],
   "source": [
    "# compile autoencoder model\n",
    "model.compile(optimizer='adam', loss='mse')"
   ]
  },
  {
   "cell_type": "code",
   "execution_count": 48,
   "metadata": {},
   "outputs": [],
   "source": [
    "history = model.fit(X_train, X_train, epochs=20, batch_size=2, verbose=0, validation_data=(X_test,X_test))"
   ]
  },
  {
   "cell_type": "code",
   "execution_count": 49,
   "metadata": {},
   "outputs": [
    {
     "data": {
      "image/png": "[encoded data removed]",
      "text/plain": [
       "<Figure size 432x288 with 1 Axes>"
      ]
     },
     "metadata": {
      "needs_background": "light"
     },
     "output_type": "display_data"
    }
   ],
   "source": [
    "from matplotlib import pyplot\n",
    "\n",
    "# plot loss\n",
    "pyplot.plot(history.history['loss'], label='train')\n",
    "pyplot.plot(history.history['val_loss'], label='test')\n",
    "pyplot.legend()\n",
    "pyplot.show()"
   ]
  },
  {
   "cell_type": "code",
   "execution_count": 50,
   "metadata": {},
   "outputs": [],
   "source": [
    "encoder = Model(inputs=visible, outputs=bottleneck)\n",
    "#plot_model(encoder, 'encoder_no_compress.png', show_shapes=True)"
   ]
  },
  {
   "cell_type": "code",
   "execution_count": 51,
   "metadata": {},
   "outputs": [
    {
     "name": "stdout",
     "output_type": "stream",
     "text": [
      "WARNING:tensorflow:Compiled the loaded model, but the compiled metrics have yet to be built. `model.compile_metrics` will be empty until you train or evaluate the model.\n"
     ]
    }
   ],
   "source": [
    "# save the encoder to file\n",
    "encoder.save('encoder.h5')"
   ]
  },
  {
   "cell_type": "code",
   "execution_count": 52,
   "metadata": {},
   "outputs": [
    {
     "name": "stdout",
     "output_type": "stream",
     "text": [
      "WARNING:tensorflow:No training configuration found in the save file, so the model was *not* compiled. Compile it manually.\n"
     ]
    }
   ],
   "source": [
    "# load the model from file\n",
    "from keras.models import load_model\n",
    "encoder = load_model('encoder.h5')\n",
    "\n",
    "## We can then use the encoder to transform the raw input data (e.g. 100 columns) \n",
    "## into bottleneck vectors (e.g. 50 element vectors).\n",
    "# encode the train data\n",
    "X_train_encode = encoder.predict(X_train)\n",
    "# encode the test data\n",
    "X_test_encode = encoder.predict(X_test)"
   ]
  },
  {
   "cell_type": "markdown",
   "metadata": {},
   "source": [
    "# SVM"
   ]
  },
  {
   "cell_type": "code",
   "execution_count": 53,
   "metadata": {},
   "outputs": [
    {
     "name": "stdout",
     "output_type": "stream",
     "text": [
      "Fitting 5 folds for each of 4 candidates, totalling 20 fits\n",
      "[CV 1/5] END ...............gamma=1, kernel=rbf;, score=0.963 total time=   3.1s\n",
      "[CV 2/5] END ...............gamma=1, kernel=rbf;, score=0.972 total time=   3.2s\n",
      "[CV 3/5] END ...............gamma=1, kernel=rbf;, score=0.968 total time=   3.2s\n",
      "[CV 4/5] END ...............gamma=1, kernel=rbf;, score=0.978 total time=   3.2s\n",
      "[CV 5/5] END ...............gamma=1, kernel=rbf;, score=0.973 total time=   3.2s\n",
      "[CV 1/5] END .............gamma=0.1, kernel=rbf;, score=0.973 total time=   1.0s\n",
      "[CV 2/5] END .............gamma=0.1, kernel=rbf;, score=0.984 total time=   1.0s\n",
      "[CV 3/5] END .............gamma=0.1, kernel=rbf;, score=0.975 total time=   1.0s\n",
      "[CV 4/5] END .............gamma=0.1, kernel=rbf;, score=0.984 total time=   1.0s\n",
      "[CV 5/5] END .............gamma=0.1, kernel=rbf;, score=0.977 total time=   1.0s\n",
      "[CV 1/5] END ............gamma=0.01, kernel=rbf;, score=0.963 total time=   0.7s\n",
      "[CV 2/5] END ............gamma=0.01, kernel=rbf;, score=0.975 total time=   0.7s\n",
      "[CV 3/5] END ............gamma=0.01, kernel=rbf;, score=0.960 total time=   0.7s\n",
      "[CV 4/5] END ............gamma=0.01, kernel=rbf;, score=0.969 total time=   0.7s\n",
      "[CV 5/5] END ............gamma=0.01, kernel=rbf;, score=0.967 total time=   0.7s\n",
      "[CV 1/5] END ...........gamma=0.001, kernel=rbf;, score=0.928 total time=   1.1s\n",
      "[CV 2/5] END ...........gamma=0.001, kernel=rbf;, score=0.935 total time=   1.2s\n",
      "[CV 3/5] END ...........gamma=0.001, kernel=rbf;, score=0.931 total time=   1.1s\n",
      "[CV 4/5] END ...........gamma=0.001, kernel=rbf;, score=0.945 total time=   1.2s\n",
      "[CV 5/5] END ...........gamma=0.001, kernel=rbf;, score=0.937 total time=   1.1s\n"
     ]
    }
   ],
   "source": [
    "from sklearn.svm import SVC\n",
    "from sklearn.model_selection import GridSearchCV\n",
    "\n",
    "param_grid = {'gamma': [1, 0.1, 0.01, 0.001],\n",
    "              'kernel': ['rbf']} \n",
    "\n",
    "# instantiate the model \n",
    "svm1 = GridSearchCV(SVC(probability=True), param_grid, refit = True, verbose = 3)\n",
    "\n",
    "# fit the model \n",
    "svm1.fit(X_train_encode, y_train)\n",
    "\n",
    "#predicting the target value from the model for the samples\n",
    "\n",
    "y_pred = svm1.predict(X_test_encode)\n",
    "\n",
    "svm_acc1 = accuracy_score(y_pred, y_test)\n",
    "svm_prec1 = precision_score(y_pred, y_test,average='weighted')\n",
    "svm_rec1 = recall_score(y_pred, y_test,average='weighted')\n",
    "svm_f1_1 = f1_score(y_pred, y_test,average='weighted')\n",
    "svm_auroc1 = roc_auc_score(y_train, svm1.predict_proba(X_train_encode), multi_class='ovr')\n",
    "svm_geo1 = geometric_mean_score(y_test, y_pred, average='weighted')\n",
    "svm_spec1 = specificity_score(y_test, y_pred, average='weighted')\n",
    "svm_sens1 = sensitivity_score(y_test, y_pred, average='weighted')\n",
    "\n",
    "storeResults('CDAAE - SVM',svm_acc1,svm_prec1,svm_rec1,svm_f1_1,svm_auroc1,svm_geo1,svm_spec1,svm_sens1)"
   ]
  },
  {
   "cell_type": "markdown",
   "metadata": {},
   "source": [
    "# RAndom FOrest"
   ]
  },
  {
   "cell_type": "code",
   "execution_count": 54,
   "metadata": {},
   "outputs": [],
   "source": [
    "from sklearn.ensemble import RandomForestClassifier\n",
    "from sklearn.model_selection import GridSearchCV,RandomizedSearchCV\n",
    "\n",
    "param_grid = {\n",
    "    'n_estimators': [5,10,20,40,80,150]\n",
    "}\n",
    "\n",
    "forest1 = GridSearchCV(RandomForestClassifier(),param_grid=param_grid)\n",
    "# fit the model \n",
    "forest1.fit(X_train_encode, y_train)\n",
    "\n",
    "#predicting the target value from the model for the samples\n",
    "\n",
    "y_pred = forest1.predict(X_test_encode)\n",
    "\n",
    "rf1_acc = accuracy_score(y_pred, y_test)\n",
    "rf1_prec = precision_score(y_pred, y_test,average='weighted')\n",
    "rf1_rec = recall_score(y_pred, y_test,average='weighted')\n",
    "rf1_f1 = f1_score(y_pred, y_test,average='weighted')\n",
    "rf1_auroc = roc_auc_score(y_train, forest1.predict_proba(X_train_encode), multi_class='ovr')\n",
    "rf1_geo = geometric_mean_score(y_test, y_pred, average='weighted')\n",
    "rf1_spec = specificity_score(y_test, y_pred, average='weighted')\n",
    "rf1_sens = sensitivity_score(y_test, y_pred, average='weighted')\n",
    "\n",
    "storeResults('CDAAE - RF',rf1_acc,rf1_prec,rf1_rec,rf1_f1,rf1_auroc,rf1_geo,rf1_spec,rf1_sens)"
   ]
  },
  {
   "cell_type": "markdown",
   "metadata": {},
   "source": [
    "# Decision Tree"
   ]
  },
  {
   "cell_type": "code",
   "execution_count": 55,
   "metadata": {},
   "outputs": [
    {
     "name": "stdout",
     "output_type": "stream",
     "text": [
      "Fitting 4 folds for each of 8 candidates, totalling 32 fits\n"
     ]
    }
   ],
   "source": [
    "from sklearn.tree import DecisionTreeClassifier\n",
    "\n",
    "params = {\n",
    "    'max_depth': [5,6,7,8,9,10,50,100]\n",
    "}\n",
    "\n",
    "tree1 = GridSearchCV(estimator=DecisionTreeClassifier(random_state=42), param_grid=params, cv=4, n_jobs=-1, verbose=1)\n",
    "\n",
    "tree1.fit(X_train_encode, y_train)\n",
    "\n",
    "#predicting the target value from the model for the samples\n",
    "\n",
    "y_pred = tree1.predict(X_test_encode)\n",
    "\n",
    "dt1_acc = accuracy_score(y_pred, y_test)\n",
    "dt1_prec = precision_score(y_pred, y_test,average='weighted')\n",
    "dt1_rec = recall_score(y_pred, y_test,average='weighted')\n",
    "dt1_f1 = f1_score(y_pred, y_test,average='weighted')\n",
    "dt1_auroc = roc_auc_score(y_train, tree1.predict_proba(X_train_encode), multi_class='ovr')\n",
    "dt1_geo = geometric_mean_score(y_test, y_pred, average='weighted')\n",
    "dt1_spec = specificity_score(y_test, y_pred, average='weighted')\n",
    "dt1_sens = sensitivity_score(y_test, y_pred, average='weighted')\n",
    "\n",
    "storeResults('CDAAE - DT',dt1_acc,dt1_prec,dt1_rec,dt1_f1,dt1_auroc,dt1_geo,dt1_spec,dt1_sens)"
   ]
  },
  {
   "cell_type": "markdown",
   "metadata": {},
   "source": [
    "# Stacking Classifier"
   ]
  },
  {
   "cell_type": "code",
   "execution_count": 56,
   "metadata": {},
   "outputs": [],
   "source": [
    "from sklearn.ensemble import StackingClassifier\n",
    "from sklearn.preprocessing import StandardScaler\n",
    "from sklearn.pipeline import make_pipeline\n",
    "from sklearn.ensemble import ExtraTreesClassifier\n",
    "from sklearn.svm import LinearSVC\n",
    "from sklearn.linear_model import LogisticRegression\n",
    "\n",
    "estimators = [('et', ExtraTreesClassifier(n_estimators=100, random_state=0)),('svr', make_pipeline(StandardScaler(),LinearSVC(random_state=42)))]\n",
    "\n",
    "clf = StackingClassifier(estimators=estimators, final_estimator=LogisticRegression())\n",
    "clf.fit(X_train, y_train)\n",
    "\n",
    "#predicting the target value from the model for the samples\n",
    "\n",
    "y_pred = clf.predict(X_test)\n",
    "\n",
    "stac1_acc = accuracy_score(y_pred, y_test)\n",
    "stac1_prec = precision_score(y_pred, y_test,average='weighted')\n",
    "stac1_rec = recall_score(y_pred, y_test,average='weighted')\n",
    "stac1_f1 = f1_score(y_pred, y_test,average='weighted')\n",
    "stac1_auroc = roc_auc_score(y_train, clf.predict_proba(X_train), multi_class='ovr')\n",
    "stac1_geo = geometric_mean_score(y_test, y_pred, average='weighted')\n",
    "stac1_spec = specificity_score(y_test, y_pred, average='weighted')\n",
    "stac1_sens = sensitivity_score(y_test, y_pred, average='weighted')\n",
    "\n",
    "#stac1_acc\n",
    "storeResults('CDAAE-STACKING',stac1_acc,stac1_prec,stac1_rec,stac1_f1,stac1_auroc,stac1_geo,stac1_spec,stac1_sens)"
   ]
  },
  {
   "cell_type": "markdown",
   "metadata": {},
   "source": [
    "# CDAAE-KNN"
   ]
  },
  {
   "cell_type": "code",
   "execution_count": 57,
   "metadata": {},
   "outputs": [],
   "source": [
    "X_train, X_test, y_train, y_test = train_test_split(X_2, y, test_size=0.33, random_state=1)"
   ]
  },
  {
   "cell_type": "code",
   "execution_count": 58,
   "metadata": {},
   "outputs": [],
   "source": [
    "import matplotlib.pyplot as plt\n",
    "n_train = np.array(X_train)\n",
    "n_test = np.array(X_test)"
   ]
  },
  {
   "cell_type": "code",
   "execution_count": 59,
   "metadata": {},
   "outputs": [
    {
     "name": "stdout",
     "output_type": "stream",
     "text": [
      "25\n",
      "(6700, 25)\n"
     ]
    },
    {
     "data": {
      "image/png": "[encoded data removed]",
      "text/plain": [
       "<Figure size 432x288 with 1 Axes>"
      ]
     },
     "metadata": {
      "needs_background": "light"
     },
     "output_type": "display_data"
    }
   ],
   "source": [
    "from keras.layers import Input, Dense\n",
    "from keras.models import Model\n",
    "import tensorflow as tf\n",
    "\n",
    "input_dim = n_train.shape[1]\n",
    "feature_dim = [25, 20, 15, 10]\n",
    "print(input_dim)\n",
    "inputs = Input(shape=(input_dim,))\n",
    "encoded = inputs\n",
    "encoded = Dense(feature_dim[0], kernel_initializer=\"uniform\")(encoded)\n",
    "encoded = Dense(feature_dim[1], kernel_initializer=\"uniform\")(encoded)\n",
    "encoded = Dense(feature_dim[2], kernel_initializer=\"uniform\")(encoded)\n",
    "encoded = Dense(feature_dim[3], kernel_initializer=\"uniform\")(encoded)\n",
    "\n",
    "decoded = encoded\n",
    "decoded = Dense(feature_dim[2], kernel_initializer=\"uniform\")(decoded)\n",
    "decoded = Dense(feature_dim[1], kernel_initializer=\"uniform\")(decoded)\n",
    "decoded = Dense(feature_dim[0], kernel_initializer=\"uniform\")(decoded)\n",
    "decoded = Dense(input_dim, kernel_initializer=\"uniform\")(decoded)\n",
    "\n",
    "\n",
    "autoencoder = Model(inputs, decoded)\n",
    "autoencoder.compile(optimizer='adadelta', loss='mse')\n",
    "\n",
    "autoencoder.fit(n_train, n_train,\n",
    "                verbose=0,\n",
    "                epochs=200,\n",
    "                batch_size=2,\n",
    "                shuffle=True,\n",
    "                validation_data=(n_test, n_test))\n",
    "\n",
    "predict_vals = autoencoder.predict(n_train)\n",
    "print(predict_vals.shape)\n",
    "plt.plot(predict_vals)\n",
    "plt.show()"
   ]
  },
  {
   "cell_type": "code",
   "execution_count": 60,
   "metadata": {},
   "outputs": [
    {
     "name": "stdout",
     "output_type": "stream",
     "text": [
      "Accuracy: 98.727%\n"
     ]
    }
   ],
   "source": [
    "from keras.models import Sequential\n",
    "\n",
    "featuremodel = Sequential()\n",
    "featuremodel.add(Dense(feature_dim[0], input_shape=(input_dim,), weights=autoencoder.layers[1].get_weights()))\n",
    "featuremodel.add(Dense(feature_dim[1], weights=autoencoder.layers[2].get_weights()))\n",
    "featuremodel.add(Dense(feature_dim[2], weights=autoencoder.layers[3].get_weights()))\n",
    "featuremodel.add(Dense(feature_dim[3], weights=autoencoder.layers[4].get_weights()))\n",
    "\n",
    "featuremodel.compile(optimizer='adadelta', loss='mse')\n",
    "\n",
    "from sklearn.neighbors import KNeighborsClassifier\n",
    "model = KNeighborsClassifier(n_neighbors=3)\n",
    "model.fit(X_train,y_train)\n",
    "prediction=model.predict(X_test)\n",
    "print(\"Accuracy: %s\" % \"{0:.3%}\".format(metrics.accuracy_score(prediction, y_test)))"
   ]
  },
  {
   "cell_type": "markdown",
   "metadata": {},
   "source": [
    "# SVM"
   ]
  },
  {
   "cell_type": "code",
   "execution_count": 61,
   "metadata": {},
   "outputs": [
    {
     "name": "stdout",
     "output_type": "stream",
     "text": [
      "Fitting 5 folds for each of 4 candidates, totalling 20 fits\n",
      "[CV 1/5] END ...............gamma=1, kernel=rbf;, score=0.873 total time=   1.4s\n",
      "[CV 2/5] END ...............gamma=1, kernel=rbf;, score=0.875 total time=   1.5s\n",
      "[CV 3/5] END ...............gamma=1, kernel=rbf;, score=0.867 total time=   1.4s\n",
      "[CV 4/5] END ...............gamma=1, kernel=rbf;, score=0.875 total time=   1.5s\n",
      "[CV 5/5] END ...............gamma=1, kernel=rbf;, score=0.878 total time=   1.5s\n",
      "[CV 1/5] END .............gamma=0.1, kernel=rbf;, score=0.832 total time=   2.0s\n",
      "[CV 2/5] END .............gamma=0.1, kernel=rbf;, score=0.838 total time=   2.0s\n",
      "[CV 3/5] END .............gamma=0.1, kernel=rbf;, score=0.830 total time=   2.0s\n",
      "[CV 4/5] END .............gamma=0.1, kernel=rbf;, score=0.849 total time=   2.0s\n",
      "[CV 5/5] END .............gamma=0.1, kernel=rbf;, score=0.841 total time=   2.1s\n",
      "[CV 1/5] END ............gamma=0.01, kernel=rbf;, score=0.830 total time=   2.6s\n",
      "[CV 2/5] END ............gamma=0.01, kernel=rbf;, score=0.838 total time=   2.7s\n",
      "[CV 3/5] END ............gamma=0.01, kernel=rbf;, score=0.831 total time=   2.6s\n",
      "[CV 4/5] END ............gamma=0.01, kernel=rbf;, score=0.849 total time=   2.7s\n",
      "[CV 5/5] END ............gamma=0.01, kernel=rbf;, score=0.841 total time=   2.7s\n",
      "[CV 1/5] END ...........gamma=0.001, kernel=rbf;, score=0.832 total time=   2.5s\n",
      "[CV 2/5] END ...........gamma=0.001, kernel=rbf;, score=0.838 total time=   2.5s\n",
      "[CV 3/5] END ...........gamma=0.001, kernel=rbf;, score=0.831 total time=   2.4s\n",
      "[CV 4/5] END ...........gamma=0.001, kernel=rbf;, score=0.849 total time=   2.5s\n",
      "[CV 5/5] END ...........gamma=0.001, kernel=rbf;, score=0.841 total time=   2.5s\n"
     ]
    }
   ],
   "source": [
    "from sklearn.svm import SVC\n",
    "from sklearn.model_selection import GridSearchCV\n",
    "\n",
    "param_grid = {'gamma': [1, 0.1, 0.01, 0.001],\n",
    "              'kernel': ['rbf']} \n",
    "\n",
    "# instantiate the model \n",
    "svm1 = GridSearchCV(SVC(probability=True), param_grid, refit = True, verbose = 3)\n",
    "\n",
    "# fit the model \n",
    "svm1.fit(featuremodel.predict(n_train), y_train)\n",
    "\n",
    "#predicting the target value from the model for the samples\n",
    "\n",
    "y_pred = svm1.predict(featuremodel.predict(n_test))\n",
    "\n",
    "svm_acc1 = accuracy_score(y_pred, y_test)\n",
    "svm_prec1 = precision_score(y_pred, y_test,average='weighted')\n",
    "svm_rec1 = recall_score(y_pred, y_test,average='weighted')\n",
    "svm_f1_1 = f1_score(y_pred, y_test,average='weighted')\n",
    "svm_auroc1 = roc_auc_score(y_train, svm1.predict_proba(featuremodel.predict(n_train)), multi_class='ovr')\n",
    "svm_geo1 = geometric_mean_score(y_test, y_pred, average='weighted')\n",
    "svm_spec1 = specificity_score(y_test, y_pred, average='weighted')\n",
    "svm_sens1 = sensitivity_score(y_test, y_pred, average='weighted')\n",
    "\n",
    "storeResults('CDAAE-KNN - SVM',svm_acc1,svm_prec1,svm_rec1,svm_f1_1,svm_auroc1,svm_geo1,svm_spec1,svm_sens1)"
   ]
  },
  {
   "cell_type": "markdown",
   "metadata": {},
   "source": [
    "# Random FOrest"
   ]
  },
  {
   "cell_type": "code",
   "execution_count": 62,
   "metadata": {},
   "outputs": [],
   "source": [
    "from sklearn.ensemble import RandomForestClassifier\n",
    "from sklearn.model_selection import GridSearchCV,RandomizedSearchCV\n",
    "\n",
    "param_grid = {\n",
    "    'n_estimators': [5,10,20,40,80,150]\n",
    "}\n",
    "\n",
    "forest1 = GridSearchCV(RandomForestClassifier(),param_grid=param_grid)\n",
    "# fit the model \n",
    "forest1.fit(featuremodel.predict(n_train), y_train)\n",
    "\n",
    "#predicting the target value from the model for the samples\n",
    "\n",
    "y_pred = forest1.predict(featuremodel.predict(n_test))\n",
    "\n",
    "rf1_acc = accuracy_score(y_pred, y_test)\n",
    "rf1_prec = precision_score(y_pred, y_test,average='weighted')\n",
    "rf1_rec = recall_score(y_pred, y_test,average='weighted')\n",
    "rf1_f1 = f1_score(y_pred, y_test,average='weighted')\n",
    "rf1_auroc = roc_auc_score(y_train, forest1.predict_proba(featuremodel.predict(n_train)), multi_class='ovr')\n",
    "rf1_geo = geometric_mean_score(y_test, y_pred, average='weighted')\n",
    "rf1_spec = specificity_score(y_test, y_pred, average='weighted')\n",
    "rf1_sens = sensitivity_score(y_test, y_pred, average='weighted')\n",
    "\n",
    "storeResults('CDAAE-KNN - RF',rf1_acc,rf1_prec,rf1_rec,rf1_f1,rf1_auroc,rf1_geo,rf1_spec,rf1_sens)"
   ]
  },
  {
   "cell_type": "markdown",
   "metadata": {},
   "source": [
    "# Decision Tree"
   ]
  },
  {
   "cell_type": "code",
   "execution_count": 63,
   "metadata": {},
   "outputs": [
    {
     "name": "stdout",
     "output_type": "stream",
     "text": [
      "Fitting 4 folds for each of 8 candidates, totalling 32 fits\n"
     ]
    }
   ],
   "source": [
    "from sklearn.tree import DecisionTreeClassifier\n",
    "\n",
    "params = {\n",
    "    'max_depth': [5,6,7,8,9,10,50,100]\n",
    "}\n",
    "\n",
    "tree1 = GridSearchCV(estimator=DecisionTreeClassifier(random_state=42), param_grid=params, cv=4, n_jobs=-1, verbose=1)\n",
    "\n",
    "tree1.fit(featuremodel.predict(n_train), y_train)\n",
    "\n",
    "#predicting the target value from the model for the samples\n",
    "\n",
    "y_pred = tree1.predict(featuremodel.predict(n_test))\n",
    "\n",
    "dt1_acc = accuracy_score(y_pred, y_test)\n",
    "dt1_prec = precision_score(y_pred, y_test,average='weighted')\n",
    "dt1_rec = recall_score(y_pred, y_test,average='weighted')\n",
    "dt1_f1 = f1_score(y_pred, y_test,average='weighted')\n",
    "dt1_auroc = roc_auc_score(y_train, tree1.predict_proba(featuremodel.predict(n_train)), multi_class='ovr')\n",
    "dt1_geo = geometric_mean_score(y_test, y_pred, average='weighted')\n",
    "dt1_spec = specificity_score(y_test, y_pred, average='weighted')\n",
    "dt1_sens = sensitivity_score(y_test, y_pred, average='weighted')\n",
    "\n",
    "storeResults('CDAAE-KNN - DT',dt1_acc,dt1_prec,dt1_rec,dt1_f1,dt1_auroc,dt1_geo,dt1_spec,dt1_sens)"
   ]
  },
  {
   "cell_type": "markdown",
   "metadata": {},
   "source": [
    "# Stacking Classifier"
   ]
  },
  {
   "cell_type": "code",
   "execution_count": 64,
   "metadata": {},
   "outputs": [],
   "source": [
    "from sklearn.ensemble import StackingClassifier\n",
    "from sklearn.preprocessing import StandardScaler\n",
    "from sklearn.pipeline import make_pipeline\n",
    "from sklearn.ensemble import ExtraTreesClassifier\n",
    "from sklearn.svm import LinearSVC\n",
    "from sklearn.linear_model import LogisticRegression\n",
    "\n",
    "estimators = [('et', ExtraTreesClassifier(n_estimators=100, random_state=0)),('svr', make_pipeline(StandardScaler(),LinearSVC(random_state=42)))]\n",
    "\n",
    "clf = StackingClassifier(estimators=estimators, final_estimator=LogisticRegression())\n",
    "clf.fit(X_train, y_train)\n",
    "\n",
    "#predicting the target value from the model for the samples\n",
    "\n",
    "y_pred = clf.predict(X_test)\n",
    "\n",
    "stac1_acc = accuracy_score(y_pred, y_test)\n",
    "stac1_prec = precision_score(y_pred, y_test,average='weighted')\n",
    "stac1_rec = recall_score(y_pred, y_test,average='weighted')\n",
    "stac1_f1 = f1_score(y_pred, y_test,average='weighted')\n",
    "stac1_auroc = roc_auc_score(y_train, clf.predict_proba(X_train), multi_class='ovr')\n",
    "stac1_geo = geometric_mean_score(y_test, y_pred, average='weighted')\n",
    "stac1_spec = specificity_score(y_test, y_pred, average='weighted')\n",
    "stac1_sens = sensitivity_score(y_test, y_pred, average='weighted')\n",
    "\n",
    "#stac1_acc\n",
    "storeResults('CDAAE-KNN-STACKING',stac1_acc,stac1_prec,stac1_rec,stac1_f1,stac1_auroc,stac1_geo,stac1_spec,stac1_sens)"
   ]
  },
  {
   "cell_type": "markdown",
   "metadata": {},
   "source": [
    "# Comparison"
   ]
  },
  {
   "cell_type": "code",
   "execution_count": 65,
   "metadata": {},
   "outputs": [],
   "source": [
    "#creating dataframe\n",
    "result = pd.DataFrame({ 'ML Model' : ML_Model,\n",
    "                        'Accuracy' : accuracy,\n",
    "                       'Precision': precision,\n",
    "                       'Recall'   : recall, \n",
    "                       'F1_score' : f1score,\n",
    "                       'AUC Score' : auc,\n",
    "                       'Geometric Metric Score' : geo,\n",
    "                       'Specificity' : spec,\n",
    "                       'Sensitivity' : sens\n",
    "                        \n",
    "                      }) "
   ]
  },
  {
   "cell_type": "code",
   "execution_count": 66,
   "metadata": {},
   "outputs": [
    {
     "data": {
      "text/html": [
       "<div>\n",
       "<style scoped>\n",
       "    .dataframe tbody tr th:only-of-type {\n",
       "        vertical-align: middle;\n",
       "    }\n",
       "\n",
       "    .dataframe tbody tr th {\n",
       "        vertical-align: top;\n",
       "    }\n",
       "\n",
       "    .dataframe thead th {\n",
       "        text-align: right;\n",
       "    }\n",
       "</style>\n",
       "<table border=\"1\" class=\"dataframe\">\n",
       "  <thead>\n",
       "    <tr style=\"text-align: right;\">\n",
       "      <th></th>\n",
       "      <th>ML Model</th>\n",
       "      <th>Accuracy</th>\n",
       "      <th>Precision</th>\n",
       "      <th>Recall</th>\n",
       "      <th>F1_score</th>\n",
       "      <th>AUC Score</th>\n",
       "      <th>Geometric Metric Score</th>\n",
       "      <th>Specificity</th>\n",
       "      <th>Sensitivity</th>\n",
       "    </tr>\n",
       "  </thead>\n",
       "  <tbody>\n",
       "    <tr>\n",
       "      <th>0</th>\n",
       "      <td>Original - SVM</td>\n",
       "      <td>0.988</td>\n",
       "      <td>0.989</td>\n",
       "      <td>0.988</td>\n",
       "      <td>0.989</td>\n",
       "      <td>0.998</td>\n",
       "      <td>0.989</td>\n",
       "      <td>0.989</td>\n",
       "      <td>0.988</td>\n",
       "    </tr>\n",
       "    <tr>\n",
       "      <th>1</th>\n",
       "      <td>Original - RF</td>\n",
       "      <td>0.995</td>\n",
       "      <td>0.995</td>\n",
       "      <td>0.995</td>\n",
       "      <td>0.995</td>\n",
       "      <td>1.000</td>\n",
       "      <td>0.995</td>\n",
       "      <td>0.996</td>\n",
       "      <td>0.995</td>\n",
       "    </tr>\n",
       "    <tr>\n",
       "      <th>2</th>\n",
       "      <td>Original - DT</td>\n",
       "      <td>0.992</td>\n",
       "      <td>0.993</td>\n",
       "      <td>0.992</td>\n",
       "      <td>0.992</td>\n",
       "      <td>0.998</td>\n",
       "      <td>0.994</td>\n",
       "      <td>0.995</td>\n",
       "      <td>0.992</td>\n",
       "    </tr>\n",
       "    <tr>\n",
       "      <th>3</th>\n",
       "      <td>Original - Stacking</td>\n",
       "      <td>0.996</td>\n",
       "      <td>0.996</td>\n",
       "      <td>0.996</td>\n",
       "      <td>0.996</td>\n",
       "      <td>1.000</td>\n",
       "      <td>0.997</td>\n",
       "      <td>0.998</td>\n",
       "      <td>0.996</td>\n",
       "    </tr>\n",
       "    <tr>\n",
       "      <th>4</th>\n",
       "      <td>SMOTE - SVM</td>\n",
       "      <td>0.996</td>\n",
       "      <td>0.996</td>\n",
       "      <td>0.996</td>\n",
       "      <td>0.996</td>\n",
       "      <td>1.000</td>\n",
       "      <td>0.998</td>\n",
       "      <td>0.999</td>\n",
       "      <td>0.996</td>\n",
       "    </tr>\n",
       "    <tr>\n",
       "      <th>5</th>\n",
       "      <td>SMOTE - RF</td>\n",
       "      <td>0.999</td>\n",
       "      <td>0.999</td>\n",
       "      <td>0.999</td>\n",
       "      <td>0.999</td>\n",
       "      <td>1.000</td>\n",
       "      <td>1.000</td>\n",
       "      <td>1.000</td>\n",
       "      <td>0.999</td>\n",
       "    </tr>\n",
       "    <tr>\n",
       "      <th>6</th>\n",
       "      <td>SMOTE - DT</td>\n",
       "      <td>0.996</td>\n",
       "      <td>0.996</td>\n",
       "      <td>0.996</td>\n",
       "      <td>0.996</td>\n",
       "      <td>1.000</td>\n",
       "      <td>0.997</td>\n",
       "      <td>0.999</td>\n",
       "      <td>0.996</td>\n",
       "    </tr>\n",
       "    <tr>\n",
       "      <th>7</th>\n",
       "      <td>SMOTE-STACKING</td>\n",
       "      <td>0.998</td>\n",
       "      <td>0.998</td>\n",
       "      <td>0.998</td>\n",
       "      <td>0.998</td>\n",
       "      <td>1.000</td>\n",
       "      <td>0.999</td>\n",
       "      <td>1.000</td>\n",
       "      <td>0.998</td>\n",
       "    </tr>\n",
       "    <tr>\n",
       "      <th>8</th>\n",
       "      <td>CDAAE - SVM</td>\n",
       "      <td>0.972</td>\n",
       "      <td>0.973</td>\n",
       "      <td>0.972</td>\n",
       "      <td>0.972</td>\n",
       "      <td>0.997</td>\n",
       "      <td>0.974</td>\n",
       "      <td>0.976</td>\n",
       "      <td>0.972</td>\n",
       "    </tr>\n",
       "    <tr>\n",
       "      <th>9</th>\n",
       "      <td>CDAAE - RF</td>\n",
       "      <td>0.979</td>\n",
       "      <td>0.980</td>\n",
       "      <td>0.979</td>\n",
       "      <td>0.980</td>\n",
       "      <td>1.000</td>\n",
       "      <td>0.982</td>\n",
       "      <td>0.984</td>\n",
       "      <td>0.979</td>\n",
       "    </tr>\n",
       "    <tr>\n",
       "      <th>10</th>\n",
       "      <td>CDAAE - DT</td>\n",
       "      <td>0.969</td>\n",
       "      <td>0.971</td>\n",
       "      <td>0.969</td>\n",
       "      <td>0.970</td>\n",
       "      <td>0.964</td>\n",
       "      <td>0.972</td>\n",
       "      <td>0.975</td>\n",
       "      <td>0.969</td>\n",
       "    </tr>\n",
       "    <tr>\n",
       "      <th>11</th>\n",
       "      <td>CDAAE-STACKING</td>\n",
       "      <td>0.992</td>\n",
       "      <td>0.992</td>\n",
       "      <td>0.992</td>\n",
       "      <td>0.992</td>\n",
       "      <td>1.000</td>\n",
       "      <td>0.993</td>\n",
       "      <td>0.994</td>\n",
       "      <td>0.992</td>\n",
       "    </tr>\n",
       "    <tr>\n",
       "      <th>12</th>\n",
       "      <td>CDAAE-KNN - SVM</td>\n",
       "      <td>0.860</td>\n",
       "      <td>0.931</td>\n",
       "      <td>0.860</td>\n",
       "      <td>0.885</td>\n",
       "      <td>0.880</td>\n",
       "      <td>0.857</td>\n",
       "      <td>0.854</td>\n",
       "      <td>0.860</td>\n",
       "    </tr>\n",
       "    <tr>\n",
       "      <th>13</th>\n",
       "      <td>CDAAE-KNN - RF</td>\n",
       "      <td>0.917</td>\n",
       "      <td>0.926</td>\n",
       "      <td>0.917</td>\n",
       "      <td>0.920</td>\n",
       "      <td>1.000</td>\n",
       "      <td>0.924</td>\n",
       "      <td>0.930</td>\n",
       "      <td>0.917</td>\n",
       "    </tr>\n",
       "    <tr>\n",
       "      <th>14</th>\n",
       "      <td>CDAAE-KNN - DT</td>\n",
       "      <td>0.906</td>\n",
       "      <td>0.911</td>\n",
       "      <td>0.906</td>\n",
       "      <td>0.908</td>\n",
       "      <td>1.000</td>\n",
       "      <td>0.919</td>\n",
       "      <td>0.931</td>\n",
       "      <td>0.906</td>\n",
       "    </tr>\n",
       "    <tr>\n",
       "      <th>15</th>\n",
       "      <td>CDAAE-KNN-STACKING</td>\n",
       "      <td>0.992</td>\n",
       "      <td>0.992</td>\n",
       "      <td>0.992</td>\n",
       "      <td>0.992</td>\n",
       "      <td>1.000</td>\n",
       "      <td>0.993</td>\n",
       "      <td>0.994</td>\n",
       "      <td>0.992</td>\n",
       "    </tr>\n",
       "  </tbody>\n",
       "</table>\n",
       "</div>"
      ],
      "text/plain": [
       "               ML Model  Accuracy  Precision  Recall  F1_score  AUC Score  \\\n",
       "0        Original - SVM     0.988      0.989   0.988     0.989      0.998   \n",
       "1         Original - RF     0.995      0.995   0.995     0.995      1.000   \n",
       "2         Original - DT     0.992      0.993   0.992     0.992      0.998   \n",
       "3   Original - Stacking     0.996      0.996   0.996     0.996      1.000   \n",
       "4           SMOTE - SVM     0.996      0.996   0.996     0.996      1.000   \n",
       "5            SMOTE - RF     0.999      0.999   0.999     0.999      1.000   \n",
       "6            SMOTE - DT     0.996      0.996   0.996     0.996      1.000   \n",
       "7        SMOTE-STACKING     0.998      0.998   0.998     0.998      1.000   \n",
       "8           CDAAE - SVM     0.972      0.973   0.972     0.972      0.997   \n",
       "9            CDAAE - RF     0.979      0.980   0.979     0.980      1.000   \n",
       "10           CDAAE - DT     0.969      0.971   0.969     0.970      0.964   \n",
       "11       CDAAE-STACKING     0.992      0.992   0.992     0.992      1.000   \n",
       "12      CDAAE-KNN - SVM     0.860      0.931   0.860     0.885      0.880   \n",
       "13       CDAAE-KNN - RF     0.917      0.926   0.917     0.920      1.000   \n",
       "14       CDAAE-KNN - DT     0.906      0.911   0.906     0.908      1.000   \n",
       "15   CDAAE-KNN-STACKING     0.992      0.992   0.992     0.992      1.000   \n",
       "\n",
       "    Geometric Metric Score  Specificity  Sensitivity  \n",
       "0                    0.989        0.989        0.988  \n",
       "1                    0.995        0.996        0.995  \n",
       "2                    0.994        0.995        0.992  \n",
       "3                    0.997        0.998        0.996  \n",
       "4                    0.998        0.999        0.996  \n",
       "5                    1.000        1.000        0.999  \n",
       "6                    0.997        0.999        0.996  \n",
       "7                    0.999        1.000        0.998  \n",
       "8                    0.974        0.976        0.972  \n",
       "9                    0.982        0.984        0.979  \n",
       "10                   0.972        0.975        0.969  \n",
       "11                   0.993        0.994        0.992  \n",
       "12                   0.857        0.854        0.860  \n",
       "13                   0.924        0.930        0.917  \n",
       "14                   0.919        0.931        0.906  \n",
       "15                   0.993        0.994        0.992  "
      ]
     },
     "execution_count": 66,
     "metadata": {},
     "output_type": "execute_result"
    }
   ],
   "source": [
    "result"
   ]
  },
  {
   "cell_type": "markdown",
   "metadata": {},
   "source": [
    "# Graph"
   ]
  },
  {
   "cell_type": "code",
   "execution_count": 67,
   "metadata": {},
   "outputs": [],
   "source": [
    "classifier = ML_Model\n",
    "y_pos = np.arange(len(classifier))"
   ]
  },
  {
   "cell_type": "markdown",
   "metadata": {},
   "source": [
    "# Accuracy"
   ]
  },
  {
   "cell_type": "code",
   "execution_count": 68,
   "metadata": {},
   "outputs": [
    {
     "data": {
      "image/png": "[encoded data removed]",
      "text/plain": [
       "<Figure size 432x288 with 1 Axes>"
      ]
     },
     "metadata": {
      "needs_background": "light"
     },
     "output_type": "display_data"
    }
   ],
   "source": [
    "import matplotlib.pyplot as plt2\n",
    "plt2.barh(y_pos, accuracy, align='center', alpha=0.5,color='blue')\n",
    "plt2.yticks(y_pos, classifier)\n",
    "plt2.xlabel('Accuracy Score')\n",
    "plt2.title('Classification Performance')\n",
    "plt2.show()"
   ]
  },
  {
   "cell_type": "markdown",
   "metadata": {},
   "source": [
    "# Precision"
   ]
  },
  {
   "cell_type": "code",
   "execution_count": 69,
   "metadata": {},
   "outputs": [
    {
     "data": {
      "image/png": "[encoded data removed]",
      "text/plain": [
       "<Figure size 432x288 with 1 Axes>"
      ]
     },
     "metadata": {
      "needs_background": "light"
     },
     "output_type": "display_data"
    }
   ],
   "source": [
    "import matplotlib.pyplot as plt2\n",
    "plt2.barh(y_pos, precision, align='center', alpha=0.5,color='red')\n",
    "plt2.yticks(y_pos, classifier)\n",
    "plt2.xlabel('Precision Score')\n",
    "plt2.title('Classification Performance')\n",
    "plt2.show()"
   ]
  },
  {
   "cell_type": "markdown",
   "metadata": {},
   "source": [
    "# Recall"
   ]
  },
  {
   "cell_type": "code",
   "execution_count": 70,
   "metadata": {},
   "outputs": [
    {
     "data": {
      "image/png": "[encoded data removed]",
      "text/plain": [
       "<Figure size 432x288 with 1 Axes>"
      ]
     },
     "metadata": {
      "needs_background": "light"
     },
     "output_type": "display_data"
    }
   ],
   "source": [
    "import matplotlib.pyplot as plt2\n",
    "plt2.barh(y_pos, recall, align='center', alpha=0.5,color='yellow')\n",
    "plt2.yticks(y_pos, classifier)\n",
    "plt2.xlabel('Recall Score')\n",
    "plt2.title('Classification Performance')\n",
    "plt2.show()"
   ]
  },
  {
   "cell_type": "markdown",
   "metadata": {},
   "source": [
    "# F1-Score"
   ]
  },
  {
   "cell_type": "code",
   "execution_count": 71,
   "metadata": {},
   "outputs": [
    {
     "data": {
      "image/png": "[encoded data removed]",
      "text/plain": [
       "<Figure size 432x288 with 1 Axes>"
      ]
     },
     "metadata": {
      "needs_background": "light"
     },
     "output_type": "display_data"
    }
   ],
   "source": [
    "import matplotlib.pyplot as plt2\n",
    "plt2.barh(y_pos, f1score, align='center', alpha=0.5,color='pink')\n",
    "plt2.yticks(y_pos, classifier)\n",
    "plt2.xlabel('F1 Score')\n",
    "plt2.title('Classification Performance')\n",
    "plt2.show()"
   ]
  },
  {
   "cell_type": "markdown",
   "metadata": {},
   "source": [
    "# AUC Score"
   ]
  },
  {
   "cell_type": "code",
   "execution_count": 72,
   "metadata": {},
   "outputs": [
    {
     "data": {
      "image/png": "[encoded data removed]",
      "text/plain": [
       "<Figure size 432x288 with 1 Axes>"
      ]
     },
     "metadata": {
      "needs_background": "light"
     },
     "output_type": "display_data"
    }
   ],
   "source": [
    "import matplotlib.pyplot as plt2\n",
    "plt2.barh(y_pos, auc, align='center', alpha=0.5,color='orange')\n",
    "plt2.yticks(y_pos, classifier)\n",
    "plt2.xlabel('AUC Score')\n",
    "plt2.title('Classification Performance')\n",
    "plt2.show()"
   ]
  },
  {
   "cell_type": "markdown",
   "metadata": {},
   "source": [
    "# Geometric Metric Score"
   ]
  },
  {
   "cell_type": "code",
   "execution_count": 73,
   "metadata": {},
   "outputs": [
    {
     "data": {
      "image/png": "[encoded data removed]",
      "text/plain": [
       "<Figure size 432x288 with 1 Axes>"
      ]
     },
     "metadata": {
      "needs_background": "light"
     },
     "output_type": "display_data"
    }
   ],
   "source": [
    "import matplotlib.pyplot as plt2\n",
    "plt2.barh(y_pos, geo, align='center', alpha=0.5,color='cyan')\n",
    "plt2.yticks(y_pos, classifier)\n",
    "plt2.xlabel('GEO Score')\n",
    "plt2.title('Classification Performance')\n",
    "plt2.show()"
   ]
  },
  {
   "cell_type": "markdown",
   "metadata": {},
   "source": [
    "# Specificity"
   ]
  },
  {
   "cell_type": "code",
   "execution_count": 74,
   "metadata": {},
   "outputs": [
    {
     "data": {
      "image/png": "[encoded data removed]",
      "text/plain": [
       "<Figure size 432x288 with 1 Axes>"
      ]
     },
     "metadata": {
      "needs_background": "light"
     },
     "output_type": "display_data"
    }
   ],
   "source": [
    "import matplotlib.pyplot as plt2\n",
    "plt2.barh(y_pos, spec, align='center', alpha=0.5,color='purple')\n",
    "plt2.yticks(y_pos, classifier)\n",
    "plt2.xlabel('Specificity Score')\n",
    "plt2.title('Classification Performance')\n",
    "plt2.show()"
   ]
  },
  {
   "cell_type": "markdown",
   "metadata": {},
   "source": [
    "# Sensitivity"
   ]
  },
  {
   "cell_type": "code",
   "execution_count": 75,
   "metadata": {},
   "outputs": [
    {
     "data": {
      "image/png": "[encoded data removed]",
      "text/plain": [
       "<Figure size 432x288 with 1 Axes>"
      ]
     },
     "metadata": {
      "needs_background": "light"
     },
     "output_type": "display_data"
    }
   ],
   "source": [
    "import matplotlib.pyplot as plt2\n",
    "plt2.barh(y_pos, sens, align='center', alpha=0.5,color='gold')\n",
    "plt2.yticks(y_pos, classifier)\n",
    "plt2.xlabel('Senseitivity Score')\n",
    "plt2.title('Classification Performance')\n",
    "plt2.show()"
   ]
  },
  {
   "cell_type": "markdown",
   "metadata": {},
   "source": [
    "# Modelling"
   ]
  },
  {
   "cell_type": "code",
   "execution_count": 78,
   "metadata": {},
   "outputs": [
    {
     "data": {
      "text/plain": [
       "['model_kdd.sav']"
      ]
     },
     "execution_count": 78,
     "metadata": {},
     "output_type": "execute_result"
    }
   ],
   "source": [
    "import joblib\n",
    "filename = 'model_kdd.sav'\n",
    "joblib.dump(clf, filename)"
   ]
  },
  {
   "cell_type": "code",
   "execution_count": null,
   "metadata": {},
   "outputs": [],
   "source": []
  }
 ],
 "metadata": {
  "kernelspec": {
   "display_name": "Python 3",
   "language": "python",
   "name": "python3"
  },
  "language_info": {
   "codemirror_mode": {
    "name": "ipython",
    "version": 3
   },
   "file_extension": ".py",
   "mimetype": "text/x-python",
   "name": "python",
   "nbconvert_exporter": "python",
   "pygments_lexer": "ipython3",
   "version": "3.7.4"
  }
 },
 "nbformat": 4,
 "nbformat_minor": 2
}
