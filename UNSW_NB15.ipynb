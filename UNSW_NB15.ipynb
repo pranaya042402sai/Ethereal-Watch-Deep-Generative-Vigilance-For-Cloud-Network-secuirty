{
 "cells": [
  {
   "cell_type": "code",
   "execution_count": 1,
   "metadata": {},
   "outputs": [],
   "source": [
    "import warnings\n",
    "warnings.filterwarnings('ignore')"
   ]
  },
  {
   "cell_type": "code",
   "execution_count": 2,
   "metadata": {},
   "outputs": [
    {
     "name": "stdout",
     "output_type": "stream",
     "text": [
      "1 Physical GPU, 2 Logical GPUs\n"
     ]
    }
   ],
   "source": [
    "import tensorflow as tf\n",
    "gpus = tf.config.list_physical_devices('GPU')\n",
    "if gpus:\n",
    "  # Create 2 virtual GPUs with 1GB memory each\n",
    "  try:\n",
    "    tf.config.set_logical_device_configuration(\n",
    "        gpus[0],\n",
    "        [tf.config.LogicalDeviceConfiguration(memory_limit=1024),\n",
    "         tf.config.LogicalDeviceConfiguration(memory_limit=1024)])\n",
    "    logical_gpus = tf.config.list_logical_devices('GPU')\n",
    "    print(len(gpus), \"Physical GPU,\", len(logical_gpus), \"Logical GPUs\")\n",
    "  except RuntimeError as e:\n",
    "    # Virtual devices must be set before GPUs have been initialized\n",
    "    print(e)"
   ]
  },
  {
   "cell_type": "code",
   "execution_count": 3,
   "metadata": {},
   "outputs": [],
   "source": [
    "import numpy as np\n",
    "import pandas as pd\n",
    "import pickle # saving and loading trained model\n",
    "from os import path\n",
    "\n",
    "# importing required libraries for normalizing data\n",
    "from sklearn import preprocessing\n",
    "from sklearn.preprocessing import (StandardScaler, OrdinalEncoder,LabelEncoder, MinMaxScaler, OneHotEncoder)\n",
    "from sklearn.preprocessing import Normalizer, MaxAbsScaler , RobustScaler, PowerTransformer\n",
    "\n",
    "# importing library for plotting\n",
    "import matplotlib.pyplot as plt\n",
    "import seaborn as sns\n",
    "\n",
    "from sklearn import metrics\n",
    "from sklearn.metrics import accuracy_score # for calculating accuracy of model\n",
    "from sklearn.model_selection import train_test_split # for splitting the dataset for training and testing\n",
    "from sklearn.metrics import classification_report # for generating a classification report of model\n",
    "\n",
    "from sklearn.metrics import precision_score\n",
    "from sklearn.metrics import recall_score\n",
    "from sklearn.metrics import f1_score"
   ]
  },
  {
   "cell_type": "code",
   "execution_count": 4,
   "metadata": {},
   "outputs": [],
   "source": [
    "train='Data/UNSW_NB15_training-set.csv'\n",
    "\n",
    "train_data=pd.read_csv(train)"
   ]
  },
  {
   "cell_type": "code",
   "execution_count": 5,
   "metadata": {},
   "outputs": [
    {
     "data": {
      "text/html": [
       "<div>\n",
       "<style scoped>\n",
       "    .dataframe tbody tr th:only-of-type {\n",
       "        vertical-align: middle;\n",
       "    }\n",
       "\n",
       "    .dataframe tbody tr th {\n",
       "        vertical-align: top;\n",
       "    }\n",
       "\n",
       "    .dataframe thead th {\n",
       "        text-align: right;\n",
       "    }\n",
       "</style>\n",
       "<table border=\"1\" class=\"dataframe\">\n",
       "  <thead>\n",
       "    <tr style=\"text-align: right;\">\n",
       "      <th></th>\n",
       "      <th>id</th>\n",
       "      <th>dur</th>\n",
       "      <th>proto</th>\n",
       "      <th>service</th>\n",
       "      <th>state</th>\n",
       "      <th>spkts</th>\n",
       "      <th>dpkts</th>\n",
       "      <th>sbytes</th>\n",
       "      <th>dbytes</th>\n",
       "      <th>rate</th>\n",
       "      <th>...</th>\n",
       "      <th>ct_dst_sport_ltm</th>\n",
       "      <th>ct_dst_src_ltm</th>\n",
       "      <th>is_ftp_login</th>\n",
       "      <th>ct_ftp_cmd</th>\n",
       "      <th>ct_flw_http_mthd</th>\n",
       "      <th>ct_src_ltm</th>\n",
       "      <th>ct_srv_dst</th>\n",
       "      <th>is_sm_ips_ports</th>\n",
       "      <th>attack_cat</th>\n",
       "      <th>label</th>\n",
       "    </tr>\n",
       "  </thead>\n",
       "  <tbody>\n",
       "    <tr>\n",
       "      <th>0</th>\n",
       "      <td>1</td>\n",
       "      <td>0.000011</td>\n",
       "      <td>udp</td>\n",
       "      <td>-</td>\n",
       "      <td>INT</td>\n",
       "      <td>2</td>\n",
       "      <td>0</td>\n",
       "      <td>496</td>\n",
       "      <td>0</td>\n",
       "      <td>90909.0902</td>\n",
       "      <td>...</td>\n",
       "      <td>1</td>\n",
       "      <td>2</td>\n",
       "      <td>0</td>\n",
       "      <td>0</td>\n",
       "      <td>0</td>\n",
       "      <td>1</td>\n",
       "      <td>2</td>\n",
       "      <td>0</td>\n",
       "      <td>Normal</td>\n",
       "      <td>0</td>\n",
       "    </tr>\n",
       "    <tr>\n",
       "      <th>1</th>\n",
       "      <td>2</td>\n",
       "      <td>0.000008</td>\n",
       "      <td>udp</td>\n",
       "      <td>-</td>\n",
       "      <td>INT</td>\n",
       "      <td>2</td>\n",
       "      <td>0</td>\n",
       "      <td>1762</td>\n",
       "      <td>0</td>\n",
       "      <td>125000.0003</td>\n",
       "      <td>...</td>\n",
       "      <td>1</td>\n",
       "      <td>2</td>\n",
       "      <td>0</td>\n",
       "      <td>0</td>\n",
       "      <td>0</td>\n",
       "      <td>1</td>\n",
       "      <td>2</td>\n",
       "      <td>0</td>\n",
       "      <td>Normal</td>\n",
       "      <td>0</td>\n",
       "    </tr>\n",
       "    <tr>\n",
       "      <th>2</th>\n",
       "      <td>3</td>\n",
       "      <td>0.000005</td>\n",
       "      <td>udp</td>\n",
       "      <td>-</td>\n",
       "      <td>INT</td>\n",
       "      <td>2</td>\n",
       "      <td>0</td>\n",
       "      <td>1068</td>\n",
       "      <td>0</td>\n",
       "      <td>200000.0051</td>\n",
       "      <td>...</td>\n",
       "      <td>1</td>\n",
       "      <td>3</td>\n",
       "      <td>0</td>\n",
       "      <td>0</td>\n",
       "      <td>0</td>\n",
       "      <td>1</td>\n",
       "      <td>3</td>\n",
       "      <td>0</td>\n",
       "      <td>Normal</td>\n",
       "      <td>0</td>\n",
       "    </tr>\n",
       "    <tr>\n",
       "      <th>3</th>\n",
       "      <td>4</td>\n",
       "      <td>0.000006</td>\n",
       "      <td>udp</td>\n",
       "      <td>-</td>\n",
       "      <td>INT</td>\n",
       "      <td>2</td>\n",
       "      <td>0</td>\n",
       "      <td>900</td>\n",
       "      <td>0</td>\n",
       "      <td>166666.6608</td>\n",
       "      <td>...</td>\n",
       "      <td>1</td>\n",
       "      <td>3</td>\n",
       "      <td>0</td>\n",
       "      <td>0</td>\n",
       "      <td>0</td>\n",
       "      <td>2</td>\n",
       "      <td>3</td>\n",
       "      <td>0</td>\n",
       "      <td>Normal</td>\n",
       "      <td>0</td>\n",
       "    </tr>\n",
       "    <tr>\n",
       "      <th>4</th>\n",
       "      <td>5</td>\n",
       "      <td>0.000010</td>\n",
       "      <td>udp</td>\n",
       "      <td>-</td>\n",
       "      <td>INT</td>\n",
       "      <td>2</td>\n",
       "      <td>0</td>\n",
       "      <td>2126</td>\n",
       "      <td>0</td>\n",
       "      <td>100000.0025</td>\n",
       "      <td>...</td>\n",
       "      <td>1</td>\n",
       "      <td>3</td>\n",
       "      <td>0</td>\n",
       "      <td>0</td>\n",
       "      <td>0</td>\n",
       "      <td>2</td>\n",
       "      <td>3</td>\n",
       "      <td>0</td>\n",
       "      <td>Normal</td>\n",
       "      <td>0</td>\n",
       "    </tr>\n",
       "  </tbody>\n",
       "</table>\n",
       "<p>5 rows × 45 columns</p>\n",
       "</div>"
      ],
      "text/plain": [
       "   id       dur proto service state  spkts  dpkts  sbytes  dbytes  \\\n",
       "0   1  0.000011   udp       -   INT      2      0     496       0   \n",
       "1   2  0.000008   udp       -   INT      2      0    1762       0   \n",
       "2   3  0.000005   udp       -   INT      2      0    1068       0   \n",
       "3   4  0.000006   udp       -   INT      2      0     900       0   \n",
       "4   5  0.000010   udp       -   INT      2      0    2126       0   \n",
       "\n",
       "          rate  ...  ct_dst_sport_ltm  ct_dst_src_ltm  is_ftp_login  \\\n",
       "0   90909.0902  ...                 1               2             0   \n",
       "1  125000.0003  ...                 1               2             0   \n",
       "2  200000.0051  ...                 1               3             0   \n",
       "3  166666.6608  ...                 1               3             0   \n",
       "4  100000.0025  ...                 1               3             0   \n",
       "\n",
       "   ct_ftp_cmd  ct_flw_http_mthd  ct_src_ltm  ct_srv_dst  is_sm_ips_ports  \\\n",
       "0           0                 0           1           2                0   \n",
       "1           0                 0           1           2                0   \n",
       "2           0                 0           1           3                0   \n",
       "3           0                 0           2           3                0   \n",
       "4           0                 0           2           3                0   \n",
       "\n",
       "   attack_cat  label  \n",
       "0      Normal      0  \n",
       "1      Normal      0  \n",
       "2      Normal      0  \n",
       "3      Normal      0  \n",
       "4      Normal      0  \n",
       "\n",
       "[5 rows x 45 columns]"
      ]
     },
     "execution_count": 5,
     "metadata": {},
     "output_type": "execute_result"
    }
   ],
   "source": [
    "train_data.head()"
   ]
  },
  {
   "cell_type": "code",
   "execution_count": 6,
   "metadata": {},
   "outputs": [
    {
     "data": {
      "text/plain": [
       "(82332, 45)"
      ]
     },
     "execution_count": 6,
     "metadata": {},
     "output_type": "execute_result"
    }
   ],
   "source": [
    "train_data.shape"
   ]
  },
  {
   "cell_type": "code",
   "execution_count": 7,
   "metadata": {},
   "outputs": [
    {
     "data": {
      "text/plain": [
       "1    45332\n",
       "0    37000\n",
       "Name: label, dtype: int64"
      ]
     },
     "execution_count": 7,
     "metadata": {},
     "output_type": "execute_result"
    }
   ],
   "source": [
    "# number of attack labels \n",
    "train_data['label'].value_counts()"
   ]
  },
  {
   "cell_type": "code",
   "execution_count": 8,
   "metadata": {},
   "outputs": [],
   "source": [
    "train_data = train_data[0:10000]"
   ]
  },
  {
   "cell_type": "code",
   "execution_count": 9,
   "metadata": {},
   "outputs": [
    {
     "data": {
      "text/plain": [
       "1    9757\n",
       "0     243\n",
       "Name: label, dtype: int64"
      ]
     },
     "execution_count": 9,
     "metadata": {},
     "output_type": "execute_result"
    }
   ],
   "source": [
    "# distribution of attack classes\n",
    "train_data.label.value_counts()"
   ]
  },
  {
   "cell_type": "code",
   "execution_count": 10,
   "metadata": {},
   "outputs": [
    {
     "data": {
      "text/plain": [
       "array([3, 2, 4, 0, 1], dtype=int64)"
      ]
     },
     "execution_count": 10,
     "metadata": {},
     "output_type": "execute_result"
    }
   ],
   "source": [
    "# Import label encoder\n",
    "from sklearn import preprocessing\n",
    "\n",
    "# label_encoder object knows\n",
    "# how to understand word labels.\n",
    "label_encoder = preprocessing.LabelEncoder()\n",
    "\n",
    "# Encode labels in column 'species'.\n",
    "train_data['proto']= label_encoder.fit_transform(train_data['proto'])\n",
    "train_data['state']= label_encoder.fit_transform(train_data['state'])\n",
    "\n",
    "train_data['proto'].unique()\n",
    "train_data['state'].unique()"
   ]
  },
  {
   "cell_type": "code",
   "execution_count": 11,
   "metadata": {},
   "outputs": [
    {
     "name": "stdout",
     "output_type": "stream",
     "text": [
      "<class 'pandas.core.frame.DataFrame'>\n",
      "RangeIndex: 10000 entries, 0 to 9999\n",
      "Data columns (total 45 columns):\n",
      "id                   10000 non-null int64\n",
      "dur                  10000 non-null float64\n",
      "proto                10000 non-null int32\n",
      "service              10000 non-null object\n",
      "state                10000 non-null int32\n",
      "spkts                10000 non-null int64\n",
      "dpkts                10000 non-null int64\n",
      "sbytes               10000 non-null int64\n",
      "dbytes               10000 non-null int64\n",
      "rate                 10000 non-null float64\n",
      "sttl                 10000 non-null int64\n",
      "dttl                 10000 non-null int64\n",
      "sload                10000 non-null float64\n",
      "dload                10000 non-null float64\n",
      "sloss                10000 non-null int64\n",
      "dloss                10000 non-null int64\n",
      "sinpkt               10000 non-null float64\n",
      "dinpkt               10000 non-null float64\n",
      "sjit                 10000 non-null float64\n",
      "djit                 10000 non-null float64\n",
      "swin                 10000 non-null int64\n",
      "stcpb                10000 non-null int64\n",
      "dtcpb                10000 non-null int64\n",
      "dwin                 10000 non-null int64\n",
      "tcprtt               10000 non-null float64\n",
      "synack               10000 non-null float64\n",
      "ackdat               10000 non-null float64\n",
      "smean                10000 non-null int64\n",
      "dmean                10000 non-null int64\n",
      "trans_depth          10000 non-null int64\n",
      "response_body_len    10000 non-null int64\n",
      "ct_srv_src           10000 non-null int64\n",
      "ct_state_ttl         10000 non-null int64\n",
      "ct_dst_ltm           10000 non-null int64\n",
      "ct_src_dport_ltm     10000 non-null int64\n",
      "ct_dst_sport_ltm     10000 non-null int64\n",
      "ct_dst_src_ltm       10000 non-null int64\n",
      "is_ftp_login         10000 non-null int64\n",
      "ct_ftp_cmd           10000 non-null int64\n",
      "ct_flw_http_mthd     10000 non-null int64\n",
      "ct_src_ltm           10000 non-null int64\n",
      "ct_srv_dst           10000 non-null int64\n",
      "is_sm_ips_ports      10000 non-null int64\n",
      "attack_cat           10000 non-null object\n",
      "label                10000 non-null int64\n",
      "dtypes: float64(11), int32(2), int64(30), object(2)\n",
      "memory usage: 3.4+ MB\n"
     ]
    }
   ],
   "source": [
    "train_data.info()"
   ]
  },
  {
   "cell_type": "code",
   "execution_count": 12,
   "metadata": {},
   "outputs": [],
   "source": [
    "del train_data['service']\n",
    "del train_data['attack_cat']"
   ]
  },
  {
   "cell_type": "code",
   "execution_count": 13,
   "metadata": {},
   "outputs": [],
   "source": [
    "del train_data['id']"
   ]
  },
  {
   "cell_type": "code",
   "execution_count": 14,
   "metadata": {},
   "outputs": [
    {
     "name": "stdout",
     "output_type": "stream",
     "text": [
      "<class 'pandas.core.frame.DataFrame'>\n",
      "RangeIndex: 10000 entries, 0 to 9999\n",
      "Data columns (total 42 columns):\n",
      "dur                  10000 non-null float64\n",
      "proto                10000 non-null int32\n",
      "state                10000 non-null int32\n",
      "spkts                10000 non-null int64\n",
      "dpkts                10000 non-null int64\n",
      "sbytes               10000 non-null int64\n",
      "dbytes               10000 non-null int64\n",
      "rate                 10000 non-null float64\n",
      "sttl                 10000 non-null int64\n",
      "dttl                 10000 non-null int64\n",
      "sload                10000 non-null float64\n",
      "dload                10000 non-null float64\n",
      "sloss                10000 non-null int64\n",
      "dloss                10000 non-null int64\n",
      "sinpkt               10000 non-null float64\n",
      "dinpkt               10000 non-null float64\n",
      "sjit                 10000 non-null float64\n",
      "djit                 10000 non-null float64\n",
      "swin                 10000 non-null int64\n",
      "stcpb                10000 non-null int64\n",
      "dtcpb                10000 non-null int64\n",
      "dwin                 10000 non-null int64\n",
      "tcprtt               10000 non-null float64\n",
      "synack               10000 non-null float64\n",
      "ackdat               10000 non-null float64\n",
      "smean                10000 non-null int64\n",
      "dmean                10000 non-null int64\n",
      "trans_depth          10000 non-null int64\n",
      "response_body_len    10000 non-null int64\n",
      "ct_srv_src           10000 non-null int64\n",
      "ct_state_ttl         10000 non-null int64\n",
      "ct_dst_ltm           10000 non-null int64\n",
      "ct_src_dport_ltm     10000 non-null int64\n",
      "ct_dst_sport_ltm     10000 non-null int64\n",
      "ct_dst_src_ltm       10000 non-null int64\n",
      "is_ftp_login         10000 non-null int64\n",
      "ct_ftp_cmd           10000 non-null int64\n",
      "ct_flw_http_mthd     10000 non-null int64\n",
      "ct_src_ltm           10000 non-null int64\n",
      "ct_srv_dst           10000 non-null int64\n",
      "is_sm_ips_ports      10000 non-null int64\n",
      "label                10000 non-null int64\n",
      "dtypes: float64(11), int32(2), int64(29)\n",
      "memory usage: 3.1 MB\n"
     ]
    }
   ],
   "source": [
    "train_data.info()"
   ]
  },
  {
   "cell_type": "code",
   "execution_count": 15,
   "metadata": {},
   "outputs": [],
   "source": [
    "X = train_data.drop([\"label\"],axis =1)\n",
    "y = train_data[\"label\"]"
   ]
  },
  {
   "cell_type": "markdown",
   "metadata": {},
   "source": [
    "# Feature Selection"
   ]
  },
  {
   "cell_type": "code",
   "execution_count": 16,
   "metadata": {},
   "outputs": [
    {
     "data": {
      "text/plain": [
       "RFECV(cv=2, estimator=LogisticRegression(), scoring='accuracy')"
      ]
     },
     "execution_count": 16,
     "metadata": {},
     "output_type": "execute_result"
    }
   ],
   "source": [
    "from sklearn.feature_selection import RFECV\n",
    "from sklearn.linear_model import LogisticRegression\n",
    "rfecv = RFECV(cv=2, estimator=LogisticRegression(),\n",
    "      scoring='accuracy')\n",
    "\n",
    "rfecv.fit(X,y)"
   ]
  },
  {
   "cell_type": "code",
   "execution_count": 17,
   "metadata": {},
   "outputs": [
    {
     "data": {
      "text/plain": [
       "'Number of features:'"
      ]
     },
     "metadata": {},
     "output_type": "display_data"
    },
    {
     "data": {
      "text/plain": [
       "6"
      ]
     },
     "metadata": {},
     "output_type": "display_data"
    },
    {
     "data": {
      "text/plain": [
       "['spkts',\n",
       " 'dloss',\n",
       " 'ct_srv_src',\n",
       " 'ct_state_ttl',\n",
       " 'ct_dst_src_ltm',\n",
       " 'ct_src_ltm']"
      ]
     },
     "execution_count": 17,
     "metadata": {},
     "output_type": "execute_result"
    }
   ],
   "source": [
    "#to get number of the features\n",
    "display('Number of features:', rfecv.n_features_)\n",
    "\n",
    "#to get feature names\n",
    "list(X.columns[rfecv.support_]) "
   ]
  },
  {
   "cell_type": "code",
   "execution_count": 18,
   "metadata": {},
   "outputs": [],
   "source": [
    "df = train_data[['spkts',\n",
    "     'dloss',\n",
    "     'ct_srv_src',\n",
    "     'ct_state_ttl',\n",
    "     'ct_dst_src_ltm',\n",
    "     'ct_src_ltm',\n",
    "             'label']]\n",
    "df.to_csv('unsw_processed.csv')"
   ]
  },
  {
   "cell_type": "code",
   "execution_count": 19,
   "metadata": {},
   "outputs": [],
   "source": [
    "X_2 = train_data[['spkts',\n",
    "     'dloss',\n",
    "     'ct_srv_src',\n",
    "     'ct_state_ttl',\n",
    "     'ct_dst_src_ltm',\n",
    "     'ct_src_ltm']]"
   ]
  },
  {
   "cell_type": "code",
   "execution_count": 20,
   "metadata": {},
   "outputs": [
    {
     "data": {
      "text/plain": [
       "((8000, 6), (8000,), (2000, 6), (2000,))"
      ]
     },
     "execution_count": 20,
     "metadata": {},
     "output_type": "execute_result"
    }
   ],
   "source": [
    "from sklearn.model_selection import train_test_split\n",
    "\n",
    "X_train, X_test, y_train, y_test = train_test_split(X_2, y, test_size = 0.20, random_state = 42)\n",
    "X_train.shape, y_train.shape, X_test.shape, y_test.shape"
   ]
  },
  {
   "cell_type": "code",
   "execution_count": 21,
   "metadata": {},
   "outputs": [],
   "source": [
    "ML_Model = []\n",
    "accuracy = []\n",
    "precision = []\n",
    "recall = []\n",
    "f1score = []\n",
    "auc = []\n",
    "geo = []\n",
    "spec = []\n",
    "sens = []\n",
    "\n",
    "\n",
    "#function to call for storing the results\n",
    "def storeResults(model, a,b,c,d,e,f,g,h):\n",
    "    ML_Model.append(model)\n",
    "    accuracy.append(round(a, 3))\n",
    "    precision.append(round(b, 3))\n",
    "    recall.append(round(c, 3))\n",
    "    f1score.append(round(d, 3))\n",
    "    auc.append(round(e,3))\n",
    "    geo.append(round(f,3))\n",
    "    spec.append(round(g,3))\n",
    "    sens.append(round(h,3))\n",
    "    "
   ]
  },
  {
   "cell_type": "code",
   "execution_count": 22,
   "metadata": {},
   "outputs": [],
   "source": [
    "from sklearn.metrics import accuracy_score, precision_score, recall_score, f1_score, roc_auc_score, det_curve\n",
    "from imblearn.metrics import geometric_mean_score,specificity_score,sensitivity_score"
   ]
  },
  {
   "cell_type": "markdown",
   "metadata": {},
   "source": [
    "# Original"
   ]
  },
  {
   "cell_type": "markdown",
   "metadata": {},
   "source": [
    "# SVM"
   ]
  },
  {
   "cell_type": "code",
   "execution_count": 23,
   "metadata": {},
   "outputs": [
    {
     "name": "stdout",
     "output_type": "stream",
     "text": [
      "Fitting 5 folds for each of 4 candidates, totalling 20 fits\n",
      "[CV 1/5] END ...............gamma=1, kernel=rbf;, score=0.993 total time=   1.3s\n",
      "[CV 2/5] END ...............gamma=1, kernel=rbf;, score=0.989 total time=   2.1s\n",
      "[CV 3/5] END ...............gamma=1, kernel=rbf;, score=0.989 total time=   2.2s\n",
      "[CV 4/5] END ...............gamma=1, kernel=rbf;, score=0.986 total time=   2.1s\n",
      "[CV 5/5] END ...............gamma=1, kernel=rbf;, score=0.989 total time=   2.1s\n",
      "[CV 1/5] END .............gamma=0.1, kernel=rbf;, score=0.993 total time=   1.2s\n",
      "[CV 2/5] END .............gamma=0.1, kernel=rbf;, score=0.988 total time=   1.1s\n",
      "[CV 3/5] END .............gamma=0.1, kernel=rbf;, score=0.988 total time=   1.1s\n",
      "[CV 4/5] END .............gamma=0.1, kernel=rbf;, score=0.984 total time=   1.1s\n",
      "[CV 5/5] END .............gamma=0.1, kernel=rbf;, score=0.988 total time=   1.1s\n",
      "[CV 1/5] END ............gamma=0.01, kernel=rbf;, score=0.993 total time=   0.6s\n",
      "[CV 2/5] END ............gamma=0.01, kernel=rbf;, score=0.989 total time=   0.6s\n",
      "[CV 3/5] END ............gamma=0.01, kernel=rbf;, score=0.988 total time=   0.5s\n",
      "[CV 4/5] END ............gamma=0.01, kernel=rbf;, score=0.984 total time=   0.5s\n",
      "[CV 5/5] END ............gamma=0.01, kernel=rbf;, score=0.988 total time=   0.5s\n",
      "[CV 1/5] END ...........gamma=0.001, kernel=rbf;, score=0.993 total time=   0.3s\n",
      "[CV 2/5] END ...........gamma=0.001, kernel=rbf;, score=0.988 total time=   0.3s\n",
      "[CV 3/5] END ...........gamma=0.001, kernel=rbf;, score=0.988 total time=   0.3s\n",
      "[CV 4/5] END ...........gamma=0.001, kernel=rbf;, score=0.984 total time=   0.2s\n",
      "[CV 5/5] END ...........gamma=0.001, kernel=rbf;, score=0.986 total time=   0.3s\n"
     ]
    }
   ],
   "source": [
    "from sklearn.svm import SVC\n",
    "from sklearn.model_selection import GridSearchCV\n",
    "\n",
    "param_grid = {'gamma': [1, 0.1, 0.01, 0.001],\n",
    "              'kernel': ['rbf']} \n",
    "\n",
    "# instantiate the model \n",
    "svm = GridSearchCV(SVC(probability=True), param_grid, refit = True, verbose = 3)\n",
    "\n",
    "# fit the model \n",
    "svm.fit(X_train, y_train)\n",
    "\n",
    "#predicting the target value from the model for the samples\n",
    "\n",
    "y_pred = svm.predict(X_test)"
   ]
  },
  {
   "cell_type": "code",
   "execution_count": 24,
   "metadata": {},
   "outputs": [],
   "source": [
    "svm_acc = accuracy_score(y_pred, y_test)\n",
    "svm_prec = precision_score(y_pred, y_test,average='weighted')\n",
    "svm_rec = recall_score(y_pred, y_test,average='weighted')\n",
    "svm_f1 = f1_score(y_pred, y_test,average='weighted')\n",
    "svm_auroc = roc_auc_score(y_test, svm.predict_proba(X_test)[:, 1])\n",
    "svm_geo = geometric_mean_score(y_test, y_pred, average='weighted')\n",
    "svm_spec = specificity_score(y_test, y_pred, average='weighted')\n",
    "svm_sens = sensitivity_score(y_test, y_pred, average='weighted')\n",
    "\n",
    "storeResults('Original - SVM',svm_acc,svm_prec,svm_rec,svm_f1,svm_auroc,svm_geo,svm_spec,svm_sens)"
   ]
  },
  {
   "cell_type": "markdown",
   "metadata": {},
   "source": [
    "# Random Forest"
   ]
  },
  {
   "cell_type": "code",
   "execution_count": 25,
   "metadata": {},
   "outputs": [],
   "source": [
    "from sklearn.ensemble import RandomForestClassifier\n",
    "from sklearn.model_selection import GridSearchCV,RandomizedSearchCV\n",
    "\n",
    "param_grid = {\n",
    "    'n_estimators': [5,10,20,40,80,150]\n",
    "}\n",
    "\n",
    "forest = GridSearchCV(RandomForestClassifier(),param_grid=param_grid)\n",
    "# fit the model \n",
    "forest.fit(X_train, y_train)\n",
    "\n",
    "#predicting the target value from the model for the samples\n",
    "\n",
    "y_pred = forest.predict(X_test)"
   ]
  },
  {
   "cell_type": "code",
   "execution_count": 26,
   "metadata": {},
   "outputs": [],
   "source": [
    "rf_acc = accuracy_score(y_pred, y_test)\n",
    "rf_prec = precision_score(y_pred, y_test,average='weighted')\n",
    "rf_rec = recall_score(y_pred, y_test,average='weighted')\n",
    "rf_f1 = f1_score(y_pred, y_test,average='weighted')\n",
    "rf_auroc = roc_auc_score(y_test, forest.predict_proba(X_test)[:, 1])\n",
    "rf_geo = geometric_mean_score(y_test, y_pred, average='weighted')\n",
    "rf_spec = specificity_score(y_test, y_pred, average='weighted')\n",
    "rf_sens = sensitivity_score(y_test, y_pred, average='weighted')\n",
    "\n",
    "storeResults('Original - RF',rf_acc,rf_prec,rf_rec,rf_f1,rf_auroc,rf_geo,rf_spec,rf_sens)"
   ]
  },
  {
   "cell_type": "markdown",
   "metadata": {},
   "source": [
    "# Decision Tree"
   ]
  },
  {
   "cell_type": "code",
   "execution_count": 27,
   "metadata": {},
   "outputs": [
    {
     "name": "stdout",
     "output_type": "stream",
     "text": [
      "Fitting 4 folds for each of 8 candidates, totalling 32 fits\n"
     ]
    }
   ],
   "source": [
    "from sklearn.tree import DecisionTreeClassifier\n",
    "\n",
    "params = {\n",
    "    'max_depth': [5,6,7,8,9,10,50,100]\n",
    "}\n",
    "\n",
    "tree = GridSearchCV(estimator=DecisionTreeClassifier(random_state=42), param_grid=params, cv=4, n_jobs=-1, verbose=1)\n",
    "\n",
    "tree.fit(X_train, y_train)\n",
    "\n",
    "#predicting the target value from the model for the samples\n",
    "\n",
    "y_pred = tree.predict(X_test)"
   ]
  },
  {
   "cell_type": "code",
   "execution_count": 28,
   "metadata": {},
   "outputs": [],
   "source": [
    "dt_acc = accuracy_score(y_pred, y_test)\n",
    "dt_prec = precision_score(y_pred, y_test,average='weighted')\n",
    "dt_rec = recall_score(y_pred, y_test,average='weighted')\n",
    "dt_f1 = f1_score(y_pred, y_test,average='weighted')\n",
    "dt_auroc = roc_auc_score(y_test, tree.predict_proba(X_test)[:, 1])\n",
    "dt_geo = geometric_mean_score(y_test, y_pred, average='weighted')\n",
    "dt_spec = specificity_score(y_test, y_pred, average='weighted')\n",
    "dt_sens = sensitivity_score(y_test, y_pred, average='weighted')\n",
    "\n",
    "storeResults('Original - DT',dt_acc,dt_prec,dt_rec,dt_f1,dt_auroc,dt_geo,dt_spec,dt_sens)"
   ]
  },
  {
   "cell_type": "markdown",
   "metadata": {},
   "source": [
    "# Stacking CLassifier"
   ]
  },
  {
   "cell_type": "code",
   "execution_count": 29,
   "metadata": {},
   "outputs": [],
   "source": [
    "from sklearn.ensemble import StackingClassifier\n",
    "from sklearn.preprocessing import StandardScaler\n",
    "from sklearn.pipeline import make_pipeline\n",
    "from sklearn.ensemble import ExtraTreesClassifier\n",
    "from sklearn.svm import LinearSVC\n",
    "from sklearn.linear_model import LogisticRegression\n",
    "\n",
    "estimators = [('et', ExtraTreesClassifier(n_estimators=100, random_state=0)),('svr', make_pipeline(StandardScaler(),LinearSVC(random_state=42)))]\n",
    "\n",
    "clf_ = StackingClassifier(estimators=estimators, final_estimator=LogisticRegression())\n",
    "clf_.fit(X_train, y_train)\n",
    "\n",
    "#predicting the target value from the model for the samples\n",
    "\n",
    "y_pred = clf_.predict(X_test)"
   ]
  },
  {
   "cell_type": "code",
   "execution_count": 30,
   "metadata": {},
   "outputs": [],
   "source": [
    "stac_acc = accuracy_score(y_pred, y_test)\n",
    "stac_prec = precision_score(y_pred, y_test,average='weighted')\n",
    "stac_rec = recall_score(y_pred, y_test,average='weighted')\n",
    "stac_f1 = f1_score(y_pred, y_test,average='weighted')\n",
    "stac_auroc = roc_auc_score(y_test, clf_.predict_proba(X_test)[:, 1])\n",
    "stac_geo = geometric_mean_score(y_test, y_pred, average='weighted')\n",
    "stac_spec = specificity_score(y_test, y_pred, average='weighted')\n",
    "stac_sens = sensitivity_score(y_test, y_pred, average='weighted')\n",
    "\n",
    "stac_acc\n",
    "storeResults('Original - Stacking',stac_acc,stac_prec,stac_rec,stac_f1,stac_auroc,stac_geo,stac_spec,stac_sens)"
   ]
  },
  {
   "cell_type": "markdown",
   "metadata": {},
   "source": [
    "# SVM - SMOTE"
   ]
  },
  {
   "cell_type": "code",
   "execution_count": 31,
   "metadata": {},
   "outputs": [],
   "source": [
    "from imblearn.over_sampling import SMOTE\n",
    "sm = SMOTE(k_neighbors=2)\n",
    "X_res, y_res = sm.fit_resample(X_2, y)"
   ]
  },
  {
   "cell_type": "code",
   "execution_count": 32,
   "metadata": {},
   "outputs": [],
   "source": [
    "X_train, X_test, y_train, y_test = train_test_split(X_res, y_res, test_size = 0.20, random_state = 42)"
   ]
  },
  {
   "cell_type": "code",
   "execution_count": 33,
   "metadata": {},
   "outputs": [
    {
     "name": "stdout",
     "output_type": "stream",
     "text": [
      "Fitting 5 folds for each of 4 candidates, totalling 20 fits\n",
      "[CV 1/5] END ...............gamma=1, kernel=rbf;, score=0.952 total time=   7.2s\n",
      "[CV 2/5] END ...............gamma=1, kernel=rbf;, score=0.954 total time=   7.3s\n",
      "[CV 3/5] END ...............gamma=1, kernel=rbf;, score=0.953 total time=   7.2s\n",
      "[CV 4/5] END ...............gamma=1, kernel=rbf;, score=0.949 total time=   7.1s\n",
      "[CV 5/5] END ...............gamma=1, kernel=rbf;, score=0.955 total time=   7.1s\n",
      "[CV 1/5] END .............gamma=0.1, kernel=rbf;, score=0.944 total time=   7.0s\n",
      "[CV 2/5] END .............gamma=0.1, kernel=rbf;, score=0.953 total time=   7.0s\n",
      "[CV 3/5] END .............gamma=0.1, kernel=rbf;, score=0.942 total time=   6.8s\n",
      "[CV 4/5] END .............gamma=0.1, kernel=rbf;, score=0.943 total time=   6.9s\n",
      "[CV 5/5] END .............gamma=0.1, kernel=rbf;, score=0.939 total time=   6.8s\n",
      "[CV 1/5] END ............gamma=0.01, kernel=rbf;, score=0.906 total time=   9.5s\n",
      "[CV 2/5] END ............gamma=0.01, kernel=rbf;, score=0.905 total time=   9.5s\n",
      "[CV 3/5] END ............gamma=0.01, kernel=rbf;, score=0.899 total time=   9.5s\n",
      "[CV 4/5] END ............gamma=0.01, kernel=rbf;, score=0.905 total time=   9.7s\n",
      "[CV 5/5] END ............gamma=0.01, kernel=rbf;, score=0.903 total time=   9.6s\n",
      "[CV 1/5] END ...........gamma=0.001, kernel=rbf;, score=0.776 total time=  13.5s\n",
      "[CV 2/5] END ...........gamma=0.001, kernel=rbf;, score=0.798 total time=  13.7s\n",
      "[CV 3/5] END ...........gamma=0.001, kernel=rbf;, score=0.763 total time=  13.4s\n",
      "[CV 4/5] END ...........gamma=0.001, kernel=rbf;, score=0.829 total time=  13.8s\n",
      "[CV 5/5] END ...........gamma=0.001, kernel=rbf;, score=0.813 total time=  13.8s\n"
     ]
    }
   ],
   "source": [
    "from sklearn.svm import SVC\n",
    "from sklearn.model_selection import GridSearchCV\n",
    "\n",
    "param_grid = {'gamma': [1, 0.1, 0.01, 0.001],\n",
    "              'kernel': ['rbf']} \n",
    "\n",
    "# instantiate the model \n",
    "svm1 = GridSearchCV(SVC(probability=True), param_grid, refit = True, verbose = 3)\n",
    "\n",
    "# fit the model \n",
    "svm1.fit(X_train, y_train)\n",
    "\n",
    "#predicting the target value from the model for the samples\n",
    "\n",
    "y_pred = svm1.predict(X_test)\n",
    "\n",
    "svm_acc1 = accuracy_score(y_pred, y_test)\n",
    "svm_prec1 = precision_score(y_pred, y_test,average='weighted')\n",
    "svm_rec1 = recall_score(y_pred, y_test,average='weighted')\n",
    "svm_f1_1 = f1_score(y_pred, y_test,average='weighted')\n",
    "svm_auroc1 = roc_auc_score(y_test, svm1.predict_proba(X_test)[:, 1])\n",
    "svm_geo1 = geometric_mean_score(y_test, y_pred, average='weighted')\n",
    "svm_spec1 = specificity_score(y_test, y_pred, average='weighted')\n",
    "svm_sens1 = sensitivity_score(y_test, y_pred, average='weighted')\n",
    "\n",
    "storeResults('SMOTE - SVM',svm_acc1,svm_prec1,svm_rec1,svm_f1_1,svm_auroc1,svm_geo1,svm_spec1,svm_sens1)"
   ]
  },
  {
   "cell_type": "markdown",
   "metadata": {},
   "source": [
    "# Random Forest"
   ]
  },
  {
   "cell_type": "code",
   "execution_count": 34,
   "metadata": {},
   "outputs": [],
   "source": [
    "from sklearn.ensemble import RandomForestClassifier\n",
    "from sklearn.model_selection import GridSearchCV,RandomizedSearchCV\n",
    "\n",
    "param_grid = {\n",
    "    'n_estimators': [5,10,20,40,80,150]\n",
    "}\n",
    "\n",
    "forest1 = GridSearchCV(RandomForestClassifier(),param_grid=param_grid)\n",
    "# fit the model \n",
    "forest1.fit(X_train, y_train)\n",
    "\n",
    "#predicting the target value from the model for the samples\n",
    "\n",
    "y_pred = forest1.predict(X_test)\n",
    "\n",
    "rf1_acc = accuracy_score(y_pred, y_test)\n",
    "rf1_prec = precision_score(y_pred, y_test,average='weighted')\n",
    "rf1_rec = recall_score(y_pred, y_test,average='weighted')\n",
    "rf1_f1 = f1_score(y_pred, y_test,average='weighted')\n",
    "rf1_auroc = roc_auc_score(y_test, forest1.predict_proba(X_test)[:, 1])\n",
    "rf1_geo = geometric_mean_score(y_test, y_pred, average='weighted')\n",
    "rf1_spec = specificity_score(y_test, y_pred, average='weighted')\n",
    "rf1_sens = sensitivity_score(y_test, y_pred, average='weighted')\n",
    "\n",
    "storeResults('SMOTE - RF',rf1_acc,rf1_prec,rf1_rec,rf1_f1,rf1_auroc,rf1_geo,rf1_spec,rf1_sens)"
   ]
  },
  {
   "cell_type": "markdown",
   "metadata": {},
   "source": [
    "# Decision Tree"
   ]
  },
  {
   "cell_type": "code",
   "execution_count": 35,
   "metadata": {},
   "outputs": [
    {
     "name": "stdout",
     "output_type": "stream",
     "text": [
      "Fitting 4 folds for each of 8 candidates, totalling 32 fits\n"
     ]
    }
   ],
   "source": [
    "from sklearn.tree import DecisionTreeClassifier\n",
    "\n",
    "params = {\n",
    "    'max_depth': [5,6,7,8,9,10,50,100]\n",
    "}\n",
    "\n",
    "tree1 = GridSearchCV(estimator=DecisionTreeClassifier(random_state=42), param_grid=params, cv=4, n_jobs=-1, verbose=1)\n",
    "\n",
    "tree1.fit(X_train, y_train)\n",
    "\n",
    "#predicting the target value from the model for the samples\n",
    "\n",
    "y_pred = tree1.predict(X_test)\n",
    "\n",
    "dt1_acc = accuracy_score(y_pred, y_test)\n",
    "dt1_prec = precision_score(y_pred, y_test,average='weighted')\n",
    "dt1_rec = recall_score(y_pred, y_test,average='weighted')\n",
    "dt1_f1 = f1_score(y_pred, y_test,average='weighted')\n",
    "dt1_auroc = roc_auc_score(y_test, tree1.predict_proba(X_test)[:, 1])\n",
    "dt1_geo = geometric_mean_score(y_test, y_pred, average='weighted')\n",
    "dt1_spec = specificity_score(y_test, y_pred, average='weighted')\n",
    "dt1_sens = sensitivity_score(y_test, y_pred, average='weighted')\n",
    "\n",
    "storeResults('SMOTE - DT',dt1_acc,dt1_prec,dt1_rec,dt1_f1,dt1_auroc,dt1_geo,dt1_spec,dt1_sens)"
   ]
  },
  {
   "cell_type": "markdown",
   "metadata": {},
   "source": [
    "# Stacking Classifier"
   ]
  },
  {
   "cell_type": "code",
   "execution_count": 36,
   "metadata": {},
   "outputs": [],
   "source": [
    "from sklearn.ensemble import StackingClassifier\n",
    "from sklearn.preprocessing import StandardScaler\n",
    "from sklearn.pipeline import make_pipeline\n",
    "from sklearn.ensemble import ExtraTreesClassifier\n",
    "from sklearn.svm import LinearSVC\n",
    "from sklearn.linear_model import LogisticRegression\n",
    "\n",
    "estimators = [('et', ExtraTreesClassifier(n_estimators=100, random_state=0)),('svr', make_pipeline(StandardScaler(),LinearSVC(random_state=42)))]\n",
    "\n",
    "clf = StackingClassifier(estimators=estimators, final_estimator=LogisticRegression())\n",
    "clf.fit(X_train, y_train)\n",
    "\n",
    "#predicting the target value from the model for the samples\n",
    "\n",
    "y_pred = clf.predict(X_test)"
   ]
  },
  {
   "cell_type": "code",
   "execution_count": 37,
   "metadata": {},
   "outputs": [],
   "source": [
    "stac1_acc = accuracy_score(y_pred, y_test)\n",
    "stac1_prec = precision_score(y_pred, y_test,average='weighted')\n",
    "stac1_rec = recall_score(y_pred, y_test,average='weighted')\n",
    "stac1_f1 = f1_score(y_pred, y_test,average='weighted')\n",
    "stac1_auroc = roc_auc_score(y_test, clf.predict_proba(X_test)[:, 1])\n",
    "stac1_geo = geometric_mean_score(y_test, y_pred, average='weighted')\n",
    "stac1_spec = specificity_score(y_test, y_pred, average='weighted')\n",
    "stac1_sens = sensitivity_score(y_test, y_pred, average='weighted')\n",
    "\n",
    "stac1_acc\n",
    "storeResults('SMOTE-STACKING',stac1_acc,stac1_prec,stac1_rec,stac1_f1,stac1_auroc,stac1_geo,stac1_spec,stac1_sens)"
   ]
  },
  {
   "cell_type": "markdown",
   "metadata": {},
   "source": [
    "# CDAAE"
   ]
  },
  {
   "cell_type": "code",
   "execution_count": 38,
   "metadata": {},
   "outputs": [
    {
     "name": "stdout",
     "output_type": "stream",
     "text": [
      "1 Physical GPU, 2 Logical GPUs\n"
     ]
    }
   ],
   "source": [
    "import tensorflow as tf\n",
    "gpus = tf.config.list_physical_devices('GPU')\n",
    "if gpus:\n",
    "  # Create 2 virtual GPUs with 1GB memory each\n",
    "  try:\n",
    "    tf.config.set_logical_device_configuration(\n",
    "        gpus[0],\n",
    "        [tf.config.LogicalDeviceConfiguration(memory_limit=1024),\n",
    "         tf.config.LogicalDeviceConfiguration(memory_limit=1024)])\n",
    "    logical_gpus = tf.config.list_logical_devices('GPU')\n",
    "    print(len(gpus), \"Physical GPU,\", len(logical_gpus), \"Logical GPUs\")\n",
    "  except RuntimeError as e:\n",
    "    # Virtual devices must be set before GPUs have been initialized\n",
    "    print(e)"
   ]
  },
  {
   "cell_type": "code",
   "execution_count": 39,
   "metadata": {},
   "outputs": [
    {
     "name": "stdout",
     "output_type": "stream",
     "text": [
      "0    0\n",
      "1    0\n",
      "2    0\n",
      "3    0\n",
      "4    0\n",
      "Name: label, dtype: int64\n"
     ]
    }
   ],
   "source": [
    "n_inputs = X_2.shape[1]\n",
    "\n",
    "print(y[:5])"
   ]
  },
  {
   "cell_type": "code",
   "execution_count": 40,
   "metadata": {},
   "outputs": [],
   "source": [
    "from sklearn.preprocessing import MinMaxScaler\n",
    "from sklearn.model_selection import train_test_split\n",
    "\n",
    "# split into train test sets\n",
    "X_train, X_test, y_train, y_test = train_test_split(X_2, y, test_size=0.33, random_state=1)\n",
    "\n",
    "# scale data\n",
    "t = MinMaxScaler()\n",
    "t.fit(X_train)\n",
    "X_train = t.transform(X_train)\n",
    "X_test = t.transform(X_test)"
   ]
  },
  {
   "cell_type": "code",
   "execution_count": 41,
   "metadata": {},
   "outputs": [],
   "source": [
    "from tensorflow.keras.models import Model\n",
    "from tensorflow.keras.layers import Input\n",
    "from tensorflow.keras.layers import Dense\n",
    "from tensorflow.keras.layers import LeakyReLU\n",
    "from tensorflow.keras.layers import BatchNormalization\n",
    "\n",
    "# define encoder\n",
    "visible = Input(shape=(n_inputs,))\n",
    "\n",
    "# encoder level 1\n",
    "e = Dense(n_inputs * 2)(visible)\n",
    "e = BatchNormalization()(e)\n",
    "e = LeakyReLU()(e)\n",
    "\n",
    "# encoder level 2\n",
    "e = Dense(n_inputs)(e)\n",
    "e = BatchNormalization()(e)\n",
    "e = LeakyReLU()(e)\n",
    "\n",
    "# bottleneck\n",
    "n_bottleneck = n_inputs\n",
    "bottleneck = Dense(n_bottleneck)(e)"
   ]
  },
  {
   "cell_type": "code",
   "execution_count": 42,
   "metadata": {},
   "outputs": [],
   "source": [
    "# define decoder, level 1\n",
    "d = Dense(n_inputs)(bottleneck)\n",
    "d = BatchNormalization()(d)\n",
    "d = LeakyReLU()(d)\n",
    "\n",
    "# decoder level 2\n",
    "d = Dense(n_inputs*2)(d)\n",
    "d = BatchNormalization()(d)\n",
    "d = LeakyReLU()(d)\n",
    "\n",
    "# output layer\n",
    "output = Dense(n_inputs, activation='linear')(d)\n",
    "\n",
    "# define autoencoder model\n",
    "model = Model(inputs=visible, outputs=output)"
   ]
  },
  {
   "cell_type": "code",
   "execution_count": 43,
   "metadata": {},
   "outputs": [],
   "source": [
    "# compile autoencoder model\n",
    "model.compile(optimizer='adam', loss='mse')"
   ]
  },
  {
   "cell_type": "code",
   "execution_count": 44,
   "metadata": {},
   "outputs": [],
   "source": [
    "history = model.fit(X_train, X_train, epochs=20, batch_size=2, verbose=0, validation_data=(X_test,X_test))"
   ]
  },
  {
   "cell_type": "code",
   "execution_count": 45,
   "metadata": {},
   "outputs": [
    {
     "data": {
      "image/png": "[encoded data removed]",
      "text/plain": [
       "<Figure size 432x288 with 1 Axes>"
      ]
     },
     "metadata": {
      "needs_background": "light"
     },
     "output_type": "display_data"
    }
   ],
   "source": [
    "from matplotlib import pyplot\n",
    "\n",
    "# plot loss\n",
    "pyplot.plot(history.history['loss'], label='train')\n",
    "pyplot.plot(history.history['val_loss'], label='test')\n",
    "pyplot.legend()\n",
    "pyplot.show()"
   ]
  },
  {
   "cell_type": "code",
   "execution_count": 46,
   "metadata": {},
   "outputs": [],
   "source": [
    "encoder = Model(inputs=visible, outputs=bottleneck)\n",
    "#plot_model(encoder, 'encoder_no_compress.png', show_shapes=True)"
   ]
  },
  {
   "cell_type": "code",
   "execution_count": 47,
   "metadata": {},
   "outputs": [
    {
     "name": "stdout",
     "output_type": "stream",
     "text": [
      "WARNING:tensorflow:Compiled the loaded model, but the compiled metrics have yet to be built. `model.compile_metrics` will be empty until you train or evaluate the model.\n"
     ]
    }
   ],
   "source": [
    "# save the encoder to file\n",
    "encoder.save('encoder1.h5')"
   ]
  },
  {
   "cell_type": "code",
   "execution_count": 48,
   "metadata": {},
   "outputs": [
    {
     "name": "stdout",
     "output_type": "stream",
     "text": [
      "WARNING:tensorflow:No training configuration found in the save file, so the model was *not* compiled. Compile it manually.\n"
     ]
    }
   ],
   "source": [
    "# load the model from file\n",
    "from keras.models import load_model\n",
    "encoder = load_model('encoder1.h5')\n",
    "\n",
    "## We can then use the encoder to transform the raw input data (e.g. 100 columns) \n",
    "## into bottleneck vectors (e.g. 50 element vectors).\n",
    "# encode the train data\n",
    "X_train_encode = encoder.predict(X_train)\n",
    "# encode the test data\n",
    "X_test_encode = encoder.predict(X_test)"
   ]
  },
  {
   "cell_type": "markdown",
   "metadata": {},
   "source": [
    "# SVM"
   ]
  },
  {
   "cell_type": "code",
   "execution_count": 49,
   "metadata": {},
   "outputs": [
    {
     "name": "stdout",
     "output_type": "stream",
     "text": [
      "Fitting 5 folds for each of 4 candidates, totalling 20 fits\n",
      "[CV 1/5] END ...............gamma=1, kernel=rbf;, score=0.990 total time=   0.4s\n",
      "[CV 2/5] END ...............gamma=1, kernel=rbf;, score=0.987 total time=   0.3s\n",
      "[CV 3/5] END ...............gamma=1, kernel=rbf;, score=0.987 total time=   0.3s\n",
      "[CV 4/5] END ...............gamma=1, kernel=rbf;, score=0.987 total time=   0.3s\n",
      "[CV 5/5] END ...............gamma=1, kernel=rbf;, score=0.986 total time=   0.3s\n",
      "[CV 1/5] END .............gamma=0.1, kernel=rbf;, score=0.990 total time=   0.2s\n",
      "[CV 2/5] END .............gamma=0.1, kernel=rbf;, score=0.987 total time=   0.2s\n",
      "[CV 3/5] END .............gamma=0.1, kernel=rbf;, score=0.988 total time=   0.2s\n",
      "[CV 4/5] END .............gamma=0.1, kernel=rbf;, score=0.987 total time=   0.2s\n",
      "[CV 5/5] END .............gamma=0.1, kernel=rbf;, score=0.986 total time=   0.2s\n",
      "[CV 1/5] END ............gamma=0.01, kernel=rbf;, score=0.982 total time=   0.2s\n",
      "[CV 2/5] END ............gamma=0.01, kernel=rbf;, score=0.986 total time=   0.2s\n",
      "[CV 3/5] END ............gamma=0.01, kernel=rbf;, score=0.986 total time=   0.2s\n",
      "[CV 4/5] END ............gamma=0.01, kernel=rbf;, score=0.981 total time=   0.2s\n",
      "[CV 5/5] END ............gamma=0.01, kernel=rbf;, score=0.985 total time=   0.1s\n",
      "[CV 1/5] END ...........gamma=0.001, kernel=rbf;, score=0.982 total time=   0.2s\n",
      "[CV 2/5] END ...........gamma=0.001, kernel=rbf;, score=0.982 total time=   0.2s\n",
      "[CV 3/5] END ...........gamma=0.001, kernel=rbf;, score=0.984 total time=   0.2s\n",
      "[CV 4/5] END ...........gamma=0.001, kernel=rbf;, score=0.981 total time=   0.2s\n",
      "[CV 5/5] END ...........gamma=0.001, kernel=rbf;, score=0.983 total time=   0.2s\n"
     ]
    }
   ],
   "source": [
    "from sklearn.svm import SVC\n",
    "from sklearn.model_selection import GridSearchCV\n",
    "\n",
    "param_grid = {'gamma': [1, 0.1, 0.01, 0.001],\n",
    "              'kernel': ['rbf']} \n",
    "\n",
    "# instantiate the model \n",
    "svm1 = GridSearchCV(SVC(probability=True), param_grid, refit = True, verbose = 3)\n",
    "\n",
    "# fit the model \n",
    "svm1.fit(X_train_encode, y_train)\n",
    "\n",
    "#predicting the target value from the model for the samples\n",
    "\n",
    "y_pred = svm1.predict(X_test_encode)\n",
    "\n",
    "svm_acc1 = accuracy_score(y_pred, y_test)\n",
    "svm_prec1 = precision_score(y_pred, y_test,average='weighted')\n",
    "svm_rec1 = recall_score(y_pred, y_test,average='weighted')\n",
    "svm_f1_1 = f1_score(y_pred, y_test,average='weighted')\n",
    "svm_auroc1 = roc_auc_score(y_test, svm1.predict_proba(X_test_encode)[:, 1])\n",
    "svm_geo1 = geometric_mean_score(y_test, y_pred, average='weighted')\n",
    "svm_spec1 = specificity_score(y_test, y_pred, average='weighted')\n",
    "svm_sens1 = sensitivity_score(y_test, y_pred, average='weighted')\n",
    "\n",
    "storeResults('CDAAE - SVM',svm_acc1,svm_prec1,svm_rec1,svm_f1_1,svm_auroc1,svm_geo1,svm_spec1,svm_sens1)"
   ]
  },
  {
   "cell_type": "markdown",
   "metadata": {},
   "source": [
    "# RAndom FOrest"
   ]
  },
  {
   "cell_type": "code",
   "execution_count": 50,
   "metadata": {},
   "outputs": [],
   "source": [
    "from sklearn.ensemble import RandomForestClassifier\n",
    "from sklearn.model_selection import GridSearchCV,RandomizedSearchCV\n",
    "\n",
    "param_grid = {\n",
    "    'n_estimators': [5,10,20,40,80,150]\n",
    "}\n",
    "\n",
    "forest1 = GridSearchCV(RandomForestClassifier(),param_grid=param_grid)\n",
    "# fit the model \n",
    "forest1.fit(X_train_encode, y_train)\n",
    "\n",
    "#predicting the target value from the model for the samples\n",
    "\n",
    "y_pred = forest1.predict(X_test_encode)\n",
    "\n",
    "rf1_acc = accuracy_score(y_pred, y_test)\n",
    "rf1_prec = precision_score(y_pred, y_test,average='weighted')\n",
    "rf1_rec = recall_score(y_pred, y_test,average='weighted')\n",
    "rf1_f1 = f1_score(y_pred, y_test,average='weighted')\n",
    "rf1_auroc = roc_auc_score(y_test, forest1.predict_proba(X_test_encode)[:, 1])\n",
    "rf1_geo = geometric_mean_score(y_test, y_pred, average='weighted')\n",
    "rf1_spec = specificity_score(y_test, y_pred, average='weighted')\n",
    "rf1_sens = sensitivity_score(y_test, y_pred, average='weighted')\n",
    "\n",
    "storeResults('CDAAE - RF',rf1_acc,rf1_prec,rf1_rec,rf1_f1,rf1_auroc,rf1_geo,rf1_spec,rf1_sens)"
   ]
  },
  {
   "cell_type": "markdown",
   "metadata": {},
   "source": [
    "# Decision Tree"
   ]
  },
  {
   "cell_type": "code",
   "execution_count": 51,
   "metadata": {},
   "outputs": [
    {
     "name": "stdout",
     "output_type": "stream",
     "text": [
      "Fitting 4 folds for each of 8 candidates, totalling 32 fits\n"
     ]
    }
   ],
   "source": [
    "from sklearn.tree import DecisionTreeClassifier\n",
    "\n",
    "params = {\n",
    "    'max_depth': [5,6,7,8,9,10,50,100]\n",
    "}\n",
    "\n",
    "tree1 = GridSearchCV(estimator=DecisionTreeClassifier(random_state=42), param_grid=params, cv=4, n_jobs=-1, verbose=1)\n",
    "\n",
    "tree1.fit(X_train_encode, y_train)\n",
    "\n",
    "#predicting the target value from the model for the samples\n",
    "\n",
    "y_pred = tree1.predict(X_test_encode)\n",
    "\n",
    "dt1_acc = accuracy_score(y_pred, y_test)\n",
    "dt1_prec = precision_score(y_pred, y_test,average='weighted')\n",
    "dt1_rec = recall_score(y_pred, y_test,average='weighted')\n",
    "dt1_f1 = f1_score(y_pred, y_test,average='weighted')\n",
    "dt1_auroc = roc_auc_score(y_test, tree1.predict_proba(X_test_encode)[:, 1])\n",
    "dt1_geo = geometric_mean_score(y_test, y_pred, average='weighted')\n",
    "dt1_spec = specificity_score(y_test, y_pred, average='weighted')\n",
    "dt1_sens = sensitivity_score(y_test, y_pred, average='weighted')\n",
    "\n",
    "storeResults('CDAAE - DT',dt1_acc,dt1_prec,dt1_rec,dt1_f1,dt1_auroc,dt1_geo,dt1_spec,dt1_sens)"
   ]
  },
  {
   "cell_type": "markdown",
   "metadata": {},
   "source": [
    "# Stacking Classifier"
   ]
  },
  {
   "cell_type": "code",
   "execution_count": 52,
   "metadata": {},
   "outputs": [],
   "source": [
    "from sklearn.ensemble import StackingClassifier\n",
    "from sklearn.preprocessing import StandardScaler\n",
    "from sklearn.pipeline import make_pipeline\n",
    "from sklearn.ensemble import ExtraTreesClassifier\n",
    "from sklearn.svm import LinearSVC\n",
    "from sklearn.linear_model import LogisticRegression\n",
    "\n",
    "estimators = [('et', ExtraTreesClassifier(n_estimators=100, random_state=0)),('svr', make_pipeline(StandardScaler(),LinearSVC(random_state=42)))]\n",
    "\n",
    "clf = StackingClassifier(estimators=estimators, final_estimator=LogisticRegression())\n",
    "clf.fit(X_train, y_train)\n",
    "\n",
    "#predicting the target value from the model for the samples\n",
    "\n",
    "y_pred = clf.predict(X_test)\n",
    "\n",
    "stac1_acc = accuracy_score(y_pred, y_test)\n",
    "stac1_prec = precision_score(y_pred, y_test,average='weighted')\n",
    "stac1_rec = recall_score(y_pred, y_test,average='weighted')\n",
    "stac1_f1 = f1_score(y_pred, y_test,average='weighted')\n",
    "stac1_auroc = roc_auc_score(y_test, clf.predict_proba(X_test)[:, 1])\n",
    "stac1_geo = geometric_mean_score(y_test, y_pred, average='weighted')\n",
    "stac1_spec = specificity_score(y_test, y_pred, average='weighted')\n",
    "stac1_sens = sensitivity_score(y_test, y_pred, average='weighted')\n",
    "\n",
    "stac1_acc\n",
    "storeResults('CDAAE-STACKING',stac1_acc,stac1_prec,stac1_rec,stac1_f1,stac1_auroc,stac1_geo,stac1_spec,stac1_sens)"
   ]
  },
  {
   "cell_type": "markdown",
   "metadata": {},
   "source": [
    "# CDAAE-KNN"
   ]
  },
  {
   "cell_type": "code",
   "execution_count": 53,
   "metadata": {},
   "outputs": [],
   "source": [
    "X_train, X_test, y_train, y_test = train_test_split(X_2, y, test_size=0.33, random_state=1)"
   ]
  },
  {
   "cell_type": "code",
   "execution_count": 54,
   "metadata": {},
   "outputs": [],
   "source": [
    "import matplotlib.pyplot as plt\n",
    "n_train = np.array(X_train)\n",
    "n_test = np.array(X_test)"
   ]
  },
  {
   "cell_type": "code",
   "execution_count": 55,
   "metadata": {},
   "outputs": [
    {
     "name": "stdout",
     "output_type": "stream",
     "text": [
      "6\n",
      "(6700, 6)\n"
     ]
    },
    {
     "data": {
      "image/png": "[encoded data removed]",
      "text/plain": [
       "<Figure size 432x288 with 1 Axes>"
      ]
     },
     "metadata": {
      "needs_background": "light"
     },
     "output_type": "display_data"
    }
   ],
   "source": [
    "from keras.layers import Input, Dense\n",
    "from keras.models import Model\n",
    "import tensorflow as tf\n",
    "\n",
    "input_dim = n_train.shape[1]\n",
    "feature_dim = [25, 20, 15, 10]\n",
    "print(input_dim)\n",
    "inputs = Input(shape=(input_dim,))\n",
    "encoded = inputs\n",
    "encoded = Dense(feature_dim[0], kernel_initializer=\"uniform\")(encoded)\n",
    "encoded = Dense(feature_dim[1], kernel_initializer=\"uniform\")(encoded)\n",
    "encoded = Dense(feature_dim[2], kernel_initializer=\"uniform\")(encoded)\n",
    "encoded = Dense(feature_dim[3], kernel_initializer=\"uniform\")(encoded)\n",
    "\n",
    "decoded = encoded\n",
    "decoded = Dense(feature_dim[2], kernel_initializer=\"uniform\")(decoded)\n",
    "decoded = Dense(feature_dim[1], kernel_initializer=\"uniform\")(decoded)\n",
    "decoded = Dense(feature_dim[0], kernel_initializer=\"uniform\")(decoded)\n",
    "decoded = Dense(input_dim, kernel_initializer=\"uniform\")(decoded)\n",
    "\n",
    "\n",
    "autoencoder = Model(inputs, decoded)\n",
    "autoencoder.compile(optimizer='adadelta', loss='mse')\n",
    "\n",
    "autoencoder.fit(n_train, n_train,\n",
    "                verbose=0,\n",
    "                epochs=200,\n",
    "                batch_size=2,\n",
    "                shuffle=True,\n",
    "                validation_data=(n_test, n_test))\n",
    "\n",
    "predict_vals = autoencoder.predict(n_train)\n",
    "print(predict_vals.shape)\n",
    "plt.plot(predict_vals)\n",
    "plt.show()"
   ]
  },
  {
   "cell_type": "code",
   "execution_count": 56,
   "metadata": {},
   "outputs": [
    {
     "name": "stdout",
     "output_type": "stream",
     "text": [
      "Accuracy: 98.697%\n"
     ]
    }
   ],
   "source": [
    "from keras.models import Sequential\n",
    "\n",
    "featuremodel = Sequential()\n",
    "featuremodel.add(Dense(feature_dim[0], input_shape=(input_dim,), weights=autoencoder.layers[1].get_weights()))\n",
    "featuremodel.add(Dense(feature_dim[1], weights=autoencoder.layers[2].get_weights()))\n",
    "featuremodel.add(Dense(feature_dim[2], weights=autoencoder.layers[3].get_weights()))\n",
    "featuremodel.add(Dense(feature_dim[3], weights=autoencoder.layers[4].get_weights()))\n",
    "\n",
    "featuremodel.compile(optimizer='adadelta', loss='mse')\n",
    "\n",
    "from sklearn.neighbors import KNeighborsClassifier\n",
    "model = KNeighborsClassifier(n_neighbors=3)\n",
    "model.fit(X_train,y_train)\n",
    "prediction=model.predict(X_test)\n",
    "print(\"Accuracy: %s\" % \"{0:.3%}\".format(metrics.accuracy_score(prediction, y_test)))"
   ]
  },
  {
   "cell_type": "markdown",
   "metadata": {},
   "source": [
    "# SVM"
   ]
  },
  {
   "cell_type": "code",
   "execution_count": 57,
   "metadata": {},
   "outputs": [
    {
     "name": "stdout",
     "output_type": "stream",
     "text": [
      "Fitting 5 folds for each of 4 candidates, totalling 20 fits\n",
      "[CV 1/5] END ...............gamma=1, kernel=rbf;, score=0.976 total time=   0.3s\n",
      "[CV 2/5] END ...............gamma=1, kernel=rbf;, score=0.975 total time=   0.3s\n",
      "[CV 3/5] END ...............gamma=1, kernel=rbf;, score=0.975 total time=   0.3s\n",
      "[CV 4/5] END ...............gamma=1, kernel=rbf;, score=0.975 total time=   0.3s\n",
      "[CV 5/5] END ...............gamma=1, kernel=rbf;, score=0.975 total time=   0.3s\n",
      "[CV 1/5] END .............gamma=0.1, kernel=rbf;, score=0.976 total time=   0.2s\n",
      "[CV 2/5] END .............gamma=0.1, kernel=rbf;, score=0.975 total time=   0.2s\n",
      "[CV 3/5] END .............gamma=0.1, kernel=rbf;, score=0.975 total time=   0.2s\n",
      "[CV 4/5] END .............gamma=0.1, kernel=rbf;, score=0.975 total time=   0.2s\n",
      "[CV 5/5] END .............gamma=0.1, kernel=rbf;, score=0.975 total time=   0.2s\n",
      "[CV 1/5] END ............gamma=0.01, kernel=rbf;, score=0.976 total time=   0.2s\n",
      "[CV 2/5] END ............gamma=0.01, kernel=rbf;, score=0.975 total time=   0.2s\n",
      "[CV 3/5] END ............gamma=0.01, kernel=rbf;, score=0.975 total time=   0.2s\n",
      "[CV 4/5] END ............gamma=0.01, kernel=rbf;, score=0.975 total time=   0.2s\n",
      "[CV 5/5] END ............gamma=0.01, kernel=rbf;, score=0.975 total time=   0.2s\n",
      "[CV 1/5] END ...........gamma=0.001, kernel=rbf;, score=0.976 total time=   0.2s\n",
      "[CV 2/5] END ...........gamma=0.001, kernel=rbf;, score=0.975 total time=   0.2s\n",
      "[CV 3/5] END ...........gamma=0.001, kernel=rbf;, score=0.975 total time=   0.2s\n",
      "[CV 4/5] END ...........gamma=0.001, kernel=rbf;, score=0.975 total time=   0.2s\n",
      "[CV 5/5] END ...........gamma=0.001, kernel=rbf;, score=0.975 total time=   0.2s\n"
     ]
    }
   ],
   "source": [
    "from sklearn.svm import SVC\n",
    "from sklearn.model_selection import GridSearchCV\n",
    "\n",
    "param_grid = {'gamma': [1, 0.1, 0.01, 0.001],\n",
    "              'kernel': ['rbf']} \n",
    "\n",
    "# instantiate the model \n",
    "svm1 = GridSearchCV(SVC(probability=True), param_grid, refit = True, verbose = 3)\n",
    "\n",
    "# fit the model \n",
    "svm1.fit(featuremodel.predict(n_train), y_train)\n",
    "\n",
    "#predicting the target value from the model for the samples\n",
    "\n",
    "y_pred = svm1.predict(featuremodel.predict(n_test))\n",
    "\n",
    "svm_acc1 = accuracy_score(y_pred, y_test)\n",
    "svm_prec1 = precision_score(y_pred, y_test,average='weighted')\n",
    "svm_rec1 = recall_score(y_pred, y_test,average='weighted')\n",
    "svm_f1_1 = f1_score(y_pred, y_test,average='weighted')\n",
    "svm_auroc1 = roc_auc_score(y_test, svm1.predict_proba(featuremodel.predict(n_test))[:, 1])\n",
    "svm_geo1 = geometric_mean_score(y_test, y_pred, average='weighted')\n",
    "svm_spec1 = specificity_score(y_test, y_pred, average='weighted')\n",
    "svm_sens1 = sensitivity_score(y_test, y_pred, average='weighted')\n",
    "\n",
    "storeResults('CDAAE-KNN - SVM',svm_acc1,svm_prec1,svm_rec1,svm_f1_1,svm_auroc1,svm_geo1,svm_spec1,svm_sens1)"
   ]
  },
  {
   "cell_type": "markdown",
   "metadata": {},
   "source": [
    "# Random FOrest"
   ]
  },
  {
   "cell_type": "code",
   "execution_count": 58,
   "metadata": {},
   "outputs": [],
   "source": [
    "from sklearn.ensemble import RandomForestClassifier\n",
    "from sklearn.model_selection import GridSearchCV,RandomizedSearchCV\n",
    "\n",
    "param_grid = {\n",
    "    'n_estimators': [5,10,20,40,80,150]\n",
    "}\n",
    "\n",
    "forest1 = GridSearchCV(RandomForestClassifier(),param_grid=param_grid)\n",
    "# fit the model \n",
    "forest1.fit(featuremodel.predict(n_train), y_train)\n",
    "\n",
    "#predicting the target value from the model for the samples\n",
    "\n",
    "y_pred = forest1.predict(featuremodel.predict(n_test))\n",
    "\n",
    "rf1_acc = accuracy_score(y_pred, y_test)\n",
    "rf1_prec = precision_score(y_pred, y_test,average='weighted')\n",
    "rf1_rec = recall_score(y_pred, y_test,average='weighted')\n",
    "rf1_f1 = f1_score(y_pred, y_test,average='weighted')\n",
    "rf1_auroc = roc_auc_score(y_test, forest1.predict_proba(featuremodel.predict(n_test))[:, 1])\n",
    "rf1_geo = geometric_mean_score(y_test, y_pred, average='weighted')\n",
    "rf1_spec = specificity_score(y_test, y_pred, average='weighted')\n",
    "rf1_sens = sensitivity_score(y_test, y_pred, average='weighted')\n",
    "\n",
    "storeResults('CDAAE-KNN - RF',rf1_acc,rf1_prec,rf1_rec,rf1_f1,rf1_auroc,rf1_geo,rf1_spec,rf1_sens)"
   ]
  },
  {
   "cell_type": "markdown",
   "metadata": {},
   "source": [
    "# Decision Tree"
   ]
  },
  {
   "cell_type": "code",
   "execution_count": 59,
   "metadata": {},
   "outputs": [
    {
     "name": "stdout",
     "output_type": "stream",
     "text": [
      "Fitting 4 folds for each of 8 candidates, totalling 32 fits\n"
     ]
    }
   ],
   "source": [
    "from sklearn.tree import DecisionTreeClassifier\n",
    "\n",
    "params = {\n",
    "    'max_depth': [5,6,7,8,9,10,50,100]\n",
    "}\n",
    "\n",
    "tree1 = GridSearchCV(estimator=DecisionTreeClassifier(random_state=42), param_grid=params, cv=4, n_jobs=-1, verbose=1)\n",
    "\n",
    "tree1.fit(featuremodel.predict(n_train), y_train)\n",
    "\n",
    "#predicting the target value from the model for the samples\n",
    "\n",
    "y_pred = tree1.predict(featuremodel.predict(n_test))\n",
    "\n",
    "dt1_acc = accuracy_score(y_pred, y_test)\n",
    "dt1_prec = precision_score(y_pred, y_test,average='weighted')\n",
    "dt1_rec = recall_score(y_pred, y_test,average='weighted')\n",
    "dt1_f1 = f1_score(y_pred, y_test,average='weighted')\n",
    "dt1_auroc = roc_auc_score(y_test, tree1.predict_proba(featuremodel.predict(n_test))[:, 1])\n",
    "dt1_geo = geometric_mean_score(y_test, y_pred, average='weighted')\n",
    "dt1_spec = specificity_score(y_test, y_pred, average='weighted')\n",
    "dt1_sens = sensitivity_score(y_test, y_pred, average='weighted')\n",
    "\n",
    "storeResults('CDAAE-KNN - DT',dt1_acc,dt1_prec,dt1_rec,dt1_f1,dt1_auroc,dt1_geo,dt1_spec,dt1_sens)"
   ]
  },
  {
   "cell_type": "markdown",
   "metadata": {},
   "source": [
    "# Stacking Classifier"
   ]
  },
  {
   "cell_type": "code",
   "execution_count": 60,
   "metadata": {},
   "outputs": [],
   "source": [
    "from sklearn.ensemble import StackingClassifier\n",
    "from sklearn.preprocessing import StandardScaler\n",
    "from sklearn.pipeline import make_pipeline\n",
    "from sklearn.ensemble import ExtraTreesClassifier\n",
    "from sklearn.svm import LinearSVC\n",
    "from sklearn.linear_model import LogisticRegression\n",
    "\n",
    "estimators = [('et', ExtraTreesClassifier(n_estimators=100, random_state=0)),('svr', make_pipeline(StandardScaler(),LinearSVC(random_state=42)))]\n",
    "\n",
    "clf = StackingClassifier(estimators=estimators, final_estimator=LogisticRegression())\n",
    "clf.fit(X_train, y_train)\n",
    "\n",
    "#predicting the target value from the model for the samples\n",
    "\n",
    "y_pred = clf.predict(X_test)\n",
    "\n",
    "stac1_acc = accuracy_score(y_pred, y_test)\n",
    "stac1_prec = precision_score(y_pred, y_test,average='weighted')\n",
    "stac1_rec = recall_score(y_pred, y_test,average='weighted')\n",
    "stac1_f1 = f1_score(y_pred, y_test,average='weighted')\n",
    "stac1_auroc = roc_auc_score(y_test, clf.predict_proba(X_test)[:, 1])\n",
    "stac1_geo = geometric_mean_score(y_test, y_pred, average='weighted')\n",
    "stac1_spec = specificity_score(y_test, y_pred, average='weighted')\n",
    "stac1_sens = sensitivity_score(y_test, y_pred, average='weighted')\n",
    "\n",
    "stac1_acc\n",
    "storeResults('CDAAE-KNN-STACKING',stac1_acc,stac1_prec,stac1_rec,stac1_f1,stac1_auroc,stac1_geo,stac1_spec,stac1_sens)"
   ]
  },
  {
   "cell_type": "markdown",
   "metadata": {},
   "source": [
    "# Comparison"
   ]
  },
  {
   "cell_type": "code",
   "execution_count": 61,
   "metadata": {},
   "outputs": [],
   "source": [
    "#creating dataframe\n",
    "result = pd.DataFrame({ 'ML Model' : ML_Model,\n",
    "                        'Accuracy' : accuracy,\n",
    "                       'Precision': precision,\n",
    "                       'Recall'   : recall, \n",
    "                       'F1_score' : f1score,\n",
    "                       'AUC Score' : auc,\n",
    "                       'Geometric Metric Score' : geo,\n",
    "                       'Specificity' : spec,\n",
    "                       'Sensitivity' : sens\n",
    "                        \n",
    "                      }) "
   ]
  },
  {
   "cell_type": "code",
   "execution_count": 62,
   "metadata": {},
   "outputs": [
    {
     "data": {
      "text/html": [
       "<div>\n",
       "<style scoped>\n",
       "    .dataframe tbody tr th:only-of-type {\n",
       "        vertical-align: middle;\n",
       "    }\n",
       "\n",
       "    .dataframe tbody tr th {\n",
       "        vertical-align: top;\n",
       "    }\n",
       "\n",
       "    .dataframe thead th {\n",
       "        text-align: right;\n",
       "    }\n",
       "</style>\n",
       "<table border=\"1\" class=\"dataframe\">\n",
       "  <thead>\n",
       "    <tr style=\"text-align: right;\">\n",
       "      <th></th>\n",
       "      <th>ML Model</th>\n",
       "      <th>Accuracy</th>\n",
       "      <th>Precision</th>\n",
       "      <th>Recall</th>\n",
       "      <th>F1_score</th>\n",
       "      <th>AUC Score</th>\n",
       "      <th>Geometric Metric Score</th>\n",
       "      <th>Specificity</th>\n",
       "      <th>Sensitivity</th>\n",
       "    </tr>\n",
       "  </thead>\n",
       "  <tbody>\n",
       "    <tr>\n",
       "      <th>0</th>\n",
       "      <td>Original - SVM</td>\n",
       "      <td>0.981</td>\n",
       "      <td>0.989</td>\n",
       "      <td>0.981</td>\n",
       "      <td>0.984</td>\n",
       "      <td>0.682</td>\n",
       "      <td>0.613</td>\n",
       "      <td>0.383</td>\n",
       "      <td>0.981</td>\n",
       "    </tr>\n",
       "    <tr>\n",
       "      <th>1</th>\n",
       "      <td>Original - RF</td>\n",
       "      <td>0.982</td>\n",
       "      <td>0.986</td>\n",
       "      <td>0.982</td>\n",
       "      <td>0.984</td>\n",
       "      <td>0.959</td>\n",
       "      <td>0.688</td>\n",
       "      <td>0.482</td>\n",
       "      <td>0.982</td>\n",
       "    </tr>\n",
       "    <tr>\n",
       "      <th>2</th>\n",
       "      <td>Original - DT</td>\n",
       "      <td>0.984</td>\n",
       "      <td>0.994</td>\n",
       "      <td>0.984</td>\n",
       "      <td>0.988</td>\n",
       "      <td>0.935</td>\n",
       "      <td>0.614</td>\n",
       "      <td>0.383</td>\n",
       "      <td>0.984</td>\n",
       "    </tr>\n",
       "    <tr>\n",
       "      <th>3</th>\n",
       "      <td>Original - Stacking</td>\n",
       "      <td>0.982</td>\n",
       "      <td>0.988</td>\n",
       "      <td>0.982</td>\n",
       "      <td>0.984</td>\n",
       "      <td>0.954</td>\n",
       "      <td>0.659</td>\n",
       "      <td>0.442</td>\n",
       "      <td>0.982</td>\n",
       "    </tr>\n",
       "    <tr>\n",
       "      <th>4</th>\n",
       "      <td>SMOTE - SVM</td>\n",
       "      <td>0.950</td>\n",
       "      <td>0.951</td>\n",
       "      <td>0.950</td>\n",
       "      <td>0.950</td>\n",
       "      <td>0.964</td>\n",
       "      <td>0.950</td>\n",
       "      <td>0.951</td>\n",
       "      <td>0.950</td>\n",
       "    </tr>\n",
       "    <tr>\n",
       "      <th>5</th>\n",
       "      <td>SMOTE - RF</td>\n",
       "      <td>0.951</td>\n",
       "      <td>0.952</td>\n",
       "      <td>0.951</td>\n",
       "      <td>0.951</td>\n",
       "      <td>0.989</td>\n",
       "      <td>0.951</td>\n",
       "      <td>0.952</td>\n",
       "      <td>0.951</td>\n",
       "    </tr>\n",
       "    <tr>\n",
       "      <th>6</th>\n",
       "      <td>SMOTE - DT</td>\n",
       "      <td>0.950</td>\n",
       "      <td>0.951</td>\n",
       "      <td>0.950</td>\n",
       "      <td>0.950</td>\n",
       "      <td>0.988</td>\n",
       "      <td>0.950</td>\n",
       "      <td>0.951</td>\n",
       "      <td>0.950</td>\n",
       "    </tr>\n",
       "    <tr>\n",
       "      <th>7</th>\n",
       "      <td>SMOTE-STACKING</td>\n",
       "      <td>0.951</td>\n",
       "      <td>0.952</td>\n",
       "      <td>0.951</td>\n",
       "      <td>0.951</td>\n",
       "      <td>0.989</td>\n",
       "      <td>0.952</td>\n",
       "      <td>0.952</td>\n",
       "      <td>0.951</td>\n",
       "    </tr>\n",
       "    <tr>\n",
       "      <th>8</th>\n",
       "      <td>CDAAE - SVM</td>\n",
       "      <td>0.986</td>\n",
       "      <td>0.994</td>\n",
       "      <td>0.986</td>\n",
       "      <td>0.989</td>\n",
       "      <td>0.838</td>\n",
       "      <td>0.662</td>\n",
       "      <td>0.444</td>\n",
       "      <td>0.986</td>\n",
       "    </tr>\n",
       "    <tr>\n",
       "      <th>9</th>\n",
       "      <td>CDAAE - RF</td>\n",
       "      <td>0.988</td>\n",
       "      <td>0.992</td>\n",
       "      <td>0.988</td>\n",
       "      <td>0.989</td>\n",
       "      <td>0.924</td>\n",
       "      <td>0.757</td>\n",
       "      <td>0.580</td>\n",
       "      <td>0.988</td>\n",
       "    </tr>\n",
       "    <tr>\n",
       "      <th>10</th>\n",
       "      <td>CDAAE - DT</td>\n",
       "      <td>0.986</td>\n",
       "      <td>0.992</td>\n",
       "      <td>0.986</td>\n",
       "      <td>0.988</td>\n",
       "      <td>0.901</td>\n",
       "      <td>0.698</td>\n",
       "      <td>0.493</td>\n",
       "      <td>0.986</td>\n",
       "    </tr>\n",
       "    <tr>\n",
       "      <th>11</th>\n",
       "      <td>CDAAE-STACKING</td>\n",
       "      <td>0.988</td>\n",
       "      <td>0.992</td>\n",
       "      <td>0.988</td>\n",
       "      <td>0.989</td>\n",
       "      <td>0.920</td>\n",
       "      <td>0.732</td>\n",
       "      <td>0.543</td>\n",
       "      <td>0.988</td>\n",
       "    </tr>\n",
       "    <tr>\n",
       "      <th>12</th>\n",
       "      <td>CDAAE-KNN - SVM</td>\n",
       "      <td>0.976</td>\n",
       "      <td>1.000</td>\n",
       "      <td>0.976</td>\n",
       "      <td>0.988</td>\n",
       "      <td>0.591</td>\n",
       "      <td>0.153</td>\n",
       "      <td>0.024</td>\n",
       "      <td>0.976</td>\n",
       "    </tr>\n",
       "    <tr>\n",
       "      <th>13</th>\n",
       "      <td>CDAAE-KNN - RF</td>\n",
       "      <td>0.985</td>\n",
       "      <td>0.989</td>\n",
       "      <td>0.985</td>\n",
       "      <td>0.986</td>\n",
       "      <td>0.891</td>\n",
       "      <td>0.714</td>\n",
       "      <td>0.518</td>\n",
       "      <td>0.985</td>\n",
       "    </tr>\n",
       "    <tr>\n",
       "      <th>14</th>\n",
       "      <td>CDAAE-KNN - DT</td>\n",
       "      <td>0.984</td>\n",
       "      <td>0.990</td>\n",
       "      <td>0.984</td>\n",
       "      <td>0.987</td>\n",
       "      <td>0.883</td>\n",
       "      <td>0.670</td>\n",
       "      <td>0.456</td>\n",
       "      <td>0.984</td>\n",
       "    </tr>\n",
       "    <tr>\n",
       "      <th>15</th>\n",
       "      <td>CDAAE-KNN-STACKING</td>\n",
       "      <td>0.988</td>\n",
       "      <td>0.992</td>\n",
       "      <td>0.988</td>\n",
       "      <td>0.989</td>\n",
       "      <td>0.920</td>\n",
       "      <td>0.732</td>\n",
       "      <td>0.543</td>\n",
       "      <td>0.988</td>\n",
       "    </tr>\n",
       "  </tbody>\n",
       "</table>\n",
       "</div>"
      ],
      "text/plain": [
       "               ML Model  Accuracy  Precision  Recall  F1_score  AUC Score  \\\n",
       "0        Original - SVM     0.981      0.989   0.981     0.984      0.682   \n",
       "1         Original - RF     0.982      0.986   0.982     0.984      0.959   \n",
       "2         Original - DT     0.984      0.994   0.984     0.988      0.935   \n",
       "3   Original - Stacking     0.982      0.988   0.982     0.984      0.954   \n",
       "4           SMOTE - SVM     0.950      0.951   0.950     0.950      0.964   \n",
       "5            SMOTE - RF     0.951      0.952   0.951     0.951      0.989   \n",
       "6            SMOTE - DT     0.950      0.951   0.950     0.950      0.988   \n",
       "7        SMOTE-STACKING     0.951      0.952   0.951     0.951      0.989   \n",
       "8           CDAAE - SVM     0.986      0.994   0.986     0.989      0.838   \n",
       "9            CDAAE - RF     0.988      0.992   0.988     0.989      0.924   \n",
       "10           CDAAE - DT     0.986      0.992   0.986     0.988      0.901   \n",
       "11       CDAAE-STACKING     0.988      0.992   0.988     0.989      0.920   \n",
       "12      CDAAE-KNN - SVM     0.976      1.000   0.976     0.988      0.591   \n",
       "13       CDAAE-KNN - RF     0.985      0.989   0.985     0.986      0.891   \n",
       "14       CDAAE-KNN - DT     0.984      0.990   0.984     0.987      0.883   \n",
       "15   CDAAE-KNN-STACKING     0.988      0.992   0.988     0.989      0.920   \n",
       "\n",
       "    Geometric Metric Score  Specificity  Sensitivity  \n",
       "0                    0.613        0.383        0.981  \n",
       "1                    0.688        0.482        0.982  \n",
       "2                    0.614        0.383        0.984  \n",
       "3                    0.659        0.442        0.982  \n",
       "4                    0.950        0.951        0.950  \n",
       "5                    0.951        0.952        0.951  \n",
       "6                    0.950        0.951        0.950  \n",
       "7                    0.952        0.952        0.951  \n",
       "8                    0.662        0.444        0.986  \n",
       "9                    0.757        0.580        0.988  \n",
       "10                   0.698        0.493        0.986  \n",
       "11                   0.732        0.543        0.988  \n",
       "12                   0.153        0.024        0.976  \n",
       "13                   0.714        0.518        0.985  \n",
       "14                   0.670        0.456        0.984  \n",
       "15                   0.732        0.543        0.988  "
      ]
     },
     "execution_count": 62,
     "metadata": {},
     "output_type": "execute_result"
    }
   ],
   "source": [
    "result"
   ]
  },
  {
   "cell_type": "markdown",
   "metadata": {},
   "source": [
    "# Graph"
   ]
  },
  {
   "cell_type": "code",
   "execution_count": 63,
   "metadata": {},
   "outputs": [],
   "source": [
    "classifier = ML_Model\n",
    "y_pos = np.arange(len(classifier))"
   ]
  },
  {
   "cell_type": "markdown",
   "metadata": {},
   "source": [
    "# Accuracy"
   ]
  },
  {
   "cell_type": "code",
   "execution_count": 64,
   "metadata": {},
   "outputs": [
    {
     "data": {
      "image/png": "[encoded data removed]",
      "text/plain": [
       "<Figure size 432x288 with 1 Axes>"
      ]
     },
     "metadata": {
      "needs_background": "light"
     },
     "output_type": "display_data"
    }
   ],
   "source": [
    "import matplotlib.pyplot as plt2\n",
    "plt2.barh(y_pos, accuracy, align='center', alpha=0.5,color='blue')\n",
    "plt2.yticks(y_pos, classifier)\n",
    "plt2.xlabel('Accuracy Score')\n",
    "plt2.title('Classification Performance')\n",
    "plt2.show()"
   ]
  },
  {
   "cell_type": "markdown",
   "metadata": {},
   "source": [
    "# Precision"
   ]
  },
  {
   "cell_type": "code",
   "execution_count": 65,
   "metadata": {},
   "outputs": [
    {
     "data": {
      "image/png": "[encoded data removed]",
      "text/plain": [
       "<Figure size 432x288 with 1 Axes>"
      ]
     },
     "metadata": {
      "needs_background": "light"
     },
     "output_type": "display_data"
    }
   ],
   "source": [
    "import matplotlib.pyplot as plt2\n",
    "plt2.barh(y_pos, precision, align='center', alpha=0.5,color='red')\n",
    "plt2.yticks(y_pos, classifier)\n",
    "plt2.xlabel('Precision Score')\n",
    "plt2.title('Classification Performance')\n",
    "plt2.show()"
   ]
  },
  {
   "cell_type": "markdown",
   "metadata": {},
   "source": [
    "# Recall"
   ]
  },
  {
   "cell_type": "code",
   "execution_count": 66,
   "metadata": {},
   "outputs": [
    {
     "data": {
      "image/png": "[encoded data removed]",
      "text/plain": [
       "<Figure size 432x288 with 1 Axes>"
      ]
     },
     "metadata": {
      "needs_background": "light"
     },
     "output_type": "display_data"
    }
   ],
   "source": [
    "import matplotlib.pyplot as plt2\n",
    "plt2.barh(y_pos, recall, align='center', alpha=0.5,color='yellow')\n",
    "plt2.yticks(y_pos, classifier)\n",
    "plt2.xlabel('Recall Score')\n",
    "plt2.title('Classification Performance')\n",
    "plt2.show()"
   ]
  },
  {
   "cell_type": "markdown",
   "metadata": {},
   "source": [
    "# F1Score"
   ]
  },
  {
   "cell_type": "code",
   "execution_count": 67,
   "metadata": {},
   "outputs": [
    {
     "data": {
      "image/png": "[encoded data removed]",
      "text/plain": [
       "<Figure size 432x288 with 1 Axes>"
      ]
     },
     "metadata": {
      "needs_background": "light"
     },
     "output_type": "display_data"
    }
   ],
   "source": [
    "import matplotlib.pyplot as plt2\n",
    "plt2.barh(y_pos, f1score, align='center', alpha=0.5,color='pink')\n",
    "plt2.yticks(y_pos, classifier)\n",
    "plt2.xlabel('F1 Score')\n",
    "plt2.title('Classification Performance')\n",
    "plt2.show()"
   ]
  },
  {
   "cell_type": "markdown",
   "metadata": {},
   "source": [
    "# AUC Score"
   ]
  },
  {
   "cell_type": "code",
   "execution_count": 68,
   "metadata": {},
   "outputs": [
    {
     "data": {
      "image/png": "[encoded data removed]",
      "text/plain": [
       "<Figure size 432x288 with 1 Axes>"
      ]
     },
     "metadata": {
      "needs_background": "light"
     },
     "output_type": "display_data"
    }
   ],
   "source": [
    "import matplotlib.pyplot as plt2\n",
    "plt2.barh(y_pos, auc, align='center', alpha=0.5,color='orange')\n",
    "plt2.yticks(y_pos, classifier)\n",
    "plt2.xlabel('AUC Score')\n",
    "plt2.title('Classification Performance')\n",
    "plt2.show()"
   ]
  },
  {
   "cell_type": "markdown",
   "metadata": {},
   "source": [
    "# Geometric SCore"
   ]
  },
  {
   "cell_type": "code",
   "execution_count": 69,
   "metadata": {},
   "outputs": [
    {
     "data": {
      "image/png": "[encoded data removed]",
      "text/plain": [
       "<Figure size 432x288 with 1 Axes>"
      ]
     },
     "metadata": {
      "needs_background": "light"
     },
     "output_type": "display_data"
    }
   ],
   "source": [
    "import matplotlib.pyplot as plt2\n",
    "plt2.barh(y_pos, geo, align='center', alpha=0.5,color='cyan')\n",
    "plt2.yticks(y_pos, classifier)\n",
    "plt2.xlabel('GEO Score')\n",
    "plt2.title('Classification Performance')\n",
    "plt2.show()"
   ]
  },
  {
   "cell_type": "markdown",
   "metadata": {},
   "source": [
    "# Specificity"
   ]
  },
  {
   "cell_type": "code",
   "execution_count": 70,
   "metadata": {},
   "outputs": [
    {
     "data": {
      "image/png": "[encoded data removed]",
      "text/plain": [
       "<Figure size 432x288 with 1 Axes>"
      ]
     },
     "metadata": {
      "needs_background": "light"
     },
     "output_type": "display_data"
    }
   ],
   "source": [
    "import matplotlib.pyplot as plt2\n",
    "plt2.barh(y_pos, spec, align='center', alpha=0.5,color='purple')\n",
    "plt2.yticks(y_pos, classifier)\n",
    "plt2.xlabel('Specificity Score')\n",
    "plt2.title('Classification Performance')\n",
    "plt2.show()"
   ]
  },
  {
   "cell_type": "markdown",
   "metadata": {},
   "source": [
    "# Sensitivity"
   ]
  },
  {
   "cell_type": "code",
   "execution_count": 71,
   "metadata": {},
   "outputs": [
    {
     "data": {
      "image/png": "[encoded data removed]",
      "text/plain": [
       "<Figure size 432x288 with 1 Axes>"
      ]
     },
     "metadata": {
      "needs_background": "light"
     },
     "output_type": "display_data"
    }
   ],
   "source": [
    "import matplotlib.pyplot as plt2\n",
    "plt2.barh(y_pos, sens, align='center', alpha=0.5,color='gold')\n",
    "plt2.yticks(y_pos, classifier)\n",
    "plt2.xlabel('Senseitivity Score')\n",
    "plt2.title('Classification Performance')\n",
    "plt2.show()"
   ]
  },
  {
   "cell_type": "markdown",
   "metadata": {},
   "source": [
    "# Modelling"
   ]
  },
  {
   "cell_type": "code",
   "execution_count": 72,
   "metadata": {},
   "outputs": [
    {
     "data": {
      "text/plain": [
       "['model_unsw.sav']"
      ]
     },
     "execution_count": 72,
     "metadata": {},
     "output_type": "execute_result"
    }
   ],
   "source": [
    "import joblib\n",
    "filename = 'model_unsw.sav'\n",
    "joblib.dump(clf_, filename)"
   ]
  },
  {
   "cell_type": "code",
   "execution_count": null,
   "metadata": {},
   "outputs": [],
   "source": []
  }
 ],
 "metadata": {
  "kernelspec": {
   "display_name": "Python 3",
   "language": "python",
   "name": "python3"
  },
  "language_info": {
   "codemirror_mode": {
    "name": "ipython",
    "version": 3
   },
   "file_extension": ".py",
   "mimetype": "text/x-python",
   "name": "python",
   "nbconvert_exporter": "python",
   "pygments_lexer": "ipython3",
   "version": "3.7.4"
  }
 },
 "nbformat": 4,
 "nbformat_minor": 2
}
